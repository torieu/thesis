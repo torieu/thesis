{
 "cells": [
  {
   "cell_type": "markdown",
   "id": "7ea6f785",
   "metadata": {
    "tags": []
   },
   "source": [
    "# vector swap\n",
    "\n"
   ]
  },
  {
   "cell_type": "code",
   "execution_count": 299,
   "id": "1ec4068e",
   "metadata": {},
   "outputs": [],
   "source": [
    "from generate import *\n",
    "from closest_vs_minimal import *\n",
    "\n",
    "# def gram_matrix(matrix) -> matrix:\n",
    "#     return matrix * matrix.transpose()\n",
    "\n",
    "# def vector_to_list(vector) -> list:\n",
    "#     return [float(num) for num in vector.list()]\n",
    "\n",
    "def find_real_minimum_genfile(G, current_row, inserted_component) -> vector:\n",
    "    \"\"\"\n",
    "    returns linear combination of the minimum over real numbers\n",
    "    the >current_row< parameter is the coordinate of fixed col/row idk\n",
    "    the >K< parameter is the number inserted into this column\n",
    "    \"\"\"\n",
    "    G = matrix_to_list(G)\n",
    "    dimension=len(G)\n",
    "    # print(dimension, \"dimension in FRM\")\n",
    "    matrixA = matrix(dimension - 1, dimension - 1, 0) # square matrix of size (dimension - 1) x (dimension - 1), filled with zeros.\n",
    "    matrixB = matrix(dimension - 1, 1, 0) # column matrix of size (dimension - 1) x 1, filled with zeros.\n",
    "    # matrixA[0,0] = 1\n",
    "    # print(\"G\",matrix(G))\n",
    "    a, b = 0, 0\n",
    "    for row in range(dimension):\n",
    "        if row != current_row:\n",
    "            matrixA[a] = [G[row][j] for j in range(len(G[row])) if j != current_row]\n",
    "            matrixB[b] = sum([inserted_component * G[row][j] for j in range(len(G[row])) if j == current_row])\n",
    "            a += 1\n",
    "            b += 1\n",
    "    # insert indices\n",
    "    # print(\"A\", matrixA,\"\\n\",\"b\", -(1)*matrixB, )\n",
    "    result = vector_to_list(matrixA.solve_right((-1)*(inserted_component) * matrixB))\n",
    "    result.insert(current_row-1, inserted_component)\n",
    "    return vector(result)"
   ]
  },
  {
   "cell_type": "code",
   "execution_count": 322,
   "id": "9063b197",
   "metadata": {},
   "outputs": [],
   "source": [
    "def swapping(basis_as_matrix):\n",
    "    basis_as_list= matrix_to_list(basis_as_matrix)\n",
    "    dim = len(basis_as_list)\n",
    "    # print(\"B = \",basis_as_list)\n",
    "    used_vectors =[[0]*dim]\n",
    "    used_vectors.extend(basis_as_list)\n",
    "\n",
    "    G = gram_matrix(basis_as_matrix)\n",
    "\n",
    "    basis_as_list.sort(key=lambda x: euclidean_norm(x))\n",
    "    # print(\"Basis na začatku: \")\n",
    "    # for i in range(dim):\n",
    "    #         print(\"  b_\",i, \" \", euclidean_norm(basis_as_list[i]), basis_as_list[i])\n",
    "    # print(\"--------------\")\n",
    "    basis_as_matrix=matrix(basis_as_list)\n",
    "    # print(basis_as_matrix)\n",
    "    # print(basis_as_list)\n",
    "\n",
    "    i = 0\n",
    "    while i < pocet_pruchodu*dim:\n",
    "#     for j in range(0,dimension):\n",
    "        # print(\"\\n\")\n",
    "        # print(i)\n",
    "        real_min = vector_to_list(find_real_minimum_genfile(G, i%dim, 1))\n",
    "\n",
    "        # print(evaluate_norms_at_cube(cube_points(real_min), basis_as_list))\n",
    "        \n",
    "        shortestLC = shortest_lc_in_cube(real_min, basis_as_matrix)\n",
    "        # print(real_min)\n",
    "        # print(shortestLC)\n",
    "        shortest_vector = vector(shortestLC)*basis_as_matrix\n",
    "        # print(\"sv\", shortest_vector,(shortest_vector).norm().n())\n",
    "        # print(\"used vectors\",used_vectors)\n",
    "        if vector_to_list(shortest_vector) in used_vectors:\n",
    "            #   print(\"ERROR: I already used the vector \", shortest_vector)\n",
    "              i+=1\n",
    "              continue\n",
    "        if shortest_vector.norm() > basis_as_matrix[-1].norm():\n",
    "            #   print(\"ERROR, LONGER VECTOR\")\n",
    "              i+=1\n",
    "              continue\n",
    "        # print(type(shortest_vector))\n",
    "        shortest_vector = vector_to_list(shortest_vector)\n",
    "        used_vectors.append(shortest_vector)\n",
    "        # print(\"basis to be thrown away\", basis_as_list[dimension-1])\n",
    "        basis_as_list[dim-1] = shortest_vector\n",
    "        # print(basis_as_list)\n",
    "        # print(\"basis new, should be SV\", basis_as_list[dimension-1])\n",
    "        basis_as_list.sort(key=lambda x: euclidean_norm(x))\n",
    "        # print(basis_as_list)\n",
    "        # for i in range(dim):\n",
    "                # print(\"  b_\",i, \" \", euclidean_norm(basis_as_list[i]), basis_as_list[i])\n",
    "        basis_as_matrix = matrix(basis_as_list)\n",
    "        G = gram_matrix(basis_as_matrix)\n",
    "    # print(\"reduced lll\",  (matrix_to_list(matrix(ZZ, basis_as_list).LLL())), euclidean_norm(first_nonzero_norm_vector(matrix_to_list(matrix(ZZ, basis_as_list).LLL()))))\n",
    "    return euclidean_norm(basis_as_list[0])\n",
    "\n",
    "\n",
    "    \n",
    "# možná se ještě vyplatí opravit cube takto: co když sii jako real-min uložím něco, co ale je moc daleko a  \n",
    "# fixací JINÉ souřadnice ale dostanu už správnej výsledek? ještě na to mrkni viko\n",
    "# tot je na opravu funkce compare with cube"
   ]
  },
  {
   "cell_type": "code",
   "execution_count": 319,
   "id": "0c7df828",
   "metadata": {},
   "outputs": [
    {
     "data": {
      "text/plain": [
       "((8, 4, -3), (-3, 0, -7))"
      ]
     },
     "execution_count": 319,
     "metadata": {},
     "output_type": "execute_result"
    }
   ],
   "source": [
    "def gaussian_reduction(b_1, b_2):\n",
    "    #  = basis_as_matrix[0]\n",
    "    # b_2 = basis_as_matrix[1]\n",
    "    b_1 = vector(b_1)\n",
    "    b_2 = vector(b_2)\n",
    "    if b_1.norm() < b_2.norm():\n",
    "        b_1 , b_2 = b_2, b_1\n",
    "    r = round(b_1.dot_product(b_2) / b_2.norm()**2)\n",
    "    a = b_1 - r * b_2\n",
    "    if a.norm() < b_2.norm():\n",
    "        a, b_2 = gaussian_reduction(a, b_2)\n",
    "    return a, b_2\n",
    "\n",
    "# gaussian_reduction(Matrix([[1,2],[5,7]]))\n",
    "# gaussian_reduction(Matrix([[11,4],[19,8]]))\n",
    "gaussian_reduction([11,4,4],[19,8,1])"
   ]
  },
  {
   "cell_type": "code",
   "execution_count": 298,
   "id": "99834675",
   "metadata": {},
   "outputs": [
    {
     "data": {
      "text/plain": [
       "[[-22, 7, -19], [-41, -26, 17], [12, -38, -42]]"
      ]
     },
     "execution_count": 298,
     "metadata": {},
     "output_type": "execute_result"
    }
   ],
   "source": [
    "from sage.modules.free_module_integer import IntegerLattice\n",
    "from generate import *\n",
    "\n",
    "def vector_to_int_list(vector) -> list:\n",
    "    return [int(num) for num in vector.list()]\n",
    "\n",
    "def semaev(basis_as_matrix):\n",
    "    basis_as_list= matrix_to_list(basis_as_matrix)\n",
    "    dim = len(basis_as_list)\n",
    "    basis_as_list.sort(key=lambda x: euclidean_norm(x))\n",
    "    while True:\n",
    "        # Reduce the pair b_1 and b_2\n",
    "        basis_as_list[1], basis_as_list[0] = gaussian_reduction(basis_as_list[1], basis_as_list[0])\n",
    "        basis_as_list[1] = vector_to_int_list(basis_as_list[1])\n",
    "        basis_as_list[0] = vector_to_int_list(basis_as_list[0])\n",
    "\n",
    "        basis_as_matrix=matrix(ZZ,basis_as_list)\n",
    "\n",
    "        # find a minimum of |a|=|b_3 +x_2b_2 + x_1b_1| with regard to x_1, x_2\n",
    "        G = gram_matrix(basis_as_matrix)\n",
    "        lc_cube = vector_to_list(find_real_minimum_mistni(G, dim-1, 1))\n",
    "        slc = shortest_lc_in_cube(lc_cube, basis_as_matrix)\n",
    "        a = vector(ZZ,slc) * basis_as_matrix\n",
    "\n",
    "        # if I found a shorter vector a, continue\n",
    "        if a.norm().n() < basis_as_matrix[2].norm().n() and vector_to_int_list(a) != [0]*dim and vector_to_int_list(a) not in basis_as_list:\n",
    "            basis_as_list[2] = vector_to_int_list(a)\n",
    "            basis_as_list.sort(key=lambda x: euclidean_norm(x))\n",
    "            basis_as_matrix=matrix(ZZ,basis_as_list)\n",
    "            continue\n",
    "        break\n",
    "    return basis_as_list\n",
    "\n",
    "def find_real_minimum_mistni(G, current_row, inserted_component) -> vector:\n",
    "    dimension = len(matrix_to_list(G))\n",
    "    matrixA = matrix(dimension - 1, dimension - 1, 0) # square matrix of size (dimension - 1) x (dimension - 1), filled with zeros.\n",
    "    matrixB = matrix(dimension - 1, 1, 0) # column matrix of size (dimension - 1) x 1, filled with zeros.\n",
    "    matrixA[0,0] = 1\n",
    "    a, b = 0, 0\n",
    "    for row in range(dimension):\n",
    "        if row != current_row:\n",
    "            matrixA[a] = [G[row, j] for j in range(len(G[row])) if j != current_row]\n",
    "            matrixB[b] = sum([inserted_component * G[row,j] for j in range(len(G[row])) if j == current_row])\n",
    "            a += 1\n",
    "            b += 1\n",
    "    # insert indices\n",
    "    result = (matrixA.solve_right(-(inserted_component) * matrixB)).list()\n",
    "    result.insert(current_row, inserted_component)\n",
    "    return vector(result).n()\n",
    "\n",
    "\n",
    "# semaev(randomMatrix(3, 10))\n",
    "semaev(matrix([[-73, -50, -63], [60, 59, -53], [92, 83, 27]]))"
   ]
  },
  {
   "cell_type": "code",
   "execution_count": 331,
   "id": "96915363",
   "metadata": {},
   "outputs": [
    {
     "ename": "TypeError",
     "evalue": "'sage.rings.integer.Integer' object is not iterable",
     "output_type": "error",
     "traceback": [
      "\u001b[0;31m---------------------------------------------------------------------------\u001b[0m",
      "\u001b[0;31mTypeError\u001b[0m                                 Traceback (most recent call last)",
      "\u001b[0;32m/tmp/ipykernel_89983/3782457885.py\u001b[0m in \u001b[0;36m<module>\u001b[0;34m\u001b[0m\n\u001b[1;32m     42\u001b[0m \u001b[0;34m\u001b[0m\u001b[0m\n\u001b[1;32m     43\u001b[0m \u001b[0;34m\u001b[0m\u001b[0m\n\u001b[0;32m---> 44\u001b[0;31m \u001b[0mkonstantni_sada_matic\u001b[0m \u001b[0;34m=\u001b[0m \u001b[0;34m[\u001b[0m\u001b[0mmatrix_to_list\u001b[0m\u001b[0;34m(\u001b[0m\u001b[0mrandomMatrix\u001b[0m\u001b[0;34m(\u001b[0m\u001b[0mdimension\u001b[0m\u001b[0;34m,\u001b[0m \u001b[0mperimeter\u001b[0m\u001b[0;34m)\u001b[0m\u001b[0;34m)\u001b[0m \u001b[0;32mfor\u001b[0m \u001b[0m_\u001b[0m \u001b[0;32min\u001b[0m \u001b[0mInteger\u001b[0m\u001b[0;34m(\u001b[0m\u001b[0;36m100\u001b[0m\u001b[0;34m)\u001b[0m\u001b[0;34m]\u001b[0m\u001b[0;34m\u001b[0m\u001b[0;34m\u001b[0m\u001b[0m\n\u001b[0m",
      "\u001b[0;31mTypeError\u001b[0m: 'sage.rings.integer.Integer' object is not iterable"
     ]
    }
   ],
   "source": [
    "from math import isclose\n",
    "\n",
    "def counter(dimension : int, perimeter, tries, function):\n",
    "    res = {\"True\":0, \"False\":0}\n",
    "    print(\"počet pruchodu\", pocet_pruchodu)\n",
    "    for i in range(tries):\n",
    "        mojematice = konstantni_sada_matic[i]\n",
    "        # print(mojematice)\n",
    "        swapresult = function(mojematice)\n",
    "        swapresult = euclidean_norm(semaev(mojematice)[0])\n",
    "        L = IntegerLattice(mojematice, lll_reduce=False)\n",
    "        sv_exact = L.shortest_vector()\n",
    "        sv_exact_norm = sv_exact.norm().n()\n",
    "        lllnorm = euclidean_norm(first_nonzero_norm_vector(matrix_to_list(mojematice.LLL())))\n",
    "\n",
    "        if  isclose(swapresult, sv_exact_norm, abs_tol=1e-7):\n",
    "            res[\"True\"]+=1\n",
    "            continue\n",
    "        # print(matrix_to_list(mojematice))\n",
    "        # print(\"falsuje\", swapresult,\"exact: \", sv_exact_norm, \"LLLko je \", lllnorm)\n",
    "        res[\"False\"]+=1\n",
    "    return res\n",
    "\n",
    "# print(counter(3, 1000, 10, semaev))\n",
    "# print(counter(3, 1000, 10, swapping))\n",
    "\n",
    "# print(counter(4, 1000, 100, semaev))\n",
    "# print(counter(4, 1000, 100, swapping))\n",
    "\n",
    "\n",
    "# # print(counter(6, 1000, 100, semaev))\n",
    "# pocet_pruchodu = 1\n",
    "# print(counter(10, 1000, 10, swapping))\n",
    "# pocet_pruchodu = 2\n",
    "# print(counter(10, 1000, 10, swapping))\n",
    "# pocet_pruchodu = 3\n",
    "# print(counter(10, 1000, 10, swapping))\n",
    "\n",
    "\n",
    "# print(counter(10, 1000, 10, semaev))\n",
    "# print(counter(10, 1000, 10, swapping))\n",
    "\n",
    "\n",
    "konstantni_sada_matic = [matrix_to_list(randomMatrix(dimension, perimeter)) for _ in 100]\n"
   ]
  },
  {
   "cell_type": "code",
   "execution_count": null,
   "id": "372c7cd5",
   "metadata": {},
   "outputs": [
    {
     "ename": "KeyboardInterrupt",
     "evalue": "",
     "output_type": "error",
     "traceback": [
      "\u001b[0;31m---------------------------------------------------------------------------\u001b[0m",
      "\u001b[0;31mKeyboardInterrupt\u001b[0m                         Traceback (most recent call last)",
      "\u001b[0;32m/tmp/ipykernel_89983/3902812290.py\u001b[0m in \u001b[0;36m<module>\u001b[0;34m\u001b[0m\n\u001b[0;32m----> 1\u001b[0;31m \u001b[0mprint\u001b[0m\u001b[0;34m(\u001b[0m\u001b[0mcounter\u001b[0m\u001b[0;34m(\u001b[0m\u001b[0mInteger\u001b[0m\u001b[0;34m(\u001b[0m\u001b[0;36m20\u001b[0m\u001b[0;34m)\u001b[0m\u001b[0;34m,\u001b[0m \u001b[0mInteger\u001b[0m\u001b[0;34m(\u001b[0m\u001b[0;36m1000\u001b[0m\u001b[0;34m)\u001b[0m\u001b[0;34m,\u001b[0m \u001b[0mInteger\u001b[0m\u001b[0;34m(\u001b[0m\u001b[0;36m10\u001b[0m\u001b[0;34m)\u001b[0m\u001b[0;34m,\u001b[0m \u001b[0msemaev\u001b[0m\u001b[0;34m)\u001b[0m\u001b[0;34m)\u001b[0m\u001b[0;34m\u001b[0m\u001b[0;34m\u001b[0m\u001b[0m\n\u001b[0m\u001b[1;32m      2\u001b[0m \u001b[0mprint\u001b[0m\u001b[0;34m(\u001b[0m\u001b[0mcounter\u001b[0m\u001b[0;34m(\u001b[0m\u001b[0mInteger\u001b[0m\u001b[0;34m(\u001b[0m\u001b[0;36m20\u001b[0m\u001b[0;34m)\u001b[0m\u001b[0;34m,\u001b[0m \u001b[0mInteger\u001b[0m\u001b[0;34m(\u001b[0m\u001b[0;36m1000\u001b[0m\u001b[0;34m)\u001b[0m\u001b[0;34m,\u001b[0m \u001b[0mInteger\u001b[0m\u001b[0;34m(\u001b[0m\u001b[0;36m10\u001b[0m\u001b[0;34m)\u001b[0m\u001b[0;34m,\u001b[0m \u001b[0mswapping\u001b[0m\u001b[0;34m)\u001b[0m\u001b[0;34m)\u001b[0m\u001b[0;34m\u001b[0m\u001b[0;34m\u001b[0m\u001b[0m\n",
      "\u001b[0;32m/tmp/ipykernel_89983/154929107.py\u001b[0m in \u001b[0;36mcounter\u001b[0;34m(dimension, perimeter, tries, function)\u001b[0m\n\u001b[1;32m      6\u001b[0m         \u001b[0mmojematice\u001b[0m \u001b[0;34m=\u001b[0m \u001b[0mrandomMatrix\u001b[0m\u001b[0;34m(\u001b[0m\u001b[0mdimension\u001b[0m\u001b[0;34m,\u001b[0m \u001b[0mperimeter\u001b[0m\u001b[0;34m)\u001b[0m\u001b[0;34m\u001b[0m\u001b[0;34m\u001b[0m\u001b[0m\n\u001b[1;32m      7\u001b[0m         \u001b[0;31m# print(mojematice)\u001b[0m\u001b[0;34m\u001b[0m\u001b[0;34m\u001b[0m\u001b[0m\n\u001b[0;32m----> 8\u001b[0;31m         \u001b[0mswapresult\u001b[0m \u001b[0;34m=\u001b[0m \u001b[0mfunction\u001b[0m\u001b[0;34m(\u001b[0m\u001b[0mmojematice\u001b[0m\u001b[0;34m)\u001b[0m\u001b[0;34m\u001b[0m\u001b[0;34m\u001b[0m\u001b[0m\n\u001b[0m\u001b[1;32m      9\u001b[0m         \u001b[0mswapresult\u001b[0m \u001b[0;34m=\u001b[0m \u001b[0meuclidean_norm\u001b[0m\u001b[0;34m(\u001b[0m\u001b[0msemaev\u001b[0m\u001b[0;34m(\u001b[0m\u001b[0mmojematice\u001b[0m\u001b[0;34m)\u001b[0m\u001b[0;34m[\u001b[0m\u001b[0mInteger\u001b[0m\u001b[0;34m(\u001b[0m\u001b[0;36m0\u001b[0m\u001b[0;34m)\u001b[0m\u001b[0;34m]\u001b[0m\u001b[0;34m)\u001b[0m\u001b[0;34m\u001b[0m\u001b[0;34m\u001b[0m\u001b[0m\n\u001b[1;32m     10\u001b[0m         \u001b[0mL\u001b[0m \u001b[0;34m=\u001b[0m \u001b[0mIntegerLattice\u001b[0m\u001b[0;34m(\u001b[0m\u001b[0mmojematice\u001b[0m\u001b[0;34m,\u001b[0m \u001b[0mlll_reduce\u001b[0m\u001b[0;34m=\u001b[0m\u001b[0;32mFalse\u001b[0m\u001b[0;34m)\u001b[0m\u001b[0;34m\u001b[0m\u001b[0;34m\u001b[0m\u001b[0m\n",
      "\u001b[0;32m/tmp/ipykernel_89983/4256903400.py\u001b[0m in \u001b[0;36msemaev\u001b[0;34m(basis_as_matrix)\u001b[0m\n\u001b[1;32m     20\u001b[0m         \u001b[0mG\u001b[0m \u001b[0;34m=\u001b[0m \u001b[0mgram_matrix\u001b[0m\u001b[0;34m(\u001b[0m\u001b[0mbasis_as_matrix\u001b[0m\u001b[0;34m)\u001b[0m\u001b[0;34m\u001b[0m\u001b[0;34m\u001b[0m\u001b[0m\n\u001b[1;32m     21\u001b[0m         \u001b[0mlc_cube\u001b[0m \u001b[0;34m=\u001b[0m \u001b[0mvector_to_list\u001b[0m\u001b[0;34m(\u001b[0m\u001b[0mfind_real_minimum_mistni\u001b[0m\u001b[0;34m(\u001b[0m\u001b[0mG\u001b[0m\u001b[0;34m,\u001b[0m \u001b[0mdim\u001b[0m\u001b[0;34m-\u001b[0m\u001b[0mInteger\u001b[0m\u001b[0;34m(\u001b[0m\u001b[0;36m1\u001b[0m\u001b[0;34m)\u001b[0m\u001b[0;34m,\u001b[0m \u001b[0mInteger\u001b[0m\u001b[0;34m(\u001b[0m\u001b[0;36m1\u001b[0m\u001b[0;34m)\u001b[0m\u001b[0;34m)\u001b[0m\u001b[0;34m)\u001b[0m\u001b[0;34m\u001b[0m\u001b[0;34m\u001b[0m\u001b[0m\n\u001b[0;32m---> 22\u001b[0;31m         \u001b[0mslc\u001b[0m \u001b[0;34m=\u001b[0m \u001b[0mshortest_lc_in_cube\u001b[0m\u001b[0;34m(\u001b[0m\u001b[0mlc_cube\u001b[0m\u001b[0;34m,\u001b[0m \u001b[0mbasis_as_matrix\u001b[0m\u001b[0;34m)\u001b[0m\u001b[0;34m\u001b[0m\u001b[0;34m\u001b[0m\u001b[0m\n\u001b[0m\u001b[1;32m     23\u001b[0m         \u001b[0ma\u001b[0m \u001b[0;34m=\u001b[0m \u001b[0mvector\u001b[0m\u001b[0;34m(\u001b[0m\u001b[0mZZ\u001b[0m\u001b[0;34m,\u001b[0m\u001b[0mslc\u001b[0m\u001b[0;34m)\u001b[0m \u001b[0;34m*\u001b[0m \u001b[0mbasis_as_matrix\u001b[0m\u001b[0;34m\u001b[0m\u001b[0;34m\u001b[0m\u001b[0m\n\u001b[1;32m     24\u001b[0m \u001b[0;34m\u001b[0m\u001b[0m\n",
      "\u001b[0;32m/workspaces/thesis/closest_vs_minimal.py\u001b[0m in \u001b[0;36mshortest_lc_in_cube\u001b[0;34m(lc_cube, B)\u001b[0m\n\u001b[1;32m     81\u001b[0m \u001b[0;34m\u001b[0m\u001b[0m\n\u001b[1;32m     82\u001b[0m \u001b[0;32mdef\u001b[0m \u001b[0mshortest_lc_in_cube\u001b[0m\u001b[0;34m(\u001b[0m\u001b[0mlc_cube\u001b[0m\u001b[0;34m,\u001b[0m \u001b[0mB\u001b[0m\u001b[0;34m)\u001b[0m\u001b[0;34m:\u001b[0m\u001b[0;34m\u001b[0m\u001b[0;34m\u001b[0m\u001b[0m\n\u001b[0;32m---> 83\u001b[0;31m     \u001b[0;32mreturn\u001b[0m \u001b[0mevaluate_norms_at_cube\u001b[0m\u001b[0;34m(\u001b[0m\u001b[0mcube_points\u001b[0m\u001b[0;34m(\u001b[0m\u001b[0mlc_cube\u001b[0m\u001b[0;34m)\u001b[0m\u001b[0;34m,\u001b[0m \u001b[0mB\u001b[0m\u001b[0;34m)\u001b[0m\u001b[0;34m[\u001b[0m\u001b[0;36m0\u001b[0m\u001b[0;34m]\u001b[0m\u001b[0;34m[\u001b[0m\u001b[0;36m1\u001b[0m\u001b[0;34m]\u001b[0m\u001b[0;34m\u001b[0m\u001b[0;34m\u001b[0m\u001b[0m\n\u001b[0m\u001b[1;32m     84\u001b[0m \u001b[0;34m\u001b[0m\u001b[0m\n\u001b[1;32m     85\u001b[0m \u001b[0;34m\u001b[0m\u001b[0m\n",
      "\u001b[0;32m/workspaces/thesis/closest_vs_minimal.py\u001b[0m in \u001b[0;36mevaluate_norms_at_cube\u001b[0;34m(vertices, B)\u001b[0m\n\u001b[1;32m     76\u001b[0m     \u001b[0mnorms\u001b[0m \u001b[0;34m=\u001b[0m \u001b[0;34m[\u001b[0m\u001b[0;34m]\u001b[0m\u001b[0;34m\u001b[0m\u001b[0;34m\u001b[0m\u001b[0m\n\u001b[1;32m     77\u001b[0m     \u001b[0;32mfor\u001b[0m \u001b[0mvertice\u001b[0m \u001b[0;32min\u001b[0m \u001b[0mvertices\u001b[0m\u001b[0;34m:\u001b[0m\u001b[0;34m\u001b[0m\u001b[0;34m\u001b[0m\u001b[0m\n\u001b[0;32m---> 78\u001b[0;31m         \u001b[0mnorms\u001b[0m\u001b[0;34m.\u001b[0m\u001b[0mappend\u001b[0m\u001b[0;34m(\u001b[0m\u001b[0;34m[\u001b[0m\u001b[0;34m(\u001b[0m\u001b[0mmatrix\u001b[0m\u001b[0;34m(\u001b[0m\u001b[0mvertice\u001b[0m\u001b[0;34m)\u001b[0m \u001b[0;34m*\u001b[0m \u001b[0mmatrix\u001b[0m\u001b[0;34m(\u001b[0m\u001b[0mB\u001b[0m\u001b[0;34m)\u001b[0m\u001b[0;34m)\u001b[0m\u001b[0;34m.\u001b[0m\u001b[0mnorm\u001b[0m\u001b[0;34m(\u001b[0m\u001b[0;34m)\u001b[0m\u001b[0;34m.\u001b[0m\u001b[0mn\u001b[0m\u001b[0;34m(\u001b[0m\u001b[0;34m)\u001b[0m\u001b[0;34m,\u001b[0m \u001b[0mvertice\u001b[0m\u001b[0;34m]\u001b[0m\u001b[0;34m)\u001b[0m\u001b[0;34m\u001b[0m\u001b[0;34m\u001b[0m\u001b[0m\n\u001b[0m\u001b[1;32m     79\u001b[0m     \u001b[0;31m# print(\"     (evaluate norms at cube funct)\", sorted(norms))\u001b[0m\u001b[0;34m\u001b[0m\u001b[0;34m\u001b[0m\u001b[0m\n\u001b[1;32m     80\u001b[0m     \u001b[0;32mreturn\u001b[0m \u001b[0msorted\u001b[0m\u001b[0;34m(\u001b[0m\u001b[0mnorms\u001b[0m\u001b[0;34m)\u001b[0m\u001b[0;34m\u001b[0m\u001b[0;34m\u001b[0m\u001b[0m\n",
      "\u001b[0;32msrc/cysignals/signals.pyx\u001b[0m in \u001b[0;36mcysignals.signals.python_check_interrupt\u001b[0;34m()\u001b[0m\n",
      "\u001b[0;31mKeyboardInterrupt\u001b[0m: "
     ]
    }
   ],
   "source": [
    "\n",
    "# print(counter(20, 1000, 10, semaev))\n",
    "# print(counter(20, 1000, 10, swapping))\n"
   ]
  },
  {
   "cell_type": "code",
   "execution_count": null,
   "id": "e74f945f",
   "metadata": {},
   "outputs": [
    {
     "name": "stdout",
     "output_type": "stream",
     "text": [
      "B =  [[3, 10, 4], [-4, 2, 7], [-4, -8, -3]]\n",
      "Basis na začatku: \n",
      "  b_ 0   8.306623862918075 [-4, 2, 7]\n",
      "  b_ 1   9.433981132056603 [-4, -8, -3]\n",
      "  b_ 2   11.180339887498949 [3, 10, 4]\n",
      "--------------\n"
     ]
    },
    {
     "ename": "TypeError",
     "evalue": "unsupported operand type(s) for %: 'sage.rings.real_double_element_gsl.RealDoubleElement_gsl' and 'int'",
     "output_type": "error",
     "traceback": [
      "\u001b[0;31m---------------------------------------------------------------------------\u001b[0m",
      "\u001b[0;31mTypeError\u001b[0m                                 Traceback (most recent call last)",
      "\u001b[0;32m/tmp/ipykernel_89983/475970375.py\u001b[0m in \u001b[0;36m<module>\u001b[0;34m\u001b[0m\n\u001b[1;32m     16\u001b[0m \u001b[0;34m\u001b[0m\u001b[0m\n\u001b[1;32m     17\u001b[0m \u001b[0mB_3\u001b[0m \u001b[0;34m=\u001b[0m \u001b[0;34m[\u001b[0m\u001b[0;34m[\u001b[0m\u001b[0mInteger\u001b[0m\u001b[0;34m(\u001b[0m\u001b[0;36m3\u001b[0m\u001b[0;34m)\u001b[0m\u001b[0;34m,\u001b[0m \u001b[0mInteger\u001b[0m\u001b[0;34m(\u001b[0m\u001b[0;36m10\u001b[0m\u001b[0;34m)\u001b[0m\u001b[0;34m,\u001b[0m \u001b[0mInteger\u001b[0m\u001b[0;34m(\u001b[0m\u001b[0;36m4\u001b[0m\u001b[0;34m)\u001b[0m\u001b[0;34m]\u001b[0m\u001b[0;34m,\u001b[0m \u001b[0;34m[\u001b[0m\u001b[0;34m-\u001b[0m\u001b[0mInteger\u001b[0m\u001b[0;34m(\u001b[0m\u001b[0;36m4\u001b[0m\u001b[0;34m)\u001b[0m\u001b[0;34m,\u001b[0m \u001b[0mInteger\u001b[0m\u001b[0;34m(\u001b[0m\u001b[0;36m2\u001b[0m\u001b[0;34m)\u001b[0m\u001b[0;34m,\u001b[0m \u001b[0mInteger\u001b[0m\u001b[0;34m(\u001b[0m\u001b[0;36m7\u001b[0m\u001b[0;34m)\u001b[0m\u001b[0;34m]\u001b[0m\u001b[0;34m,\u001b[0m \u001b[0;34m[\u001b[0m\u001b[0;34m-\u001b[0m\u001b[0mInteger\u001b[0m\u001b[0;34m(\u001b[0m\u001b[0;36m4\u001b[0m\u001b[0;34m)\u001b[0m\u001b[0;34m,\u001b[0m \u001b[0;34m-\u001b[0m\u001b[0mInteger\u001b[0m\u001b[0;34m(\u001b[0m\u001b[0;36m8\u001b[0m\u001b[0;34m)\u001b[0m\u001b[0;34m,\u001b[0m \u001b[0;34m-\u001b[0m\u001b[0mInteger\u001b[0m\u001b[0;34m(\u001b[0m\u001b[0;36m3\u001b[0m\u001b[0;34m)\u001b[0m\u001b[0;34m]\u001b[0m\u001b[0;34m]\u001b[0m\u001b[0;34m\u001b[0m\u001b[0;34m\u001b[0m\u001b[0m\n\u001b[0;32m---> 18\u001b[0;31m \u001b[0;32massert\u001b[0m \u001b[0mtestik\u001b[0m\u001b[0;34m(\u001b[0m\u001b[0mB_3\u001b[0m\u001b[0;34m)\u001b[0m \u001b[0;31m# FUNGUJE\u001b[0m\u001b[0;34m\u001b[0m\u001b[0;34m\u001b[0m\u001b[0m\n\u001b[0m\u001b[1;32m     19\u001b[0m \u001b[0;34m\u001b[0m\u001b[0m\n\u001b[1;32m     20\u001b[0m \u001b[0mB_4\u001b[0m \u001b[0;34m=\u001b[0m  \u001b[0;34m[\u001b[0m\u001b[0;34m[\u001b[0m\u001b[0mInteger\u001b[0m\u001b[0;34m(\u001b[0m\u001b[0;36m6\u001b[0m\u001b[0;34m)\u001b[0m\u001b[0;34m,\u001b[0m \u001b[0;34m-\u001b[0m\u001b[0mInteger\u001b[0m\u001b[0;34m(\u001b[0m\u001b[0;36m4\u001b[0m\u001b[0;34m)\u001b[0m\u001b[0;34m,\u001b[0m \u001b[0;34m-\u001b[0m\u001b[0mInteger\u001b[0m\u001b[0;34m(\u001b[0m\u001b[0;36m5\u001b[0m\u001b[0;34m)\u001b[0m\u001b[0;34m]\u001b[0m\u001b[0;34m,\u001b[0m \u001b[0;34m[\u001b[0m\u001b[0mInteger\u001b[0m\u001b[0;34m(\u001b[0m\u001b[0;36m9\u001b[0m\u001b[0;34m)\u001b[0m\u001b[0;34m,\u001b[0m \u001b[0mInteger\u001b[0m\u001b[0;34m(\u001b[0m\u001b[0;36m6\u001b[0m\u001b[0;34m)\u001b[0m\u001b[0;34m,\u001b[0m \u001b[0;34m-\u001b[0m\u001b[0mInteger\u001b[0m\u001b[0;34m(\u001b[0m\u001b[0;36m10\u001b[0m\u001b[0;34m)\u001b[0m\u001b[0;34m]\u001b[0m\u001b[0;34m,\u001b[0m \u001b[0;34m[\u001b[0m\u001b[0mInteger\u001b[0m\u001b[0;34m(\u001b[0m\u001b[0;36m2\u001b[0m\u001b[0;34m)\u001b[0m\u001b[0;34m,\u001b[0m \u001b[0mInteger\u001b[0m\u001b[0;34m(\u001b[0m\u001b[0;36m9\u001b[0m\u001b[0;34m)\u001b[0m\u001b[0;34m,\u001b[0m \u001b[0mInteger\u001b[0m\u001b[0;34m(\u001b[0m\u001b[0;36m2\u001b[0m\u001b[0;34m)\u001b[0m\u001b[0;34m]\u001b[0m\u001b[0;34m]\u001b[0m\u001b[0;34m\u001b[0m\u001b[0;34m\u001b[0m\u001b[0m\n",
      "\u001b[0;32m/tmp/ipykernel_89983/475970375.py\u001b[0m in \u001b[0;36mtestik\u001b[0;34m(matice)\u001b[0m\n\u001b[1;32m      7\u001b[0m     \u001b[0mmatice\u001b[0m \u001b[0;34m=\u001b[0m \u001b[0mmatrix\u001b[0m\u001b[0;34m(\u001b[0m\u001b[0mmatice\u001b[0m\u001b[0;34m)\u001b[0m\u001b[0;34m\u001b[0m\u001b[0;34m\u001b[0m\u001b[0m\n\u001b[1;32m      8\u001b[0m     \u001b[0mlllnorm\u001b[0m \u001b[0;34m=\u001b[0m \u001b[0meuclidean_norm\u001b[0m\u001b[0;34m(\u001b[0m\u001b[0mfirst_nonzero_norm_vector\u001b[0m\u001b[0;34m(\u001b[0m\u001b[0mmatrix_to_list\u001b[0m\u001b[0;34m(\u001b[0m\u001b[0mmatrix\u001b[0m\u001b[0;34m(\u001b[0m\u001b[0mZZ\u001b[0m\u001b[0;34m,\u001b[0m \u001b[0mmatice\u001b[0m\u001b[0;34m)\u001b[0m\u001b[0;34m.\u001b[0m\u001b[0mLLL\u001b[0m\u001b[0;34m(\u001b[0m\u001b[0;34m)\u001b[0m\u001b[0;34m)\u001b[0m\u001b[0;34m)\u001b[0m\u001b[0;34m)\u001b[0m\u001b[0;34m\u001b[0m\u001b[0;34m\u001b[0m\u001b[0m\n\u001b[0;32m----> 9\u001b[0;31m     \u001b[0;32mreturn\u001b[0m \u001b[0mswapping\u001b[0m\u001b[0;34m(\u001b[0m\u001b[0mmatice\u001b[0m\u001b[0;34m)\u001b[0m \u001b[0;34m==\u001b[0m \u001b[0mlllnorm\u001b[0m\u001b[0;34m\u001b[0m\u001b[0;34m\u001b[0m\u001b[0m\n\u001b[0m\u001b[1;32m     10\u001b[0m \u001b[0;34m\u001b[0m\u001b[0m\n\u001b[1;32m     11\u001b[0m \u001b[0;31m# B_1 = [[-8, -9, 7], [10, 9, -6], [-8, 4, 10]]\u001b[0m\u001b[0;34m\u001b[0m\u001b[0;34m\u001b[0m\u001b[0m\n",
      "\u001b[0;32m/tmp/ipykernel_89983/2923589496.py\u001b[0m in \u001b[0;36mswapping\u001b[0;34m(basis_as_matrix)\u001b[0m\n\u001b[1;32m     30\u001b[0m         \u001b[0;31m# print(evaluate_norms_at_cube(cube_points(real_min), basis_as_list))\u001b[0m\u001b[0;34m\u001b[0m\u001b[0;34m\u001b[0m\u001b[0m\n\u001b[1;32m     31\u001b[0m \u001b[0;34m\u001b[0m\u001b[0m\n\u001b[0;32m---> 32\u001b[0;31m         \u001b[0mshortestLC\u001b[0m \u001b[0;34m=\u001b[0m \u001b[0mshortest_lc_in_cube\u001b[0m\u001b[0;34m(\u001b[0m\u001b[0mreal_min\u001b[0m\u001b[0;34m,\u001b[0m \u001b[0mbasis_as_list\u001b[0m\u001b[0;34m)\u001b[0m\u001b[0;34m\u001b[0m\u001b[0;34m\u001b[0m\u001b[0m\n\u001b[0m\u001b[1;32m     33\u001b[0m         \u001b[0;31m# print(real_min)\u001b[0m\u001b[0;34m\u001b[0m\u001b[0;34m\u001b[0m\u001b[0m\n\u001b[1;32m     34\u001b[0m         \u001b[0;31m# print(shortestLC)\u001b[0m\u001b[0;34m\u001b[0m\u001b[0;34m\u001b[0m\u001b[0m\n",
      "\u001b[0;32m/workspaces/thesis/closest_vs_minimal.py\u001b[0m in \u001b[0;36mshortest_lc_in_cube\u001b[0;34m(lc_cube, B)\u001b[0m\n\u001b[1;32m     81\u001b[0m \u001b[0;34m\u001b[0m\u001b[0m\n\u001b[1;32m     82\u001b[0m \u001b[0;32mdef\u001b[0m \u001b[0mshortest_lc_in_cube\u001b[0m\u001b[0;34m(\u001b[0m\u001b[0mlc_cube\u001b[0m\u001b[0;34m,\u001b[0m \u001b[0mB\u001b[0m\u001b[0;34m)\u001b[0m\u001b[0;34m:\u001b[0m\u001b[0;34m\u001b[0m\u001b[0;34m\u001b[0m\u001b[0m\n\u001b[0;32m---> 83\u001b[0;31m     \u001b[0;32mreturn\u001b[0m \u001b[0mevaluate_norms_at_cube\u001b[0m\u001b[0;34m(\u001b[0m\u001b[0mcube_points\u001b[0m\u001b[0;34m(\u001b[0m\u001b[0mlc_cube\u001b[0m\u001b[0;34m)\u001b[0m\u001b[0;34m,\u001b[0m \u001b[0mB\u001b[0m\u001b[0;34m)\u001b[0m\u001b[0;34m[\u001b[0m\u001b[0;36m0\u001b[0m\u001b[0;34m]\u001b[0m\u001b[0;34m[\u001b[0m\u001b[0;36m1\u001b[0m\u001b[0;34m]\u001b[0m\u001b[0;34m\u001b[0m\u001b[0;34m\u001b[0m\u001b[0m\n\u001b[0m\u001b[1;32m     84\u001b[0m \u001b[0;34m\u001b[0m\u001b[0m\n\u001b[1;32m     85\u001b[0m \u001b[0;34m\u001b[0m\u001b[0m\n",
      "\u001b[0;32m/workspaces/thesis/closest_vs_minimal.py\u001b[0m in \u001b[0;36mcube_points\u001b[0;34m(lc_cube)\u001b[0m\n\u001b[1;32m     61\u001b[0m     \u001b[0mpoints\u001b[0m \u001b[0;34m=\u001b[0m \u001b[0;34m[\u001b[0m\u001b[0mlc_cube\u001b[0m\u001b[0;34m]\u001b[0m\u001b[0;34m\u001b[0m\u001b[0;34m\u001b[0m\u001b[0m\n\u001b[1;32m     62\u001b[0m     \u001b[0;32mfor\u001b[0m \u001b[0mi\u001b[0m \u001b[0;32min\u001b[0m \u001b[0mrange\u001b[0m\u001b[0;34m(\u001b[0m\u001b[0;34m(\u001b[0m\u001b[0mlen\u001b[0m\u001b[0;34m(\u001b[0m\u001b[0mlc_cube\u001b[0m\u001b[0;34m)\u001b[0m\u001b[0;34m)\u001b[0m\u001b[0;34m)\u001b[0m\u001b[0;34m:\u001b[0m\u001b[0;34m\u001b[0m\u001b[0;34m\u001b[0m\u001b[0m\n\u001b[0;32m---> 63\u001b[0;31m         \u001b[0;32mif\u001b[0m \u001b[0mpoints\u001b[0m\u001b[0;34m[\u001b[0m\u001b[0;36m0\u001b[0m\u001b[0;34m]\u001b[0m\u001b[0;34m[\u001b[0m\u001b[0mi\u001b[0m\u001b[0;34m]\u001b[0m \u001b[0;34m%\u001b[0m \u001b[0;36m1\u001b[0m \u001b[0;34m!=\u001b[0m \u001b[0;36m0\u001b[0m\u001b[0;34m:\u001b[0m \u001b[0;31m# if current number is not whole\u001b[0m\u001b[0;34m\u001b[0m\u001b[0;34m\u001b[0m\u001b[0m\n\u001b[0m\u001b[1;32m     64\u001b[0m             \u001b[0mpoints\u001b[0m \u001b[0;34m=\u001b[0m \u001b[0mwholify_floatInListAtGivenIndex\u001b[0m\u001b[0;34m(\u001b[0m\u001b[0mpoints\u001b[0m\u001b[0;34m,\u001b[0m \u001b[0mi\u001b[0m\u001b[0;34m)\u001b[0m\u001b[0;34m\u001b[0m\u001b[0;34m\u001b[0m\u001b[0m\n\u001b[1;32m     65\u001b[0m     \u001b[0mpoints\u001b[0m \u001b[0;34m=\u001b[0m \u001b[0;34m[\u001b[0m\u001b[0mlist\u001b[0m\u001b[0;34m(\u001b[0m\u001b[0mmap\u001b[0m\u001b[0;34m(\u001b[0m\u001b[0;32mlambda\u001b[0m \u001b[0mx\u001b[0m \u001b[0;34m:\u001b[0m \u001b[0mint\u001b[0m\u001b[0;34m(\u001b[0m\u001b[0mx\u001b[0m\u001b[0;34m)\u001b[0m\u001b[0;34m,\u001b[0m \u001b[0mpoint\u001b[0m\u001b[0;34m)\u001b[0m\u001b[0;34m)\u001b[0m \u001b[0;32mfor\u001b[0m \u001b[0mpoint\u001b[0m \u001b[0;32min\u001b[0m \u001b[0mpoints\u001b[0m\u001b[0;34m]\u001b[0m\u001b[0;34m\u001b[0m\u001b[0;34m\u001b[0m\u001b[0m\n",
      "\u001b[0;31mTypeError\u001b[0m: unsupported operand type(s) for %: 'sage.rings.real_double_element_gsl.RealDoubleElement_gsl' and 'int'"
     ]
    }
   ],
   "source": [
    "def first_nonzero_norm_vector(vectors):\n",
    "    for v in vectors:\n",
    "        if euclidean_norm(v) != 0:\n",
    "            return v\n",
    "        \n",
    "def testik(matice):\n",
    "    matice = matrix(matice)\n",
    "    lllnorm = euclidean_norm(first_nonzero_norm_vector(matrix_to_list(matrix(ZZ, matice).LLL())))\n",
    "    return swapping(matice) == lllnorm\n",
    "\n",
    "# B_1 = [[-8, -9, 7], [10, 9, -6], [-8, 4, 10]]\n",
    "# assert testik(B_1)\n",
    "\n",
    "# B_2 = [[9, -1, -6], [7, -9, -5], [9, 6, -2]]\n",
    "# assert testik(B_2) # NEJEDE\n",
    "\n",
    "B_3 = [[3, 10, 4], [-4, 2, 7], [-4, -8, -3]]\n",
    "assert testik(B_3) # FUNGUJE\n",
    "\n",
    "B_4 =  [[6, -4, -5], [9, 6, -10], [2, 9, 2]]\n",
    "assert testik(B_4) # FUNGUJE\n"
   ]
  }
 ],
 "metadata": {
  "kernelspec": {
   "display_name": "SageMath 9.5",
   "language": "sage",
   "name": "sagemath"
  },
  "language_info": {
   "codemirror_mode": {
    "name": "ipython",
    "version": 3
   },
   "file_extension": ".py",
   "mimetype": "text/x-python",
   "name": "python",
   "nbconvert_exporter": "python",
   "pygments_lexer": "ipython3",
   "version": "3.10.6"
  }
 },
 "nbformat": 4,
 "nbformat_minor": 5
}
