{
 "cells": [
  {
   "cell_type": "markdown",
   "id": "7ea6f785",
   "metadata": {
    "tags": []
   },
   "source": [
    "# This one fixes one component to the same as LLL\n",
    "## IF the LLL has a (... 1, ...) somewhere\n",
    "\n",
    "beru to tak, že mám >tries< matic, které mají někde v LLLku jedničku a na té jedničce to zkoušim"
   ]
  },
  {
   "cell_type": "markdown",
   "id": "e6ece087",
   "metadata": {},
   "source": [
    "### Main function\n",
    "\n",
    "This cell actually generates the new examples and checks wheter a matrix is *dysfunctional*. \n",
    "\n",
    "`generate_new_examples`\n",
    "The main function. Based on input parameters above, generates *some* number of *dysfunctional* matrices, computes their invariants such as Gram matrix, LLL/cube linear combinations etc. and creates a json file with this information (specified above).\n",
    "\n",
    "`is_dysfunctional`\n",
    "Given a matrix $B$, checks whether its dysfunctional and if so, returns the data describing the case.\n"
   ]
  },
  {
   "cell_type": "code",
   "execution_count": 50,
   "id": "f0f4a678-9c58-4b25-a4e3-ac6037f1cc6a",
   "metadata": {},
   "outputs": [],
   "source": [
    "# MAIN \n",
    "from sage.modules.free_module_integer import IntegerLattice\n",
    "\n",
    "\n",
    "def generate_new_examples(iterations, dimension, perimeter, jsonfilename, printing = False, functioning = True) -> None:\n",
    "    '''\n",
    "    generates >iterations< of >dis/functioning< matrices and saves them in a json file.\n",
    "    returns number of suitable cases\n",
    "    '''\n",
    "    output_data = []\n",
    "    i = 0\n",
    "    # for i in range(iterations):\n",
    "    while i < iterations:\n",
    "        B = randomMatrix(dimension, perimeter)\n",
    "        G = gram_matrix(B)\n",
    "\n",
    "        L = IntegerLattice(B, lll_reduce=False)\n",
    "\n",
    "        sv_LLL = shortestVector(B.LLL())\n",
    "        lcLLL = B.solve_left(sv_LLL)\n",
    "\n",
    "        sv_exact = L.shortest_vector()\n",
    "        lc_exact = B.solve_left(sv_exact)\n",
    "        sv_exact_norm = sv_exact.norm().n()\n",
    "\n",
    "        if 1 not in lc_exact.list():\n",
    "            continue\n",
    "\n",
    "\n",
    "        # Compare the result with solution of the cube algorithm\n",
    "        this_case_works, lcCube = compare_with_cube(lc_exact, G)\n",
    "        if this_case_works != functioning:\n",
    "            case_info = into_dict(B, lcLLL, lcCube, lc_exact)\n",
    "            output_data.append(case_info)\n",
    "        i +=1\n",
    "    \n",
    "    # Format output data\n",
    "    if printing: print_listdict(output_data)\n",
    "    dict = format_data(output_data)\n",
    "    into_json(dict, jsonfilename)\n",
    "    return len(output_data)\n",
    "\n",
    "\n",
    "def find_indices(lst, targets):\n",
    "    return [i for i, x in enumerate(lst) if x in targets]\n",
    "\n",
    "\n",
    "def compare_with_cube(lc_exact, G) -> bool:\n",
    "    working_case = None\n",
    "    for current_row in find_indices(lc_exact, [1,-1]):\n",
    "        # for K in range(2, rng):\n",
    "        exact_component = lc_exact[current_row]\n",
    "        lcCube = find_real_minimum(G, current_row, exact_component)\n",
    "        working_case = lcCube                \n",
    "\n",
    "        # if norm_G(lcCube, G) > norm_G(lc_exact, G):\n",
    "        #     # print(\"cube bigger than LLL\")\n",
    "        # Check for invalid cases\n",
    "        if norm_G(lcCube, G) > norm_G(lc_exact, G) or lcCube == zero_vector(SR, dimension):\n",
    "            continue\n",
    "\n",
    "        # Check if the two results are the same\n",
    "        for i in range(dimension - 1):  \n",
    "            difference = abs(lc_exact[i]) - abs(lcCube[i])\n",
    "            if abs(difference) >= sensitivity:\n",
    "                return True, lcCube\n",
    "    return False, working_case\n",
    "        \n",
    "def find_real_minimum(G, current_row, unit_component) -> vector:\n",
    "    \"\"\"\n",
    "    returns linear combination of the minimum over real numbers\n",
    "    the >current_row< parameter is the coordinate of fixed col/row idk\n",
    "    the >K< parameter is the number inserted into this column\n",
    "    LLL component is +- 1\n",
    "    \"\"\"\n",
    "    matrixA = matrix(dimension - 1, dimension - 1, 0) # square matrix of size (dimension - 1) x (dimension - 1), filled with zeros.\n",
    "    matrixB = matrix(dimension - 1, 1, 0) # column matrix of size (dimension - 1) x 1, filled with zeros.\n",
    "    matrixA[0,0] = 1\n",
    "    a, b = 0, 0\n",
    "    for row in range(dimension):\n",
    "        if row != current_row:\n",
    "            matrixA[a] = [G[row, j] for j in range(len(G[row])) if j != current_row]\n",
    "            matrixB[b] = sum([unit_component * G[row,j] for j in range(len(G[row])) if j == current_row])\n",
    "            a += 1\n",
    "            b += 1\n",
    "    # insert indices\n",
    "    result = (matrixA.solve_right((-1)*unit_component * matrixB)).list()\n",
    "    result.insert(current_row, unit_component)\n",
    "    return vector(result).n(digits=5)"
   ]
  },
  {
   "cell_type": "code",
   "execution_count": 51,
   "id": "f21d29bd",
   "metadata": {},
   "outputs": [
    {
     "data": {
      "text/plain": [
       "0"
      ]
     },
     "execution_count": 51,
     "metadata": {},
     "output_type": "execute_result"
    }
   ],
   "source": [
    "dimension = 3\n",
    "\n",
    "perimeter = 1000\n",
    "sensitivity = 1\n",
    "tries = 100\n",
    "jsonfilename = \"dummyfilejson\"\n",
    "generate_new_examples(tries, dimension, perimeter, jsonfilename, printing=True, functioning=False)"
   ]
  }
 ],
 "metadata": {
  "kernelspec": {
   "display_name": "SageMath 9.5",
   "language": "sage",
   "name": "sagemath"
  },
  "language_info": {
   "codemirror_mode": {
    "name": "ipython",
    "version": 3
   },
   "file_extension": ".py",
   "mimetype": "text/x-python",
   "name": "python",
   "nbconvert_exporter": "python",
   "pygments_lexer": "ipython3",
   "version": "3.10.6"
  }
 },
 "nbformat": 4,
 "nbformat_minor": 5
}
