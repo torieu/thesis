{
 "cells": [
  {
   "cell_type": "code",
   "execution_count": 4,
   "id": "acad773c",
   "metadata": {
    "tags": []
   },
   "outputs": [],
   "source": [
    "%run generate_matrices.ipynb     # importing functions"
   ]
  },
  {
   "cell_type": "markdown",
   "id": "88f62f7c",
   "metadata": {
    "slideshow": {
     "slide_type": "-"
    },
    "tags": []
   },
   "source": [
    "# Closest and minimal vectors\n",
    "\n",
    "The idea is, to compare the following vectors:\n",
    "\n",
    "`closest`: the vector of the cube, which is *closest* to the vector given by the LLL algorithm\n",
    "\n",
    "`minimal`: vector of the cube, whichever of them has the smallest norm\n",
    "\n",
    "We would expect, that the closest and minimal vectors would be the same, meaning that the norm function decreases the most in the direction of the closest vector.\n",
    "\n",
    "\n",
    "\n",
    "\n",
    "Another way would be comparing the gradient."
   ]
  },
  {
   "cell_type": "code",
   "execution_count": 5,
   "id": "1f2add57",
   "metadata": {
    "scrolled": true
   },
   "outputs": [],
   "source": [
    "### closest_versus_minimal\n",
    "\n",
    "def closest_versus_grammatrix(jsonfilename):\n",
    "    cases = from_json(jsonfilename)\n",
    "    for case in cases:\n",
    "        closest = closest_point_in_cube(case[\"lincomb_cube\"], case[\"lincomb_LLL\"])\n",
    "        point_versus_grammatrix(case[\"G\"], case[\"lincomb_LLL\"], closest)\n",
    "    \n",
    "def point_versus_grammatrix(G: list, lc_LLL: list, point: list) -> None:\n",
    "    detailed_product, sum = matrix_multiplication_detailed(matrix(G), vector(point)-vector(lc_LLL))\n",
    "    print(\"lc in question: {}, lc LLL: {}\". format(point, lc_LLL))\n",
    "    print(\"difference between the two lcs/points:\", vector(point)-vector(lc_LLL))\n",
    "    print(detailed_product)\n",
    "    print(sum)\n",
    "    print()\n",
    "        "
   ]
  },
  {
   "cell_type": "code",
   "execution_count": 6,
   "id": "da313cc2",
   "metadata": {
    "collapsed": true,
    "jupyter": {
     "outputs_hidden": true
    }
   },
   "outputs": [],
   "source": [
    "# closest_versus_grammatrix(\"matrices3x3-600instances.json\")"
   ]
  },
  {
   "cell_type": "code",
   "execution_count": 7,
   "id": "3a69e0a4",
   "metadata": {
    "scrolled": true
   },
   "outputs": [],
   "source": [
    "def cube_versus_grammatrix(jsonfilename):\n",
    "    cases = from_json(jsonfilename)\n",
    "    for i,case in enumerate(cases):\n",
    "        print(\"\\n \\033[1m ------ NEXT CASE --------------\\033[0m\\n\")\n",
    "        print(\"the gram matrix:\\n\", matrix(case[\"G\"]), \"\\n\")\n",
    "        for point in cube_points(case[\"lincomb_cube\"]):\n",
    "            if point == closest_point_in_cube(case[\"lincomb_cube\"], case[\"lincomb_LLL\"]):\n",
    "                print('\\033[1m' + \"THIS IS THE CLOSEST POINT IN THIS CASE\" + '\\033[0m')\n",
    "            if point == evaluate_norms_at_cube(cube_points(case[\"lincomb_cube\"]), case[\"B\"])[0][1]:\n",
    "                print('\\033[1m' + \"THIS IS THE MINIMAL POINT IN THIS CASE\" + '\\033[0m')    \n",
    "            point_versus_grammatrix(case[\"G\"], case[\"lincomb_LLL\"], point)\n",
    "        if i > 10:\n",
    "            break"
   ]
  },
  {
   "cell_type": "code",
   "execution_count": 8,
   "id": "4af26811",
   "metadata": {},
   "outputs": [],
   "source": [
    "# cube_versus_grammatrix(\"matrices3x3-600instances.json\")"
   ]
  },
  {
   "cell_type": "code",
   "execution_count": 11,
   "id": "329a199f",
   "metadata": {},
   "outputs": [],
   "source": [
    "### closest_versus_minimal\n",
    "\n",
    "def wholify_floatInListAtGivenIndex(inlist, i):\n",
    "    \"\"\"\n",
    "    Given a list, with a float on the i-th position, \n",
    "    \"\"\"\n",
    "    outlist = deepcopy(inlist)\n",
    "    for _ in range(len(outlist)):\n",
    "        vector = outlist.pop(0)\n",
    "        vector[i] = math.floor(vector[i])\n",
    "        outlist.append(deepcopy(vector))\n",
    "        vector[i] = vector[i] + 1\n",
    "        outlist.append(vector)\n",
    "    return outlist\n",
    "\n",
    "def cube_points(lc_cube) -> list:\n",
    "    \"\"\"\n",
    "    Returns a list of linear combinations/vertices of the cube.\n",
    "    \"\"\"\n",
    "    points = [lc_cube]\n",
    "    for i in range((len(lc_cube))):\n",
    "        if points[0][i] % 1 != 0: # if current number is not whole \n",
    "            points = wholify_floatInListAtGivenIndex(points, i) \n",
    "    points = [list(map(lambda x : int(x), point)) for point in points]\n",
    "    return points\n",
    "    \n",
    "def evaluate_norms_at_cube(vertices, B):\n",
    "    \"\"\"\n",
    "    Given an integer cube and returns, the norms of its vertices and corresponding vertices. \n",
    "    \"\"\"\n",
    "    vertices = [vertice for vertice in vertices if not all(v == 0 for v in vertice)]\n",
    "    norms = []\n",
    "    for vertice in vertices:\n",
    "        norms.append([(matrix(vertice) * matrix(B)).norm().n(), vertice])\n",
    "    return sorted(norms)\n",
    "    \n",
    "def closest_point_in_cube(lc_cube, lc_LLL) -> list:\n",
    "    \"\"\"\n",
    "    Returns the vertice of the cube closest to the lincomb given by LLL.\n",
    "    \"\"\"\n",
    "    lc_closest = []\n",
    "    for i in range(len(lc_cube)):\n",
    "        if lc_LLL[i] > lc_cube[i]:\n",
    "            lc_closest.append(math.ceil(lc_cube[i]))\n",
    "        else:\n",
    "            lc_closest.append(math.floor(lc_cube[i]))\n",
    "    return lc_closest\n",
    "\n",
    "\n",
    "def closest_versus_minimal(jsonfilename) -> list:\n",
    "    \"Returns a list of a form [int, int]. The first number indicates  whether the closest vector was the one with shortest norm.\"\n",
    "    cases = from_json(jsonfilename)\n",
    "    stats = [0, 0]\n",
    "    for case in cases:\n",
    "        B, lc_cube, lc_LLL = case[\"B\"], case[\"lincomb_cube\"], case[\"lincomb_LLL\"]\n",
    "        minimal = evaluate_norms_at_cube(cube_points(lc_cube), B)[0][1]\n",
    "        closest = closest_point_in_cube(lc_cube, lc_LLL)\n",
    "        if minimal == closest:\n",
    "            stats[0] += 1\n",
    "        else:\n",
    "            stats[1] += 1\n",
    "    return stats\n",
    "\n",
    "def closest_versus_minimal_withComments(jsonfilename) -> list:\n",
    "    \"Returns a list of a form [int, int]. The first number indicates  whether the closest vector was the one with shortest norm.\"\n",
    "    cases = from_json(jsonfilename)\n",
    "    stats = [0, 0]\n",
    "    for case in cases:\n",
    "        B, lc_cube, lc_LLL = case[\"B\"], case[\"lincomb_cube\"], list(map(lambda x : int(x), case[\"lincomb_LLL\"] ))\n",
    "        print(\"lc_LLL: \", list(map(lambda x : int(x), lc_LLL )))\n",
    "        minimal = evaluate_norms_at_cube(cube_points(lc_cube), B)[0][1] # just a linear combination!\n",
    "        print(\"minimal:\", minimal)\n",
    "        closest = closest_point_in_cube(lc_cube, lc_LLL)\n",
    "        print(\"closest:\", closest)\n",
    "        print(\"LLL-min:\", [lc_LLL[i] - minimal[i] for i in range(len(minimal))])\n",
    "        print(\"LLL-clo:\", [lc_LLL[i] - closest[i] for i in range(len(minimal))])\n",
    "        print(\"Does minimal equal the closest?\", minimal == closest)\n",
    "        # print(cube_points(lc_cube))\n",
    "        print()\n",
    "        if minimal == closest:\n",
    "            stats[0] += 1\n",
    "        else:\n",
    "            stats[1] += 1\n",
    "    return stats"
   ]
  },
  {
   "cell_type": "code",
   "execution_count": 10,
   "id": "5596fca2",
   "metadata": {},
   "outputs": [],
   "source": [
    "# closest_versus_minimal_withComments(\"matrices6x6-600instances.json\")"
   ]
  },
  {
   "cell_type": "code",
   "execution_count": null,
   "id": "ec87cae6",
   "metadata": {},
   "outputs": [],
   "source": []
  }
 ],
 "metadata": {
  "kernelspec": {
   "display_name": "SageMath 9.5",
   "language": "sage",
   "name": "sagemath"
  },
  "language_info": {
   "codemirror_mode": {
    "name": "ipython",
    "version": 3
   },
   "file_extension": ".py",
   "mimetype": "text/x-python",
   "name": "python",
   "nbconvert_exporter": "python",
   "pygments_lexer": "ipython3",
   "version": "3.10.6"
  }
 },
 "nbformat": 4,
 "nbformat_minor": 5
}
