{
 "cells": [
  {
   "cell_type": "code",
   "execution_count": 1,
   "id": "c78d5dc4",
   "metadata": {},
   "outputs": [],
   "source": [
    "%run generate_new_examples.ipynb     # importing functions\n",
    "%run closest_versus_minimal.ipynb     # importing functions"
   ]
  },
  {
   "cell_type": "code",
   "execution_count": 2,
   "id": "fc785d44",
   "metadata": {},
   "outputs": [],
   "source": [
    "def descent(jsonfilename):\n",
    "    cases = from_json(jsonfilename)\n",
    "    reached = 0\n",
    "    for case in cases:\n",
    "        B, lc_cube, lc_LLL = case[\"B\"], case[\"lincomb_cube\"], case[\"lincomb_LLL\"]\n",
    "        minimal = evaluate_norms_at_cube(cube_points(lc_cube), B)[0][1]\n",
    "#         print(\"minimal of the original cube: \", minimal)\n",
    "#         print(\"min - LL: \", vector_difference(minimal, lc_LLL))\n",
    "        center = minimal\n",
    "        central_norm = (vector(minimal)*matrix(B)).norm().n()\n",
    "        while True :\n",
    "            big_cube = big_cube_points(minimal)\n",
    "            bigCubeMinimum = evaluate_norms_at_cube(big_cube, B)[0][1]\n",
    "            if center == bigCubeMinimum:\n",
    "                break # this part is faulty I believe. \n",
    "            if bigCubeMinimum == lc_LLL:\n",
    "                reached += 1\n",
    "            center = bigCubeMinimum\n",
    "    return reached, len(cases) - reached\n",
    "\n",
    "def big_cube_points(int_combination):\n",
    "    points = []\n",
    "    for i in range((len(int_combination))):\n",
    "            dupe = int_combination[:]\n",
    "            dupe[i] += 1\n",
    "            points.append(copy(dupe))\n",
    "            dupe[i] -= 2\n",
    "            points.append(copy(dupe))\n",
    "    points = [list(map(lambda x : int(x), point)) for point in points]\n",
    "#     print(\"big cube points\", points)\n",
    "    return points\n",
    "\n",
    "def vector_difference(u, v):\n",
    "    difference = 0\n",
    "    for a, b in zip(u, v):\n",
    "        difference += abs(a - b)\n",
    "    return difference"
   ]
  },
  {
   "cell_type": "code",
   "execution_count": 3,
   "id": "97dd46d4",
   "metadata": {},
   "outputs": [
    {
     "name": "stderr",
     "output_type": "stream",
     "text": [
      "/usr/lib/python3/dist-packages/scipy/sparse/sputils.py:16: DeprecationWarning: `np.typeDict` is a deprecated alias for `np.sctypeDict`.\n",
      "  supported_dtypes = [np.typeDict[x] for x in supported_dtypes]\n",
      "/usr/lib/python3/dist-packages/scipy/linalg/__init__.py:217: DeprecationWarning: The module numpy.dual is deprecated.  Instead of using dual, use the functions directly from numpy or scipy.\n",
      "  from numpy.dual import register_func\n"
     ]
    },
    {
     "name": "stdout",
     "output_type": "stream",
     "text": [
      "Reached the same LC as LLL in 15 cases, havent reached in 582 cases, success rate 2.51.\n"
     ]
    }
   ],
   "source": [
    "a, b = descent(\"matrices6x6-600instances.json\")\n",
    "\n",
    "\n",
    "print(\"Reached the same LC as LLL in {} cases, havent reached in {} cases, success rate {}.\".format(a, b, 100*a/(a+b).n(digits=3)))"
   ]
  },
  {
   "cell_type": "code",
   "execution_count": 4,
   "id": "2884a490",
   "metadata": {},
   "outputs": [
    {
     "name": "stdout",
     "output_type": "stream",
     "text": [
      "Reached the same LC as LLL in 143 cases, havent reached in 532 cases, success rate 21.2.\n"
     ]
    }
   ],
   "source": [
    "c, d = descent(\"matrices3x3-600instances.json\")\n",
    "\n",
    "print(\"Reached the same LC as LLL in {} cases, havent reached in {} cases, success rate {}.\".format(c, d, 100*c/(c+d).n(digits=3)))"
   ]
  },
  {
   "cell_type": "markdown",
   "id": "8fa66c56",
   "metadata": {},
   "source": [
    "What if I start the ascent in the closest point? It doesnt make much sense, as I am not able to compute the closest point without knowledge of the LLL linear combination, but im just curious rn."
   ]
  },
  {
   "cell_type": "code",
   "execution_count": 5,
   "id": "93457805",
   "metadata": {},
   "outputs": [],
   "source": [
    "def descent_from_closest(jsonfilename):\n",
    "    cases = from_json(jsonfilename)\n",
    "    reached = 0\n",
    "    for case in cases:\n",
    "        B, lc_cube, lc_LLL = case[\"B\"], case[\"lincomb_cube\"], case[\"lincomb_LLL\"]\n",
    "        minimal =  closest_point_in_cube(lc_cube, lc_LLL)\n",
    "        center = minimal\n",
    "        central_norm = (vector(minimal)*matrix(B)).norm().n()\n",
    "        while True :\n",
    "            big_cube = big_cube_points(minimal)\n",
    "            bigCubeMinimum = evaluate_norms_at_cube(big_cube, B)[0][1]\n",
    "            if center == bigCubeMinimum:\n",
    "                break\n",
    "            if bigCubeMinimum == lc_LLL:\n",
    "                reached += 1\n",
    "            center = bigCubeMinimum\n",
    "    return reached, len(cases) - reached\n"
   ]
  },
  {
   "cell_type": "code",
   "execution_count": 6,
   "id": "fac0835a",
   "metadata": {},
   "outputs": [
    {
     "name": "stdout",
     "output_type": "stream",
     "text": [
      "Reached the same LC as LLL in 48 cases, havent reached in 549 cases, success rate 8.04.\n",
      "Reached the same LC as LLL in 555 cases, havent reached in 120 cases, success rate 82.2.\n"
     ]
    }
   ],
   "source": [
    "e, f = descent_from_closest(\"matrices6x6-600instances.json\")\n",
    "\n",
    "print(\"Reached the same LC as LLL in {} cases, havent reached in {} cases, success rate {}.\".format(e, f, 100*e/(e+f).n(digits=3)))\n",
    "\n",
    "\n",
    "g, h = descent_from_closest(\"matrices3x3-600instances.json\")\n",
    "\n",
    "\n",
    "print(\"Reached the same LC as LLL in {} cases, havent reached in {} cases, success rate {}.\".format(g, h, 100*g/(g+h).n(digits=3)))\n"
   ]
  }
 ],
 "metadata": {
  "kernelspec": {
   "display_name": "SageMath 9.0",
   "language": "sage",
   "name": "sagemath"
  },
  "language_info": {
   "codemirror_mode": {
    "name": "ipython",
    "version": 3
   },
   "file_extension": ".py",
   "mimetype": "text/x-python",
   "name": "python",
   "nbconvert_exporter": "python",
   "pygments_lexer": "ipython3",
   "version": "3.8.10"
  }
 },
 "nbformat": 4,
 "nbformat_minor": 5
}
