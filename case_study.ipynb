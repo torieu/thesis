{
 "cells": [
  {
   "cell_type": "code",
   "execution_count": null,
   "metadata": {},
   "outputs": [],
   "source": [
    "%run closest_versus_minimal_tools.ipynb\n",
    "%run descent_tools.ipynb\n",
    "%run case_study_tools.ipynb"
   ]
  },
  {
   "attachments": {},
   "cell_type": "markdown",
   "metadata": {},
   "source": [
    "## Case study\n",
    "\n",
    "This shall become a code, where after inputing a single case, I can experiment with its various features such as\n",
    "- study its cube points\n",
    "- focus on properties of a single Gram matrix\n",
    "- plot various properties"
   ]
  },
  {
   "cell_type": "code",
   "execution_count": null,
   "metadata": {},
   "outputs": [],
   "source": [
    "case000 = {\"B\": [[4, 26, -8], [24, -1, -38], [47, -29, -38]], \n",
    "        \"G\": [[756, 374, -262], [374, 2021, 2601], [-262, 2601, 4494]],\n",
    "        \"lincomb_LLL\": [1.0, 0.0, 0.0],\n",
    "        \"lincomb_cube\": [1.0, -1.019439697265625, 0.6483230590820312],\n",
    "        \"sv_LLL\": [4.0, 26.0, -8.0],\n",
    "        \"sv_cube\": [10.004638671875, 8.21807861328125, 6.1024169921875],\n",
    "        \"lincomb_diff\": [0.0, 1.019439697265625, -0.6483230590820312],\n",
    "        \"Diff impact\": [0.0, 0.0, 0.0, 0.0, 2100.34, -1719.07, 0.0, -1719.07, 1888.93]} # caseID 000\n",
    "\n",
    "case001 = {\"B\": [[2, -12, 3], [4, -4, 10], [-34, 40, -19]], \n",
    "        \"G\": [[157, 86, -605], [86, 132, -486], [-605, -486, 3117]], \n",
    "        \"lincomb_LLL\": [-1.0, 1.0, 0.0], \n",
    "        \"lincomb_cube\": [-1.0, -0.1481785774230957, -0.21720075607299805], \n",
    "        \"sv_LLL\": [2.0, 8.0, 7.0], \n",
    "        \"sv_cube\": [4.7921142578125, 3.9046783447265625, -0.3549652099609375], \n",
    "        \"lincomb_diff\": [0.0, 1.1481781005859375, 0.21720075607299805], \n",
    "        \"Diff impact\": [0.0, 0.0, -0.0, 0.0, 174.02, -121.2, -0.0, -121.2, 147.05]} #caseID 001\n",
    "\n",
    "case002 = {\"B\": [[20, -11, 8], [47, -37, 27], [22, -9, -3]], \n",
    "        \"G\": [[585, 1563, 515], [1563, 4307, 1286], [515, 1286, 574]], \n",
    "        \"lincomb_LLL\": [-1.0, 0.0, 1.0], \n",
    "        \"lincomb_cube\": [-2.715618133544922, 0.6869077682495117, 1.0], \n",
    "        \"sv_LLL\": [2.0, 2.0, -11.0], \n",
    "        \"sv_cube\": [-0.0277099609375, -4.543792724609375, -6.178436279296875], \n",
    "        \"lincomb_diff\": [1.7156181335449219, -0.6869077682495117, 0.0], \n",
    "        \"Diff impact\": [1721.86, -1841.95, 0.0, -1841.95, 2032.22, -0.0, 0.0, -0.0, 0.0]} # caseID 002\n",
    "\n",
    "case003 = {\"B\": [[6, -17, 3], [-15, 11, 0], [46, -49, -9]], \n",
    "           \"G\": [[334, -277, 1082], [-277, 346, -1229], [1082, -1229, 4598]], \n",
    "           \"lincomb_LLL\": [1.0, 1.0, 0.0], \n",
    "           \"lincomb_cube\": [1.0, -0.6975774765014648, -0.42177534103393555], \n",
    "           \"sv_LLL\": [-9.0, -6.0, 3.0], \n",
    "           \"sv_cube\": [-2.93798828125, -4.00634765625, 6.7959747314453125], \n",
    "           \"lincomb_diff\": [0.0, 1.6975784301757812, 0.42177534103393555], \n",
    "           \"Diff impact\": [0.0, -0.0, 0.0, -0.0, 997.09, -879.96, 0.0, -879.96, 817.96]} # caseID 003\n",
    "\n",
    "\n",
    "case4x4_001 = {\"B\": [[22, -4, -20, -22], [11, -35, 38, -42], [34, -38, -26, -41], [-16, -40, -24, 44]], \n",
    "               \"G\": [[1384, 546, 2322, -680], [546, 4554, 2438, -1536], [2322, 2438, 4957, -204], [-680, -1536, -204, 4368]], \n",
    "               \"lincomb_LLL\": [3.0, 1.0, -2.0, 1.0], \n",
    "               \"lincomb_cube\": [4.4086761474609375, 1.2111663818359375, -2.6196823120117188, 1.0], \n",
    "               \"sv_LLL\": [-7.0, -11.0, 6.0, 18.0], \n",
    "               \"sv_cube\": [5.2445068359375, -0.4775390625, 1.96240234375, 3.547119140625], \n",
    "               \"lincomb_diff\": [-1.4086761474609375, -0.2111663818359375, 0.6196823120117188, 0.0]}\n",
    "\n",
    "\n",
    "case4x4_002 = {\"B\": [[46, 9, 12, -28], [-20, -7, 23, 34], [0, 5, 31, -3], [-41, -16, -28, 34]], \n",
    "               \"G\": [[3125, -1659, 501, -3318], [-1659, 2134, 576, 1444], [501, 576, 995, -1050], [-3318, 1444, -1050, 3877]], \n",
    "               \"lincomb_LLL\": [-2.0, 0.0, -1.0, -2.0], \n",
    "               \"lincomb_cube\": [-2.0, 0.8417301177978516, -2.2645111083984375, -2.6384315490722656], \n",
    "               \"sv_LLL\": [-10.0, 9.0, 1.0, -9.0], \n",
    "               \"sv_cube\": [-0.658935546875, 7.000244140625, -0.9639892578125, 1.705810546875], \n",
    "               \"lincomb_diff\": [0.0, -0.8417301177978516, 1.2645111083984375, 0.6384315490722656]}\n",
    "\n",
    "case4x4_003 = {\"B\": [[-29, 27, -8, 12], [-23, -32, -46, 8], [-14, 1, 20, 16], [12, -27, -50, -36]], \n",
    "                \"G\": [[1778, 267, 465, -1109], [267, 3733, -502, 2600], [465, -502, 853, -1771], [-1109, 2600, -1771, 4669]], \n",
    "                \"lincomb_LLL\": [0.0, 0.0, 1.0, 0.0], \n",
    "                \"lincomb_cube\": [0.1220695972442627, -0.25914478302001953, 1.0, 0.5526132583618164], \n",
    "                \"sv_LLL\": [-14.0, 1.0, 20.0, 16.0], \n",
    "                \"sv_cube\": [-4.948333740234375, -2.3320465087890625, 3.31341552734375, -4.5023956298828125], \n",
    "                \"lincomb_diff\": [-0.1220695972442627, 0.25914478302001953, 0.0, -0.5526132583618164]} \n",
    "# I suspect the 4x4_003 one to be faulty and not working, even though it should be functioning\n",
    "\n",
    "case = case4x4_003\n",
    "\n",
    "\n",
    "\n"
   ]
  },
  {
   "cell_type": "code",
   "execution_count": null,
   "metadata": {},
   "outputs": [],
   "source": [
    "B = case[\"B\"]\n",
    "G = case[\"G\"]\n",
    "lc_LLL = case[\"lincomb_LLL\"]\n",
    "lc_cube = case[\"lincomb_cube\"]\n",
    "sv_LLL = case[\"sv_LLL\"]\n",
    "sv_cube = case[\"sv_cube\"]\n",
    "lincomb_diff = case[\"lincomb_diff\"]\n",
    "\n",
    "dimension = len(G)\n",
    "cube = cube_points(lc_cube)\n",
    "index = get_index_to_remove(lc_cube, lc_LLL)\n"
   ]
  },
  {
   "cell_type": "code",
   "execution_count": null,
   "metadata": {},
   "outputs": [],
   "source": [
    "# print(cube)\n",
    "\n",
    "testvect = vector([-1, 0, 1, 0])\n",
    "testB = matrix(B)\n",
    "\n",
    "testsv = testvect * testB\n",
    "print(testsv)\n",
    "print(testsv.norm().n(digits=5))\n",
    "print(vector(sv_LLL).norm().n())"
   ]
  },
  {
   "attachments": {},
   "cell_type": "markdown",
   "metadata": {},
   "source": [
    "### Connection between Gram matrix and LLL-reduced basis\n",
    "\n",
    "Given an LLL-reduced basis $B = {b_1, b_2, ..., b_n}$ of a lattice $L$ in an $n$-dimensional real Euclidean space, its Gram matrix $G$ is an $n×n$ symmetric matrix where the entry $G(i, j)$ is the inner product of the basis vectors $b_i$ and $b_j$:\n",
    "\n",
    "$$G(i, j) = <b_i, b_j>$$\n",
    "\n",
    "**Norms of basis vectors**\n",
    "\n",
    "The connection between the Gram matrix and the norms of the basis vectors can be understood through the diagonal elements of $G$. The diagonal elements $G(i, i)$ represent the inner product of the basis vector $b_i$ with itself, which is the square of the Euclidean norm $||b_i||^2$:\n",
    "\n",
    "$$G(i, i) = <b_i, b_i> = ||b_i||^2$$\n",
    "\n",
    "To obtain the norms of the basis vectors, simply take the square root of the corresponding diagonal elements.\n",
    "\n",
    "**Interpretation of non-diagonal elements**\n",
    "\n",
    "The non-diagonal elements of the Gram matrix can be interpreted in terms of the projection of one basis vector onto another, as well as the angle between them. The off-diagonal elements $G(i, j)$ (for $i ≠ j$) represent the inner product of two distinct basis vectors bi and bj:\n",
    "\n",
    "$$G(i, j) = <b_i, b_j>$$\n",
    "\n",
    "This inner product can be related to the projection of one vector onto another and the angle between them. Specifically, the inner product can be expressed as:\n",
    "\n",
    "$$<b_i, b_j> = ||b_i|| \\cdot||b_j|| \\cos(θ)$$\n",
    "\n",
    "where $θ$ is the angle between the two vectors $b_i$ and $b_j$, and $||b_i||$ and $||b_j||$ are the Euclidean norms of the vectors.\n",
    "\n",
    "The non-diagonal elements of the Gram matrix can provide information about the \"closeness\" of the basis vectors in terms of their mutual angles. A positive inner product suggests that the angle between the two vectors is less than 90 degrees, while a negative inner product indicates that the angle is between 90 and 180 degrees. If the inner product is zero, it means that the two vectors are orthogonal, i.e., the angle between them is 90 degrees.\n",
    "\n",
    "In the context of LLL reduction, although the basis vectors are not guaranteed to be orthogonal, they are more orthogonal compared to an arbitrary basis for the lattice. This is due to the Lovász condition, which helps minimize the mutual projections of consecutive basis vectors. Therefore, the off-diagonal elements in the Gram matrix of an LLL-reduced basis should generally be smaller in magnitude compared to those of a non-reduced basis, reflecting the \"almost orthogonal\" nature of the LLL-reduced basis.\n"
   ]
  },
  {
   "cell_type": "code",
   "execution_count": null,
   "metadata": {},
   "outputs": [],
   "source": [
    "print(matrix(G), \"matrixG\")\n",
    "for i in range(dimension):\n",
    "    print(\"Norm of the {}-th vector is {}\".format(i, sqrt(G[i][i]).n(digits=4)))"
   ]
  },
  {
   "cell_type": "code",
   "execution_count": null,
   "metadata": {},
   "outputs": [],
   "source": [
    "cosine_matrix = [[0] * dimension for _ in range(dimension)]\n",
    "for i in range(dimension):\n",
    "    for j in range(dimension):\n",
    "        cosine_matrix[i][j] = (G[i][j] / sqrt(G[i][i] * G[j][j])).n(digits=3)\n",
    "\n",
    "print(matrix(cosine_matrix), \"cosine matrix\")\n"
   ]
  },
  {
   "cell_type": "code",
   "execution_count": null,
   "metadata": {},
   "outputs": [],
   "source": [
    "if dimension==3:\n",
    "    plot_nearest_norms(lc_cube, lc_LLL, B, neighborhood=5)"
   ]
  },
  {
   "attachments": {},
   "cell_type": "markdown",
   "metadata": {},
   "source": [
    "### Testing the descent algorithm\n"
   ]
  },
  {
   "cell_type": "code",
   "execution_count": 67,
   "metadata": {},
   "outputs": [
    {
     "name": "stdout",
     "output_type": "stream",
     "text": [
      "Has the descent reached LLL? True\n",
      "True\n"
     ]
    },
    {
     "data": {
      "image/png": "[encoded data removed]",
      "text/plain": [
       "<Figure size 432x288 with 1 Axes>"
      ]
     },
     "metadata": {
      "needs_background": "light"
     },
     "output_type": "display_data"
    }
   ],
   "source": [
    "%run descent_tools.ipynb\n",
    "\n",
    "\n",
    "reached, pathway = descent_single(case)\n",
    "\n",
    "print(\"Has the descent reached LLL?\", reached)\n",
    "plot_pathway(pathway,reached)"
   ]
  },
  {
   "cell_type": "markdown",
   "metadata": {},
   "source": [
    "### Plot norm function\n"
   ]
  },
  {
   "cell_type": "code",
   "execution_count": null,
   "metadata": {},
   "outputs": [],
   "source": [
    "if dimension==3:\n",
    "    plot_norm_function_2D(G, lc_cube, lc_LLL)\n",
    "if dimension==4:\n",
    "    plot_norm_function_3D(G, lc_cube, lc_LLL, rng=50)\n"
   ]
  },
  {
   "cell_type": "code",
   "execution_count": null,
   "metadata": {},
   "outputs": [],
   "source": [
    "# G_multiplied = matrix_multiplication_detailed(G, lc_cube)\n",
    "\n",
    "# print(matrix(G_multiplied))\n"
   ]
  },
  {
   "cell_type": "code",
   "execution_count": null,
   "metadata": {},
   "outputs": [],
   "source": [
    "# # Define variables\n",
    "# x1, x2, x3 = var('x1 x2 x3') \n",
    "\n",
    "# # Determine the index of the constant row/column\n",
    "# index = get_index_to_remove(lc_cube, lc_LLL)\n",
    "\n",
    "# # The other rows/cols shall be variables x_i\n",
    "# variables = [var('x_%d' % (j+1)) for j in range(dimension) if j != index]\n",
    "\n",
    "# # The vector u is x_i for all variables and 1 on the position of the constant\n",
    "# u = vector([var('x_%d' % (j+1)) if j != index else 1 for j in range(dimension)])\n",
    "# # Define surface \n",
    "# f = u * matrix(G) * u\n",
    "# print(f)\n",
    "# display(Math(latex(f.simplify_full()))) # printing the function f\n",
    "\n",
    "# # Take partial derivatives\n",
    "# fx1 = diff(f, x1) \n",
    "# fx2 = diff(f, x2)\n",
    "# fx3 = diff(f, x3)\n",
    "\n",
    "# # Compute Gaussian curvature\n",
    "# K = (fx1*diff(fx3, x1) - fx3*diff(fx1, x1))/f\n",
    "\n",
    "# # Simplify\n",
    "# K = simplify(K)\n",
    "\n",
    "# # Substitute sample point\n",
    "# p1, p2, p3 = 0, 2, 0\n",
    "# Kp = K.subs({x1:p1, x2:p2, x3:p3})\n",
    "\n",
    "# print(\"Gaussian curvature K at point ({}, {}, {}) is: {}\".format(p1, p2, p3, Kp))\n",
    "\n",
    "\n",
    "# FIXME I think that this part of code has some mistakes as it ouputs nonsense"
   ]
  },
  {
   "cell_type": "code",
   "execution_count": null,
   "metadata": {},
   "outputs": [],
   "source": [
    "quadric(G, get_index_to_remove(lc_cube, lc_LLL))\n",
    "\n",
    "# print(\"all others for a check:\")\n",
    "# for index in range(4):\n",
    "#     quadric(G, index)\n",
    "\n",
    "# TODO for some reason, it seems that it does not matter which column is the constant one\n"
   ]
  }
 ],
 "metadata": {
  "kernelspec": {
   "display_name": "SageMath 9.5",
   "language": "sage",
   "name": "sagemath"
  },
  "language_info": {
   "codemirror_mode": {
    "name": "ipython",
    "version": 3
   },
   "file_extension": ".py",
   "mimetype": "text/x-python",
   "name": "python",
   "nbconvert_exporter": "python",
   "pygments_lexer": "ipython3",
   "version": "3.10.6"
  },
  "orig_nbformat": 4
 },
 "nbformat": 4,
 "nbformat_minor": 2
}
