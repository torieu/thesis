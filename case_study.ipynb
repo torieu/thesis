{
 "cells": [
  {
   "cell_type": "code",
   "execution_count": 15,
   "metadata": {
    "vscode": {
     "languageId": "python"
    }
   },
   "outputs": [],
   "source": [
    "%run closest_versus_minimal_tools.ipynb\n",
    "%run descent_tools.ipynb\n",
    "%run case_study_tools.ipynb"
   ]
  },
  {
   "cell_type": "code",
   "execution_count": 16,
   "metadata": {
    "vscode": {
     "languageId": "python"
    }
   },
   "outputs": [],
   "source": [
    "case000 = {\"B\": [[4, 26, -8], [24, -1, -38], [47, -29, -38]], \n",
    "        \"G\": [[756, 374, -262], [374, 2021, 2601], [-262, 2601, 4494]],\n",
    "        \"lincomb_LLL\": [1.0, 0.0, 0.0],\n",
    "        \"lincomb_cube\": [1.0, -1.019439697265625, 0.6483230590820312],\n",
    "        \"sv_LLL\": [4.0, 26.0, -8.0],\n",
    "        \"sv_cube\": [10.004638671875, 8.21807861328125, 6.1024169921875],\n",
    "        \"lincomb_diff\": [0.0, 1.019439697265625, -0.6483230590820312],\n",
    "        \"Diff impact\": [0.0, 0.0, 0.0, 0.0, 2100.34, -1719.07, 0.0, -1719.07, 1888.93]} # caseID 000\n",
    "\n",
    "case001 = {\"B\": [[2, -12, 3], [4, -4, 10], [-34, 40, -19]], \n",
    "        \"G\": [[157, 86, -605], [86, 132, -486], [-605, -486, 3117]], \n",
    "        \"lincomb_LLL\": [-1.0, 1.0, 0.0], \n",
    "        \"lincomb_cube\": [-1.0, -0.1481785774230957, -0.21720075607299805], \n",
    "        \"sv_LLL\": [2.0, 8.0, 7.0], \n",
    "        \"sv_cube\": [4.7921142578125, 3.9046783447265625, -0.3549652099609375], \n",
    "        \"lincomb_diff\": [0.0, 1.1481781005859375, 0.21720075607299805], \n",
    "        \"Diff impact\": [0.0, 0.0, -0.0, 0.0, 174.02, -121.2, -0.0, -121.2, 147.05]} #caseID 001\n",
    "\n",
    "case002 = {\"B\": [[20, -11, 8], [47, -37, 27], [22, -9, -3]], \n",
    "        \"G\": [[585, 1563, 515], [1563, 4307, 1286], [515, 1286, 574]], \n",
    "        \"lincomb_LLL\": [-1.0, 0.0, 1.0], \n",
    "        \"lincomb_cube\": [-2.715618133544922, 0.6869077682495117, 1.0], \n",
    "        \"sv_LLL\": [2.0, 2.0, -11.0], \n",
    "        \"sv_cube\": [-0.0277099609375, -4.543792724609375, -6.178436279296875], \n",
    "        \"lincomb_diff\": [1.7156181335449219, -0.6869077682495117, 0.0], \n",
    "        \"Diff impact\": [1721.86, -1841.95, 0.0, -1841.95, 2032.22, -0.0, 0.0, -0.0, 0.0]} # caseID 002\n",
    "\n",
    "case003 = {\"B\": [[6, -17, 3], [-15, 11, 0], [46, -49, -9]], \n",
    "           \"G\": [[334, -277, 1082], [-277, 346, -1229], [1082, -1229, 4598]], \n",
    "           \"lincomb_LLL\": [1.0, 1.0, 0.0], \n",
    "           \"lincomb_cube\": [1.0, -0.6975774765014648, -0.42177534103393555], \n",
    "           \"sv_LLL\": [-9.0, -6.0, 3.0], \n",
    "           \"sv_cube\": [-2.93798828125, -4.00634765625, 6.7959747314453125], \n",
    "           \"lincomb_diff\": [0.0, 1.6975784301757812, 0.42177534103393555], \n",
    "           \"Diff impact\": [0.0, -0.0, 0.0, -0.0, 997.09, -879.96, 0.0, -879.96, 817.96]} # caseID 003\n",
    "\n",
    "\n",
    "case4x4_001 = {\"B\": [[22, -4, -20, -22], [11, -35, 38, -42], [34, -38, -26, -41], [-16, -40, -24, 44]], \n",
    "               \"G\": [[1384, 546, 2322, -680], [546, 4554, 2438, -1536], [2322, 2438, 4957, -204], [-680, -1536, -204, 4368]], \n",
    "               \"lincomb_LLL\": [3.0, 1.0, -2.0, 1.0], \n",
    "               \"lincomb_cube\": [4.4086761474609375, 1.2111663818359375, -2.6196823120117188, 1.0], \n",
    "               \"sv_LLL\": [-7.0, -11.0, 6.0, 18.0], \n",
    "               \"sv_cube\": [5.2445068359375, -0.4775390625, 1.96240234375, 3.547119140625], \n",
    "               \"lincomb_diff\": [-1.4086761474609375, -0.2111663818359375, 0.6196823120117188, 0.0]}\n",
    "\n",
    "\n",
    "case4x4_002 = {\"B\": [[46, 9, 12, -28], [-20, -7, 23, 34], [0, 5, 31, -3], [-41, -16, -28, 34]], \n",
    "               \"G\": [[3125, -1659, 501, -3318], [-1659, 2134, 576, 1444], [501, 576, 995, -1050], [-3318, 1444, -1050, 3877]], \n",
    "               \"lincomb_LLL\": [-2.0, 0.0, -1.0, -2.0], \n",
    "               \"lincomb_cube\": [-2.0, 0.8417301177978516, -2.2645111083984375, -2.6384315490722656], \n",
    "               \"sv_LLL\": [-10.0, 9.0, 1.0, -9.0], \n",
    "               \"sv_cube\": [-0.658935546875, 7.000244140625, -0.9639892578125, 1.705810546875], \n",
    "               \"lincomb_diff\": [0.0, -0.8417301177978516, 1.2645111083984375, 0.6384315490722656]}\n",
    "\n",
    "case4x4_003 = {\"B\": [[-29, 27, -8, 12], [-23, -32, -46, 8], [-14, 1, 20, 16], [12, -27, -50, -36]], \n",
    "                \"G\": [[1778, 267, 465, -1109], [267, 3733, -502, 2600], [465, -502, 853, -1771], [-1109, 2600, -1771, 4669]], \n",
    "                \"lincomb_LLL\": [0.0, 0.0, 1.0, 0.0], \n",
    "                \"lincomb_cube\": [0.1220695972442627, -0.25914478302001953, 1.0, 0.5526132583618164], \n",
    "                \"sv_LLL\": [-14.0, 1.0, 20.0, 16.0], \n",
    "                \"sv_cube\": [-4.948333740234375, -2.3320465087890625, 3.31341552734375, -4.5023956298828125], \n",
    "                \"lincomb_diff\": [-0.1220695972442627, 0.25914478302001953, 0.0, -0.5526132583618164]} \n",
    "# this one is functioning\n",
    "\n",
    "case = case4x4_003\n",
    "\n",
    "\n",
    "\n"
   ]
  },
  {
   "cell_type": "code",
   "execution_count": 30,
   "metadata": {
    "vscode": {
     "languageId": "python"
    }
   },
   "outputs": [
    {
     "name": "stdout",
     "output_type": "stream",
     "text": [
      "LLL norm  29.2061637330205\n",
      "cube norm 7.82142804024480\n"
     ]
    }
   ],
   "source": [
    "B = case[\"B\"]\n",
    "G = case[\"G\"]\n",
    "lc_LLL = case[\"lincomb_LLL\"]\n",
    "lc_cube = case[\"lincomb_cube\"]\n",
    "sv_LLL = case[\"sv_LLL\"]\n",
    "sv_cube = case[\"sv_cube\"]\n",
    "lincomb_diff = case[\"lincomb_diff\"]\n",
    "\n",
    "dimension = len(G)\n",
    "cube = cube_points(lc_cube)\n",
    "index = get_index_to_remove(lc_cube, lc_LLL)\n",
    "\n",
    "\n",
    "print(\"LLL norm \", vector(sv_LLL).norm())\n",
    "print(\"cube norm\", vector(sv_cube).norm())"
   ]
  },
  {
   "cell_type": "code",
   "execution_count": 18,
   "metadata": {
    "vscode": {
     "languageId": "python"
    }
   },
   "outputs": [
    {
     "name": "stdout",
     "output_type": "stream",
     "text": [
      "[ 1778   267   465 -1109]\n",
      "[  267  3733  -502  2600]\n",
      "[  465  -502   853 -1771]\n",
      "[-1109  2600 -1771  4669] matrixG\n",
      "Norm of the 0-th vector is 42.17\n",
      "Norm of the 1-th vector is 61.10\n",
      "Norm of the 2-th vector is 29.21\n",
      "Norm of the 3-th vector is 68.33\n"
     ]
    }
   ],
   "source": [
    "print(matrix(G), \"matrixG\")\n",
    "for i in range(dimension):\n",
    "    print(\"Norm of the {}-th vector is {}\".format(i, sqrt(G[i][i]).n(digits=4)))"
   ]
  },
  {
   "cell_type": "code",
   "execution_count": 19,
   "metadata": {
    "vscode": {
     "languageId": "python"
    }
   },
   "outputs": [
    {
     "name": "stdout",
     "output_type": "stream",
     "text": [
      "[  1.00  0.104  0.378 -0.385]\n",
      "[ 0.104   1.00 -0.281  0.623]\n",
      "[ 0.378 -0.281   1.00 -0.887]\n",
      "[-0.385  0.623 -0.887   1.00] cosine matrix\n"
     ]
    }
   ],
   "source": [
    "cosine_matrix = [[0] * dimension for _ in range(dimension)]\n",
    "for i in range(dimension):\n",
    "    for j in range(dimension):\n",
    "        cosine_matrix[i][j] = (G[i][j] / sqrt(G[i][i] * G[j][j])).n(digits=3)\n",
    "\n",
    "print(matrix(cosine_matrix), \"cosine matrix\")\n"
   ]
  },
  {
   "cell_type": "code",
   "execution_count": 20,
   "metadata": {
    "vscode": {
     "languageId": "python"
    }
   },
   "outputs": [],
   "source": [
    "if dimension==3:\n",
    "    plot_nearest_norms(lc_cube, lc_LLL, B, neighborhood=5)"
   ]
  },
  {
   "attachments": {},
   "cell_type": "markdown",
   "metadata": {},
   "source": [
    "### Testing the descent algorithm\n"
   ]
  },
  {
   "cell_type": "code",
   "execution_count": 21,
   "metadata": {
    "vscode": {
     "languageId": "python"
    }
   },
   "outputs": [],
   "source": [
    "# %run descent_tools.ipynb\n",
    "\n",
    "\n",
    "# reached, pathway = descent_single(case, lc_cube, lc_LLL)\n",
    "\n",
    "# print(\"Has the descent reached LLL?\", reached)\n",
    "# plot_pathway(pathway,reached)"
   ]
  },
  {
   "cell_type": "markdown",
   "metadata": {},
   "source": [
    "### Plot norm function\n"
   ]
  },
  {
   "cell_type": "code",
   "execution_count": 22,
   "metadata": {
    "vscode": {
     "languageId": "python"
    }
   },
   "outputs": [
    {
     "name": "stdout",
     "output_type": "stream",
     "text": [
      "4\n",
      "Deleted index:  2  (python indexing)\n"
     ]
    },
    {
     "data": {
      "image/png": "[encoded data removed]",
      "text/plain": [
       "<Figure size 432x288 with 1 Axes>"
      ]
     },
     "metadata": {
      "needs_background": "light"
     },
     "output_type": "display_data"
    },
    {
     "data": {
      "text/latex": [
       "$\\displaystyle 1778 \\, x_{1}^{2} + 2 \\, {\\left(267 \\, x_{1} - 502\\right)} x_{2} + 3733 \\, x_{2}^{2} - 2 \\, {\\left(1109 \\, x_{1} - 2600 \\, x_{2} + 1771\\right)} x_{4} + 4669 \\, x_{4}^{2} + 930 \\, x_{1} + 853$"
      ],
      "text/plain": [
       "<IPython.core.display.Math object>"
      ]
     },
     "metadata": {},
     "output_type": "display_data"
    },
    {
     "name": "stdout",
     "output_type": "stream",
     "text": [
      "1778*x_1^2 + 2*(267*x_1 - 502)*x_2 + 3733*x_2^2 - 2*(1109*x_1 - 2600*x_2 + 1771)*x_4 + 4669*x_4^2 + 930*x_1 + 853\n"
     ]
    }
   ],
   "source": [
    "print(dimension)\n",
    "if dimension==3:\n",
    "    normf = plot_norm_function_2D(G, lc_cube, lc_LLL)\n",
    "if dimension==4:\n",
    "    normf = plot_norm_function_3D(G, lc_cube, lc_LLL, rng=50)\n"
   ]
  },
  {
   "cell_type": "code",
   "execution_count": 23,
   "metadata": {
    "vscode": {
     "languageId": "python"
    }
   },
   "outputs": [
    {
     "name": "stdout",
     "output_type": "stream",
     "text": [
      "Ellipsoid\n",
      "Unknown\n",
      "g rank\t Grank\t detG\t gEVsign 3\n",
      "3 \t 4 \t 1 \t True\n",
      "The quadric is an imaginary ellipsoid.\n",
      "\n"
     ]
    }
   ],
   "source": [
    "import numpy as np\n",
    "\n",
    "def determine_conic_type(M):\n",
    "    # Compute the eigenvalues of the matrix\n",
    "    eigenvalues = np.linalg.eigvals(M)\n",
    "\n",
    "    # Sort the eigenvalues in descending order\n",
    "    eigenvalues = np.sort(eigenvalues)[::-1]\n",
    "\n",
    "    # Analyze the signs of the eigenvalues\n",
    "    positive_count = np.sum(eigenvalues > 0)\n",
    "    negative_count = np.sum(eigenvalues < 0)\n",
    "    zero_count = np.sum(eigenvalues == 0)\n",
    "\n",
    "    if positive_count == 3 or negative_count == 3:\n",
    "        return \"Ellipse\"\n",
    "    elif positive_count == 2 and negative_count == 1:\n",
    "        return \"Hyperbola\"\n",
    "    elif positive_count == 1 and negative_count == 2:\n",
    "        return \"Hyperbola (conjugate)\"\n",
    "    elif zero_count == 1:\n",
    "        if positive_count == 2 or negative_count == 2:\n",
    "            return \"Parabola\"\n",
    "        else:\n",
    "            return \"Pair of parallel lines\"\n",
    "    elif zero_count == 2:\n",
    "        if np.linalg.matrix_rank(M) == 1:\n",
    "            return \"Pair of intersecting lines\"\n",
    "        else:\n",
    "            return \"Double line\"\n",
    "    elif zero_count == 3:\n",
    "        return \"Point\"\n",
    "    else:\n",
    "        return \"Unknown\"\n",
    "\n",
    "\n",
    "def determine_quadric_type(M):\n",
    "    # Extract the upper-left 3x3 submatrix\n",
    "    A = M[:3, :3]\n",
    "\n",
    "    # Compute the eigenvalues of the submatrix\n",
    "    eigenvalues = np.linalg.eigvals(A)\n",
    "\n",
    "    # Sort the eigenvalues in descending order\n",
    "    eigenvalues = np.sort(eigenvalues)[::-1]\n",
    "\n",
    "    # Analyze the signs of the eigenvalues\n",
    "    positive_count = np.sum(eigenvalues > 0)\n",
    "    negative_count = np.sum(eigenvalues < 0)\n",
    "    zero_count = np.sum(eigenvalues == 0)\n",
    "\n",
    "    if positive_count == 3 or negative_count == 3:\n",
    "        return \"Ellipsoid\"\n",
    "    elif (positive_count == 2 and negative_count == 1) or (positive_count == 1 and negative_count == 2):\n",
    "        return \"Hyperboloid\"\n",
    "    elif zero_count == 1:\n",
    "        if positive_count == 2 or negative_count == 2:\n",
    "            return \"Paraboloid\"\n",
    "        else:\n",
    "            return \"Cone\"\n",
    "    elif zero_count == 2:\n",
    "        if np.linalg.matrix_rank(M) == 2:\n",
    "            return \"Pair of parallel planes\"\n",
    "        else:\n",
    "            return \"Cylinder\"\n",
    "    elif zero_count == 3:\n",
    "        if np.linalg.matrix_rank(M) == 1:\n",
    "            return \"Single plane\"\n",
    "        else:\n",
    "            return \"Point\"\n",
    "    else:\n",
    "        return \"Unknown\"\n",
    "\n",
    "\n",
    "\n",
    "print(determine_quadric_type(np.array(G)))\n",
    "print(determine_conic_type(np.array(G)))\n",
    "\n",
    "quadric(G, get_index_to_remove(lc_cube, lc_LLL))\n",
    "\n",
    "# print(\"all others for a check:\")\n",
    "# for index in range(4):\n",
    "#     quadric(G, index)\n",
    "\n",
    "# TODO for some reason, it seems that it does not matter which column is the constant one\n"
   ]
  },
  {
   "cell_type": "code",
   "execution_count": 24,
   "metadata": {
    "vscode": {
     "languageId": "python"
    }
   },
   "outputs": [
    {
     "name": "stdout",
     "output_type": "stream",
     "text": [
      "[  26.49   -8.45   56.76  -74.81]\n",
      "[  -8.45  250.69  130.09 -372.34]\n",
      "[  56.76  130.09   853.0 -978.68]\n",
      "[ -74.81 -372.34 -978.68 1425.83]\n"
     ]
    }
   ],
   "source": [
    "G_multiplied = matrix_multiplication_detailed(G, lc_cube)\n",
    "\n",
    "print(matrix(G_multiplied))\n"
   ]
  },
  {
   "cell_type": "markdown",
   "metadata": {},
   "source": [
    "# Small matrix of quadric, metricka klasifikace\n"
   ]
  },
  {
   "cell_type": "code",
   "execution_count": 26,
   "metadata": {
    "vscode": {
     "languageId": "python"
    }
   },
   "outputs": [
    {
     "name": "stdout",
     "output_type": "stream",
     "text": [
      "[ 1778   267   465 -1109]\n",
      "[  267  3733  -502  2600]\n",
      "[  465  -502   853 -1771]\n",
      "[-1109  2600 -1771  4669]\n",
      "2\n",
      "Small matrix:\n",
      " [ 1778   267 -1109]\n",
      "[  267  3733  2600]\n",
      "[-1109  2600  4669]\n",
      "Rank of the small matrix: 3\n",
      "Rank of the G matrix: 4\n",
      "[43.51769262165604?                  0                  0                  0]\n",
      "[                 0  877.562748277278?                  0                  0]\n",
      "[                 0                  0 2704.582071865147?                  0]\n",
      "[                 0                  0                  0 7407.337487235920?]\n"
     ]
    }
   ],
   "source": [
    "print(matrix(G))\n",
    "print(index)\n",
    "\n",
    "small_matrix = [[elem for j, elem in enumerate(row) if j != index] for row in (G[0:index] + G[index+1:dimension])]\n",
    "\n",
    "print(\"Small matrix:\\n\", matrix(small_matrix))\n",
    "\n",
    "\n",
    "print(\"Rank of the small matrix:\" , rank(matrix(small_matrix)))\n",
    "print(\"Rank of the G matrix:\" , rank(matrix(G)))\n",
    "\n",
    "\n",
    "eigenvalues, eigenvectors = matrix(G).eigenmatrix_right()\n",
    "\n",
    "print(eigenvalues)\n",
    "# print(matrix(small_matrix).eigenmatrix_right()[0])\n",
    "# print(eigenvectors)"
   ]
  },
  {
   "cell_type": "markdown",
   "metadata": {},
   "source": [
    "## gradient play\n"
   ]
  },
  {
   "cell_type": "code",
   "execution_count": 27,
   "metadata": {
    "vscode": {
     "languageId": "python"
    }
   },
   "outputs": [
    {
     "data": {
      "text/plain": [
       "(x_1, x_2)"
      ]
     },
     "execution_count": 27,
     "metadata": {},
     "output_type": "execute_result"
    }
   ],
   "source": [
    "x_1, x_2, x_3 = var('x_1 x_2 x_3')\n",
    "variables = tuple(v for j, v in enumerate([x_1, x_2, x_3]) if j != index)\n",
    "variables\n"
   ]
  },
  {
   "cell_type": "code",
   "execution_count": 31,
   "metadata": {
    "vscode": {
     "languageId": "python"
    }
   },
   "outputs": [
    {
     "ename": "",
     "evalue": "",
     "output_type": "error",
     "traceback": [
      "\u001b[1;31mThe Kernel crashed while executing code in the current cell or a previous cell. \n",
      "\u001b[1;31mPlease review the code in the cell(s) to identify a possible cause of the failure. \n",
      "\u001b[1;31mClick <a href='https://aka.ms/vscodeJupyterKernelCrash'>here</a> for more info. \n",
      "\u001b[1;31mView Jupyter <a href='command:jupyter.viewOutput'>log</a> for further details."
     ]
    }
   ],
   "source": [
    "from sympy import lambdify\n",
    "\n",
    "expr_sympy = normf._sympy_()\n",
    "\n",
    "f = lambdify(variables, expr_sympy, modules=[\"numpy\"])\n",
    "\n",
    "x = y = np.linspace(-1000, 1000, 1000)\n",
    "X, Y = np.meshgrid(x, y)\n",
    "Z = f(X, Y)\n",
    "\n",
    "fig = plt.figure(dpi=120)\n",
    "ax = plt.axes(projection='3d')\n",
    "ax.plot_surface(X, Y, Z)\n",
    "plt.show()\n"
   ]
  },
  {
   "cell_type": "code",
   "execution_count": null,
   "metadata": {
    "vscode": {
     "languageId": "python"
    }
   },
   "outputs": [
    {
     "ename": "TypeError",
     "evalue": "can't convert expression to float",
     "output_type": "error",
     "traceback": [
      "\u001b[0;31m---------------------------------------------------------------------------\u001b[0m",
      "\u001b[0;31mTypeError\u001b[0m                                 Traceback (most recent call last)",
      "\u001b[0;32m/tmp/ipykernel_26658/1028818469.py\u001b[0m in \u001b[0;36m<module>\u001b[0;34m\u001b[0m\n\u001b[1;32m      6\u001b[0m \u001b[0mZ\u001b[0m \u001b[0;34m=\u001b[0m \u001b[0mf\u001b[0m\u001b[0;34m(\u001b[0m\u001b[0mX\u001b[0m\u001b[0;34m,\u001b[0m \u001b[0mY\u001b[0m\u001b[0;34m)\u001b[0m\u001b[0;34m\u001b[0m\u001b[0;34m\u001b[0m\u001b[0m\n\u001b[1;32m      7\u001b[0m \u001b[0;34m\u001b[0m\u001b[0m\n\u001b[0;32m----> 8\u001b[0;31m \u001b[0mdZ\u001b[0m \u001b[0;34m=\u001b[0m \u001b[0mnp\u001b[0m\u001b[0;34m.\u001b[0m\u001b[0mgradient\u001b[0m\u001b[0;34m(\u001b[0m\u001b[0mZ\u001b[0m\u001b[0;34m,\u001b[0m \u001b[0mx\u001b[0m\u001b[0;34m,\u001b[0m \u001b[0my\u001b[0m\u001b[0;34m)\u001b[0m\u001b[0;34m\u001b[0m\u001b[0;34m\u001b[0m\u001b[0m\n\u001b[0m\u001b[1;32m      9\u001b[0m \u001b[0;34m\u001b[0m\u001b[0m\n\u001b[1;32m     10\u001b[0m \u001b[0mfig\u001b[0m\u001b[0;34m,\u001b[0m \u001b[0maxe\u001b[0m \u001b[0;34m=\u001b[0m \u001b[0mplt\u001b[0m\u001b[0;34m.\u001b[0m\u001b[0msubplots\u001b[0m\u001b[0;34m(\u001b[0m\u001b[0mfigsize\u001b[0m\u001b[0;34m=\u001b[0m\u001b[0;34m(\u001b[0m\u001b[0mInteger\u001b[0m\u001b[0;34m(\u001b[0m\u001b[0;36m10\u001b[0m\u001b[0;34m)\u001b[0m\u001b[0;34m,\u001b[0m \u001b[0mInteger\u001b[0m\u001b[0;34m(\u001b[0m\u001b[0;36m8\u001b[0m\u001b[0;34m)\u001b[0m\u001b[0;34m)\u001b[0m\u001b[0;34m)\u001b[0m  \u001b[0;31m# adjust size\u001b[0m\u001b[0;34m\u001b[0m\u001b[0;34m\u001b[0m\u001b[0m\n",
      "\u001b[0;32m<__array_function__ internals>\u001b[0m in \u001b[0;36mgradient\u001b[0;34m(*args, **kwargs)\u001b[0m\n",
      "\u001b[0;32m/usr/lib/python3/dist-packages/numpy/lib/function_base.py\u001b[0m in \u001b[0;36mgradient\u001b[0;34m(f, axis, edge_order, *varargs)\u001b[0m\n\u001b[1;32m   1090\u001b[0m             \u001b[0ma\u001b[0m\u001b[0;34m.\u001b[0m\u001b[0mshape\u001b[0m \u001b[0;34m=\u001b[0m \u001b[0mb\u001b[0m\u001b[0;34m.\u001b[0m\u001b[0mshape\u001b[0m \u001b[0;34m=\u001b[0m \u001b[0mc\u001b[0m\u001b[0;34m.\u001b[0m\u001b[0mshape\u001b[0m \u001b[0;34m=\u001b[0m \u001b[0mshape\u001b[0m\u001b[0;34m\u001b[0m\u001b[0;34m\u001b[0m\u001b[0m\n\u001b[1;32m   1091\u001b[0m             \u001b[0;31m# 1D equivalent -- out[1:-1] = a * f[:-2] + b * f[1:-1] + c * f[2:]\u001b[0m\u001b[0;34m\u001b[0m\u001b[0;34m\u001b[0m\u001b[0m\n\u001b[0;32m-> 1092\u001b[0;31m             \u001b[0mout\u001b[0m\u001b[0;34m[\u001b[0m\u001b[0mtuple\u001b[0m\u001b[0;34m(\u001b[0m\u001b[0mslice1\u001b[0m\u001b[0;34m)\u001b[0m\u001b[0;34m]\u001b[0m \u001b[0;34m=\u001b[0m \u001b[0ma\u001b[0m \u001b[0;34m*\u001b[0m \u001b[0mf\u001b[0m\u001b[0;34m[\u001b[0m\u001b[0mtuple\u001b[0m\u001b[0;34m(\u001b[0m\u001b[0mslice2\u001b[0m\u001b[0;34m)\u001b[0m\u001b[0;34m]\u001b[0m \u001b[0;34m+\u001b[0m \u001b[0mb\u001b[0m \u001b[0;34m*\u001b[0m \u001b[0mf\u001b[0m\u001b[0;34m[\u001b[0m\u001b[0mtuple\u001b[0m\u001b[0;34m(\u001b[0m\u001b[0mslice3\u001b[0m\u001b[0;34m)\u001b[0m\u001b[0;34m]\u001b[0m \u001b[0;34m+\u001b[0m \u001b[0mc\u001b[0m \u001b[0;34m*\u001b[0m \u001b[0mf\u001b[0m\u001b[0;34m[\u001b[0m\u001b[0mtuple\u001b[0m\u001b[0;34m(\u001b[0m\u001b[0mslice4\u001b[0m\u001b[0;34m)\u001b[0m\u001b[0;34m]\u001b[0m\u001b[0;34m\u001b[0m\u001b[0;34m\u001b[0m\u001b[0m\n\u001b[0m\u001b[1;32m   1093\u001b[0m \u001b[0;34m\u001b[0m\u001b[0m\n\u001b[1;32m   1094\u001b[0m         \u001b[0;31m# Numerical differentiation: 1st order edges\u001b[0m\u001b[0;34m\u001b[0m\u001b[0;34m\u001b[0m\u001b[0m\n",
      "\u001b[0;32m/usr/lib/python3/dist-packages/sympy/core/expr.py\u001b[0m in \u001b[0;36m__float__\u001b[0;34m(self)\u001b[0m\n\u001b[1;32m    357\u001b[0m         \u001b[0;32mif\u001b[0m \u001b[0mresult\u001b[0m\u001b[0;34m.\u001b[0m\u001b[0mis_number\u001b[0m \u001b[0;32mand\u001b[0m \u001b[0mresult\u001b[0m\u001b[0;34m.\u001b[0m\u001b[0mas_real_imag\u001b[0m\u001b[0;34m(\u001b[0m\u001b[0;34m)\u001b[0m\u001b[0;34m[\u001b[0m\u001b[0;36m1\u001b[0m\u001b[0;34m]\u001b[0m\u001b[0;34m:\u001b[0m\u001b[0;34m\u001b[0m\u001b[0;34m\u001b[0m\u001b[0m\n\u001b[1;32m    358\u001b[0m             \u001b[0;32mraise\u001b[0m \u001b[0mTypeError\u001b[0m\u001b[0;34m(\u001b[0m\u001b[0;34m\"can't convert complex to float\"\u001b[0m\u001b[0;34m)\u001b[0m\u001b[0;34m\u001b[0m\u001b[0;34m\u001b[0m\u001b[0m\n\u001b[0;32m--> 359\u001b[0;31m         \u001b[0;32mraise\u001b[0m \u001b[0mTypeError\u001b[0m\u001b[0;34m(\u001b[0m\u001b[0;34m\"can't convert expression to float\"\u001b[0m\u001b[0;34m)\u001b[0m\u001b[0;34m\u001b[0m\u001b[0;34m\u001b[0m\u001b[0m\n\u001b[0m\u001b[1;32m    360\u001b[0m \u001b[0;34m\u001b[0m\u001b[0m\n\u001b[1;32m    361\u001b[0m     \u001b[0;32mdef\u001b[0m \u001b[0m__complex__\u001b[0m\u001b[0;34m(\u001b[0m\u001b[0mself\u001b[0m\u001b[0;34m)\u001b[0m\u001b[0;34m:\u001b[0m\u001b[0;34m\u001b[0m\u001b[0;34m\u001b[0m\u001b[0m\n",
      "\u001b[0;31mTypeError\u001b[0m: can't convert expression to float"
     ]
    }
   ],
   "source": [
    "expr_sympy = normf._sympy_()\n",
    "f = lambdify(variables, expr_sympy, modules=[\"numpy\"])\n",
    "\n",
    "x = y = np.linspace(-100, 100, 50)\n",
    "X, Y = np.meshgrid(x, y)\n",
    "Z = f(X, Y)\n",
    "\n",
    "dZ = np.gradient(Z, x, y)\n",
    "\n",
    "fig, axe = plt.subplots(figsize=(10, 8))  # adjust size\n",
    "\n",
    "# reduce arrow density\n",
    "arrow_density = 3\n",
    "skip = (slice(None, None, arrow_density), slice(None, None, arrow_density))\n",
    "\n",
    "# gradient\n",
    "U = -dZ[0][skip]\n",
    "V = -dZ[1][skip]\n",
    "norm = np.sqrt(U**2 + V**2)\n",
    "U /= norm\n",
    "V /= norm\n",
    "\n",
    "axe.quiver(X[skip], Y[skip], U, V, scale=20, color='pink')\n",
    "\n",
    "axe.contour(X, Y, Z, 30, cmap=\"jet\")\n",
    "axe.set_aspect(\"equal\")\n",
    "axe.grid()"
   ]
  },
  {
   "cell_type": "code",
   "execution_count": null,
   "metadata": {
    "vscode": {
     "languageId": "python"
    }
   },
   "outputs": [
    {
     "name": "stdout",
     "output_type": "stream",
     "text": [
      "Ellipsoid\n",
      "Unknown\n"
     ]
    }
   ],
   "source": []
  }
 ],
 "metadata": {
  "kernelspec": {
   "display_name": "SageMath 9.5",
   "language": "sage",
   "name": "sagemath"
  },
  "language_info": {
   "codemirror_mode": {
    "name": "ipython",
    "version": 3
   },
   "file_extension": ".py",
   "mimetype": "text/x-python",
   "name": "sage",
   "nbconvert_exporter": "python",
   "pygments_lexer": "ipython3",
   "version": "3.10.6"
  },
  "orig_nbformat": 4
 },
 "nbformat": 4,
 "nbformat_minor": 2
}
