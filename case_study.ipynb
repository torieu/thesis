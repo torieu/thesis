{
 "cells": [
  {
   "attachments": {},
   "cell_type": "markdown",
   "metadata": {},
   "source": [
    "## Case study\n",
    "\n",
    "This shall become a code, where after inputing a single case, I can experiment with its various features such as\n",
    "- study its cube points\n",
    "- "
   ]
  },
  {
   "cell_type": "code",
   "execution_count": 11,
   "metadata": {},
   "outputs": [],
   "source": [
    "case = {\"B\": [[4, 26, -8], [24, -1, -38], [47, -29, -38]], \n",
    "        \"G\": [[756, 374, -262], [374, 2021, 2601], [-262, 2601, 4494]],\n",
    "        \"lincomb_LLL\": [1.0, 0.0, 0.0],\n",
    "        \"lincomb_cube\": [1.0, -1.019439697265625, 0.6483230590820312],\n",
    "        \"sv_LLL\": [4.0, 26.0, -8.0],\n",
    "        \"sv_cube\": [10.004638671875, 8.21807861328125, 6.1024169921875],\n",
    "        \"lincomb_diff\": [0.0, 1.019439697265625, -0.6483230590820312],\n",
    "        \"Diff impact\": [0.0, 0.0, 0.0, 0.0, 2100.34, -1719.07, 0.0, -1719.07, 1888.93]}\n",
    "\n",
    "\n",
    "B = case[\"B\"]\n",
    "G = case[\"G\"]\n",
    "lc_LLL = case[\"lincomb_LLL\"]\n",
    "lc_cube = case[\"lincomb_cube\"]\n",
    "sv_LLL = case[\"sv_LLL\"]\n",
    "sv_cube = case[\"sv_cube\"]\n",
    "lincomb_diff = case[\"lincomb_diff\"]\n",
    "Diff_impact = case[\"Diff impact\"]\n",
    "\n"
   ]
  },
  {
   "cell_type": "code",
   "execution_count": null,
   "metadata": {},
   "outputs": [],
   "source": []
  },
  {
   "cell_type": "code",
   "execution_count": 19,
   "metadata": {},
   "outputs": [
    {
     "name": "stdout",
     "output_type": "stream",
     "text": [
      "Reached the same LC as LLL in 15 cases, havent reached in 582 cases, success rate 2.51.\n",
      "Reached the same LC as LLL in 143 cases, havent reached in 532 cases, success rate 21.2.\n",
      "Reached the same LC as LLL in 48 cases, havent reached in 549 cases, success rate 8.04.\n",
      "Reached the same LC as LLL in 555 cases, havent reached in 120 cases, success rate 82.2.\n"
     ]
    }
   ],
   "source": [
    "%run closest_versus_minimal.ipynb     # importing functions\n",
    "\n",
    "%run descent.ipynb"
   ]
  },
  {
   "cell_type": "code",
   "execution_count": 20,
   "metadata": {},
   "outputs": [
    {
     "name": "stdout",
     "output_type": "stream",
     "text": [
      "[[1, -2, 0], [1, -2, 1], [1, -1, 0], [1, -1, 1]]\n"
     ]
    }
   ],
   "source": [
    "cube = cube_points(lc_cube)\n",
    "print(cube)"
   ]
  },
  {
   "cell_type": "code",
   "execution_count": 24,
   "metadata": {},
   "outputs": [
    {
     "data": {
      "image/png": "[encoded data removed]",
      "text/plain": [
       "<Figure size 432x288 with 1 Axes>"
      ]
     },
     "metadata": {
      "needs_background": "light"
     },
     "output_type": "display_data"
    },
    {
     "data": {
      "text/plain": [
       "False"
      ]
     },
     "execution_count": 24,
     "metadata": {},
     "output_type": "execute_result"
    }
   ],
   "source": [
    "reached, pathway = descent_single(case)\n",
    "\n",
    "plot_pathway(pathway)\n",
    "reached"
   ]
  }
 ],
 "metadata": {
  "kernelspec": {
   "display_name": "SageMath 9.5",
   "language": "sage",
   "name": "sagemath"
  },
  "language_info": {
   "codemirror_mode": {
    "name": "ipython",
    "version": 3
   },
   "file_extension": ".py",
   "mimetype": "text/x-python",
   "name": "python",
   "nbconvert_exporter": "python",
   "pygments_lexer": "ipython3",
   "version": "3.10.6"
  },
  "orig_nbformat": 4
 },
 "nbformat": 4,
 "nbformat_minor": 2
}
