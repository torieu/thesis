{
 "cells": [
  {
   "cell_type": "code",
   "execution_count": 85,
   "metadata": {},
   "outputs": [],
   "source": [
    "%run closest_versus_minimal_tools.ipynb\n",
    "%run descent_tools.ipynb\n",
    "%run case_study_tools.ipynb"
   ]
  },
  {
   "attachments": {},
   "cell_type": "markdown",
   "metadata": {},
   "source": [
    "## Case study\n",
    "\n",
    "This shall become a code, where after inputing a single case, I can experiment with its various features such as\n",
    "- study its cube points\n",
    "- focus on properties of a single Gram matrix\n",
    "- plot various properties"
   ]
  },
  {
   "cell_type": "code",
   "execution_count": 86,
   "metadata": {},
   "outputs": [],
   "source": [
    "case000 = {\"B\": [[4, 26, -8], [24, -1, -38], [47, -29, -38]], \n",
    "        \"G\": [[756, 374, -262], [374, 2021, 2601], [-262, 2601, 4494]],\n",
    "        \"lincomb_LLL\": [1.0, 0.0, 0.0],\n",
    "        \"lincomb_cube\": [1.0, -1.019439697265625, 0.6483230590820312],\n",
    "        \"sv_LLL\": [4.0, 26.0, -8.0],\n",
    "        \"sv_cube\": [10.004638671875, 8.21807861328125, 6.1024169921875],\n",
    "        \"lincomb_diff\": [0.0, 1.019439697265625, -0.6483230590820312],\n",
    "        \"Diff impact\": [0.0, 0.0, 0.0, 0.0, 2100.34, -1719.07, 0.0, -1719.07, 1888.93]} # caseID 000\n",
    "\n",
    "case001 = {\"B\": [[2, -12, 3], [4, -4, 10], [-34, 40, -19]], \n",
    "        \"G\": [[157, 86, -605], [86, 132, -486], [-605, -486, 3117]], \n",
    "        \"lincomb_LLL\": [-1.0, 1.0, 0.0], \n",
    "        \"lincomb_cube\": [-1.0, -0.1481785774230957, -0.21720075607299805], \n",
    "        \"sv_LLL\": [2.0, 8.0, 7.0], \n",
    "        \"sv_cube\": [4.7921142578125, 3.9046783447265625, -0.3549652099609375], \n",
    "        \"lincomb_diff\": [0.0, 1.1481781005859375, 0.21720075607299805], \n",
    "        \"Diff impact\": [0.0, 0.0, -0.0, 0.0, 174.02, -121.2, -0.0, -121.2, 147.05]} #caseID 001\n",
    "\n",
    "case002 = {\"B\": [[20, -11, 8], [47, -37, 27], [22, -9, -3]], \n",
    "        \"G\": [[585, 1563, 515], [1563, 4307, 1286], [515, 1286, 574]], \n",
    "        \"lincomb_LLL\": [-1.0, 0.0, 1.0], \n",
    "        \"lincomb_cube\": [-2.715618133544922, 0.6869077682495117, 1.0], \n",
    "        \"sv_LLL\": [2.0, 2.0, -11.0], \n",
    "        \"sv_cube\": [-0.0277099609375, -4.543792724609375, -6.178436279296875], \n",
    "        \"lincomb_diff\": [1.7156181335449219, -0.6869077682495117, 0.0], \n",
    "        \"Diff impact\": [1721.86, -1841.95, 0.0, -1841.95, 2032.22, -0.0, 0.0, -0.0, 0.0]} # caseID 002\n",
    "\n",
    "case003 = {\"B\": [[6, -17, 3], [-15, 11, 0], [46, -49, -9]], \n",
    "           \"G\": [[334, -277, 1082], [-277, 346, -1229], [1082, -1229, 4598]], \n",
    "           \"lincomb_LLL\": [1.0, 1.0, 0.0], \n",
    "           \"lincomb_cube\": [1.0, -0.6975774765014648, -0.42177534103393555], \n",
    "           \"sv_LLL\": [-9.0, -6.0, 3.0], \n",
    "           \"sv_cube\": [-2.93798828125, -4.00634765625, 6.7959747314453125], \n",
    "           \"lincomb_diff\": [0.0, 1.6975784301757812, 0.42177534103393555], \n",
    "           \"Diff impact\": [0.0, -0.0, 0.0, -0.0, 997.09, -879.96, 0.0, -879.96, 817.96]} # caseID 003\n",
    "\n",
    "case = case003\n"
   ]
  },
  {
   "cell_type": "code",
   "execution_count": 87,
   "metadata": {},
   "outputs": [],
   "source": [
    "B = case[\"B\"]\n",
    "G = case[\"G\"]\n",
    "lc_LLL = case[\"lincomb_LLL\"]\n",
    "lc_cube = case[\"lincomb_cube\"]\n",
    "sv_LLL = case[\"sv_LLL\"]\n",
    "sv_cube = case[\"sv_cube\"]\n",
    "lincomb_diff = case[\"lincomb_diff\"]\n",
    "Diff_impact = [[case[\"Diff impact\"][i*3 + j].n(digits=4) for j in range(3)] for i in range(3)]\n",
    "\n",
    "cube = cube_points(lc_cube)\n"
   ]
  },
  {
   "cell_type": "code",
   "execution_count": 88,
   "metadata": {},
   "outputs": [
    {
     "name": "stdout",
     "output_type": "stream",
     "text": [
      "[[1, -1, -1], [1, -1, 0], [1, 0, -1], [1, 0, 0]]\n"
     ]
    }
   ],
   "source": [
    "print(cube)"
   ]
  },
  {
   "attachments": {},
   "cell_type": "markdown",
   "metadata": {},
   "source": [
    "### Connection between Gram matrix and LLL-reduced basis\n",
    "\n",
    "Given an LLL-reduced basis $B = {b_1, b_2, ..., b_n}$ of a lattice $L$ in an $n$-dimensional real Euclidean space, its Gram matrix $G$ is an $n×n$ symmetric matrix where the entry $G(i, j)$ is the inner product of the basis vectors $b_i$ and $b_j$:\n",
    "\n",
    "$$G(i, j) = <b_i, b_j>$$\n",
    "\n",
    "**Norms of basis vectors**\n",
    "\n",
    "The connection between the Gram matrix and the norms of the basis vectors can be understood through the diagonal elements of $G$. The diagonal elements $G(i, i)$ represent the inner product of the basis vector $b_i$ with itself, which is the square of the Euclidean norm $||b_i||^2$:\n",
    "\n",
    "$$G(i, i) = <b_i, b_i> = ||b_i||^2$$\n",
    "\n",
    "To obtain the norms of the basis vectors, simply take the square root of the corresponding diagonal elements.\n",
    "\n",
    "**Interpretation of non-diagonal elements**\n",
    "\n",
    "The non-diagonal elements of the Gram matrix can be interpreted in terms of the projection of one basis vector onto another, as well as the angle between them. The off-diagonal elements $G(i, j)$ (for $i ≠ j$) represent the inner product of two distinct basis vectors bi and bj:\n",
    "\n",
    "$$G(i, j) = <b_i, b_j>$$\n",
    "\n",
    "This inner product can be related to the projection of one vector onto another and the angle between them. Specifically, the inner product can be expressed as:\n",
    "\n",
    "$$<b_i, b_j> = ||b_i|| \\cdot||b_j|| \\cos(θ)$$\n",
    "\n",
    "where $θ$ is the angle between the two vectors $b_i$ and $b_j$, and $||b_i||$ and $||b_j||$ are the Euclidean norms of the vectors.\n",
    "\n",
    "The non-diagonal elements of the Gram matrix can provide information about the \"closeness\" of the basis vectors in terms of their mutual angles. A positive inner product suggests that the angle between the two vectors is less than 90 degrees, while a negative inner product indicates that the angle is between 90 and 180 degrees. If the inner product is zero, it means that the two vectors are orthogonal, i.e., the angle between them is 90 degrees.\n",
    "\n",
    "In the context of LLL reduction, although the basis vectors are not guaranteed to be orthogonal, they are more orthogonal compared to an arbitrary basis for the lattice. This is due to the Lovász condition, which helps minimize the mutual projections of consecutive basis vectors. Therefore, the off-diagonal elements in the Gram matrix of an LLL-reduced basis should generally be smaller in magnitude compared to those of a non-reduced basis, reflecting the \"almost orthogonal\" nature of the LLL-reduced basis.\n"
   ]
  },
  {
   "cell_type": "markdown",
   "metadata": {},
   "source": []
  },
  {
   "cell_type": "code",
   "execution_count": 89,
   "metadata": {},
   "outputs": [
    {
     "name": "stdout",
     "output_type": "stream",
     "text": [
      "[  334  -277  1082]\n",
      "[ -277   346 -1229]\n",
      "[ 1082 -1229  4598]\n",
      "Norm of the 0-th vector is 18.2756668824971\n",
      "Norm of the 1-th vector is 18.6010752377383\n",
      "Norm of the 2-th vector is 67.8085540326587\n"
     ]
    }
   ],
   "source": [
    "print(matrix(G))\n",
    "for i in range(len(G)):\n",
    "    print(\"Norm of the {}-th vector is {}\".format(i, sqrt(G[i][i].n())))"
   ]
  },
  {
   "cell_type": "code",
   "execution_count": 90,
   "metadata": {},
   "outputs": [
    {
     "name": "stdout",
     "output_type": "stream",
     "text": [
      "[  1.00 -0.815  0.873]\n",
      "[-0.815   1.00 -0.974]\n",
      "[ 0.873 -0.974   1.00]\n"
     ]
    }
   ],
   "source": [
    "cosine_matrix = [[0] * 3 for _ in range(3)]\n",
    "for i in range(3):\n",
    "    for j in range(3):\n",
    "        cosine_matrix[i][j] = G[i][j] / sqrt(G[i][i] * G[j][j]) .n(digits=3)\n",
    "\n",
    "print(matrix(cosine_matrix))\n"
   ]
  },
  {
   "cell_type": "code",
   "execution_count": 91,
   "metadata": {},
   "outputs": [
    {
     "name": "stdout",
     "output_type": "stream",
     "text": [
      "Deleted index:  0\n",
      "x-axis: vector [-15, 11, 0] with norm 18.60\n",
      "y-axis: vector [46, -49, -9] with norm 67.81\n"
     ]
    },
    {
     "data": {
      "image/png": "[encoded data removed]",
      "text/plain": [
       "<Figure size 432x288 with 1 Axes>"
      ]
     },
     "metadata": {
      "needs_background": "light"
     },
     "output_type": "display_data"
    }
   ],
   "source": [
    "plot_nearest_norms(lc_cube, lc_LLL, B, neighborhood=5)"
   ]
  },
  {
   "attachments": {},
   "cell_type": "markdown",
   "metadata": {},
   "source": [
    "### Testing the descent algorithm\n"
   ]
  },
  {
   "cell_type": "code",
   "execution_count": 92,
   "metadata": {},
   "outputs": [
    {
     "name": "stdout",
     "output_type": "stream",
     "text": [
      "True\n"
     ]
    },
    {
     "data": {
      "image/png": "[encoded data removed]",
      "text/plain": [
       "<Figure size 432x288 with 1 Axes>"
      ]
     },
     "metadata": {
      "needs_background": "light"
     },
     "output_type": "display_data"
    }
   ],
   "source": [
    "reached, pathway = descent_single(case)\n",
    "plot_pathway(pathway,reached)"
   ]
  },
  {
   "cell_type": "markdown",
   "metadata": {},
   "source": [
    "### Plot norm function\n"
   ]
  },
  {
   "cell_type": "markdown",
   "metadata": {},
   "source": []
  },
  {
   "cell_type": "code",
   "execution_count": 107,
   "metadata": {},
   "outputs": [
    {
     "name": "stdout",
     "output_type": "stream",
     "text": [
      "[  1 x_2 x_3] [  1]\n",
      "[x_2]\n",
      "[x_3]\n",
      "[(346*x_2 - 1229*x_3 - 277)*x_2 - (1229*x_2 - 4598*x_3 - 1082)*x_3 - 277*x_2 + 1082*x_3 + 334]\n",
      "((346*x_2 - 1229*x_3 - 277)*x_2 - (1229*x_2 - 4598*x_3 - 1082)*x_3 - 277*x_2 + 1082*x_3 + 334) <class 'sage.modules.free_module.FreeModule_ambient_field_with_category.element_class'>\n",
      "lccube: [1.00000000000000, -0.697577476501465, -0.4217753410339356]\n",
      "lcLLL: [1.00000000000000, 1.00000000000000, 0.000000000000000]\n",
      "x:  [  1 x_2 x_3]\n"
     ]
    },
    {
     "data": {
      "text/latex": [
       "$\\displaystyle \\left(\\begin{array}{r}\n",
       "346 \\, x_{2}^{2} - 2 \\, {\\left(1229 \\, x_{2} - 1082\\right)} x_{3} + 4598 \\, x_{3}^{2} - 554 \\, x_{2} + 334\n",
       "\\end{array}\\right)$"
      ],
      "text/plain": [
       "<IPython.core.display.Math object>"
      ]
     },
     "metadata": {},
     "output_type": "display_data"
    },
    {
     "name": "stdout",
     "output_type": "stream",
     "text": [
      "Deleted index:  0  (python indexing)\n"
     ]
    },
    {
     "name": "stderr",
     "output_type": "stream",
     "text": [
      "/usr/lib/python3/dist-packages/sage/repl/rich_output/display_manager.py:608: RichReprWarning: Exception in _rich_repr_ while displaying object: Substitution using function-call syntax and unnamed arguments has been removed. You can use named arguments instead, like EXPR(x=..., y=...)\n",
      "  warnings.warn(\n"
     ]
    },
    {
     "data": {
      "text/plain": [
       "Graphics3d Object"
      ]
     },
     "metadata": {},
     "output_type": "display_data"
    }
   ],
   "source": [
    "%run case_study_tools.ipynb\n",
    "plot_norm_function(G, lc_cube, lc_LLL)"
   ]
  },
  {
   "cell_type": "code",
   "execution_count": null,
   "metadata": {},
   "outputs": [],
   "source": []
  },
  {
   "cell_type": "code",
   "execution_count": null,
   "metadata": {},
   "outputs": [],
   "source": []
  }
 ],
 "metadata": {
  "kernelspec": {
   "display_name": "SageMath 9.5",
   "language": "sage",
   "name": "sagemath"
  },
  "language_info": {
   "codemirror_mode": {
    "name": "ipython",
    "version": 3
   },
   "file_extension": ".py",
   "mimetype": "text/x-python",
   "name": "python",
   "nbconvert_exporter": "python",
   "pygments_lexer": "ipython3",
   "version": "3.10.6"
  },
  "orig_nbformat": 4
 },
 "nbformat": 4,
 "nbformat_minor": 2
}
