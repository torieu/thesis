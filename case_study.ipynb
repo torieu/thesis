{
 "cells": [
  {
   "cell_type": "code",
   "execution_count": 779,
   "metadata": {},
   "outputs": [],
   "source": [
    "# Importing functions\n",
    "%run closest_versus_minimal_tools.ipynb\n",
    "%run descent.ipynb\n",
    "%run case_study_tools.ipynb"
   ]
  },
  {
   "attachments": {},
   "cell_type": "markdown",
   "metadata": {},
   "source": [
    "## Case study\n",
    "\n",
    "This shall become a code, where after inputing a single case, I can experiment with its various features such as\n",
    "- study its cube points\n",
    "- focus on properties of a single Gram matrix\n",
    "- plot various properties"
   ]
  },
  {
   "cell_type": "code",
   "execution_count": 780,
   "metadata": {},
   "outputs": [],
   "source": [
    "case = {\"B\": [[4, 26, -8], [24, -1, -38], [47, -29, -38]], \n",
    "        \"G\": [[756, 374, -262], [374, 2021, 2601], [-262, 2601, 4494]],\n",
    "        \"lincomb_LLL\": [1.0, 0.0, 0.0],\n",
    "        \"lincomb_cube\": [1.0, -1.019439697265625, 0.6483230590820312],\n",
    "        \"sv_LLL\": [4.0, 26.0, -8.0],\n",
    "        \"sv_cube\": [10.004638671875, 8.21807861328125, 6.1024169921875],\n",
    "        \"lincomb_diff\": [0.0, 1.019439697265625, -0.6483230590820312],\n",
    "        \"Diff impact\": [0.0, 0.0, 0.0, 0.0, 2100.34, -1719.07, 0.0, -1719.07, 1888.93]}\n",
    "\n",
    "# case = {\"B\": [[2, -12, 3], [4, -4, 10], [-34, 40, -19]], \n",
    "#         \"G\": [[157, 86, -605], [86, 132, -486], [-605, -486, 3117]], \n",
    "#         \"lincomb_LLL\": [-1.0, 1.0, 0.0], \n",
    "#         \"lincomb_cube\": [-1.0, -0.1481785774230957, -0.21720075607299805], \n",
    "#         \"sv_LLL\": [2.0, 8.0, 7.0], \n",
    "#         \"sv_cube\": [4.7921142578125, 3.9046783447265625, -0.3549652099609375], \n",
    "#         \"lincomb_diff\": [0.0, 1.1481781005859375, 0.21720075607299805], \n",
    "#         \"Diff impact\": [0.0, 0.0, -0.0, 0.0, 174.02, -121.2, -0.0, -121.2, 147.05]}"
   ]
  },
  {
   "cell_type": "code",
   "execution_count": 781,
   "metadata": {},
   "outputs": [],
   "source": [
    "B = case[\"B\"]\n",
    "G = case[\"G\"]\n",
    "lc_LLL = case[\"lincomb_LLL\"]\n",
    "lc_cube = case[\"lincomb_cube\"]\n",
    "sv_LLL = case[\"sv_LLL\"]\n",
    "sv_cube = case[\"sv_cube\"]\n",
    "lincomb_diff = case[\"lincomb_diff\"]\n",
    "Diff_impact = [[case[\"Diff impact\"][i*3 + j].n(digits=4) for j in range(3)] for i in range(3)]\n",
    "\n",
    "cube = cube_points(lc_cube)\n"
   ]
  },
  {
   "cell_type": "code",
   "execution_count": 782,
   "metadata": {},
   "outputs": [
    {
     "name": "stdout",
     "output_type": "stream",
     "text": [
      "[[1, -2, 0], [1, -2, 1], [1, -1, 0], [1, -1, 1]]\n"
     ]
    }
   ],
   "source": [
    "print(cube)"
   ]
  },
  {
   "attachments": {},
   "cell_type": "markdown",
   "metadata": {},
   "source": [
    "### Connection between Gram matrix and LLL-reduced basis\n",
    "\n",
    "Given an LLL-reduced basis B = {b1, b2, ..., bn} of a lattice L in an n-dimensional real Euclidean space, its Gram matrix G is an n×n symmetric matrix where the entry G(i, j) is the inner product of the basis vectors bi and bj:\n",
    "\n",
    "$$G(i, j) = <b_i, b_j>$$\n",
    "\n",
    "**Norms of basis vectors**\n",
    "\n",
    "The connection between the Gram matrix and the norms of the basis vectors can be understood through the diagonal elements of G. The diagonal elements G(i, i) represent the inner product of the basis vector bi with itself, which is the square of the Euclidean norm ||bi||^2:\n",
    "\n",
    "$$G(i, i) = <b_i, b_i> = ||b_i||^2$$\n",
    "\n",
    "To obtain the norms of the basis vectors, simply take the square root of the corresponding diagonal elements.\n",
    "\n",
    "**Interpretation of non-diagonal elements**\n",
    "\n",
    "The non-diagonal elements of the Gram matrix can be interpreted in terms of the projection of one basis vector onto another, as well as the angle between them. The off-diagonal elements G(i, j) (for i ≠ j) represent the inner product of two distinct basis vectors bi and bj:\n",
    "\n",
    "$$G(i, j) = <b_i, b_j>$$\n",
    "\n",
    "This inner product can be related to the projection of one vector onto another and the angle between them. Specifically, the inner product can be expressed as:\n",
    "\n",
    "$$<b_i, b_j> = ||b_i|| \\cdot||b_j|| \\cos(θ)$$\n",
    "\n",
    "where θ is the angle between the two vectors bi and bj, and ||bi|| and ||bj|| are the Euclidean norms of the vectors.\n",
    "\n",
    "The non-diagonal elements of the Gram matrix can provide information about the \"closeness\" of the basis vectors in terms of their mutual angles. A positive inner product suggests that the angle between the two vectors is less than 90 degrees, while a negative inner product indicates that the angle is between 90 and 180 degrees. If the inner product is zero, it means that the two vectors are orthogonal, i.e., the angle between them is 90 degrees.\n",
    "\n",
    "In the context of LLL reduction, although the basis vectors are not guaranteed to be orthogonal, they are more orthogonal compared to an arbitrary basis for the lattice. This is due to the Lovász condition, which helps minimize the mutual projections of consecutive basis vectors. Therefore, the off-diagonal elements in the Gram matrix of an LLL-reduced basis should generally be smaller in magnitude compared to those of a non-reduced basis, reflecting the \"almost orthogonal\" nature of the LLL-reduced basis.\n"
   ]
  },
  {
   "cell_type": "code",
   "execution_count": 783,
   "metadata": {},
   "outputs": [
    {
     "name": "stdout",
     "output_type": "stream",
     "text": [
      "[ 756  374 -262]\n",
      "[ 374 2021 2601]\n",
      "[-262 2601 4494]\n",
      "Norm of the 0-th vector is 27.4954541697350\n",
      "Norm of the 1-th vector is 44.9555335859780\n",
      "Norm of the 2-th vector is 67.0373030483775\n"
     ]
    }
   ],
   "source": [
    "print(matrix(G))\n",
    "for i in range(len(G)):\n",
    "    print(\"Norm of the {}-th vector is {}\".format(i, sqrt(G[i][i].n())))"
   ]
  },
  {
   "cell_type": "code",
   "execution_count": 784,
   "metadata": {},
   "outputs": [
    {
     "name": "stdout",
     "output_type": "stream",
     "text": [
      "[  1.00  0.303 -0.142]\n",
      "[ 0.303   1.00  0.863]\n",
      "[-0.142  0.863   1.00]\n"
     ]
    }
   ],
   "source": [
    "cosine_matrix = [[0] * 3 for _ in range(3)]\n",
    "for i in range(3):\n",
    "    for j in range(3):\n",
    "        cosine_matrix[i][j] = G[i][j] / sqrt(G[i][i] * G[j][j]) .n(digits=3)\n",
    "\n",
    "print(matrix(cosine_matrix))\n"
   ]
  },
  {
   "cell_type": "code",
   "execution_count": 789,
   "metadata": {},
   "outputs": [
    {
     "name": "stdout",
     "output_type": "stream",
     "text": [
      "Deleted index:  0\n",
      "x-axis: vector [24, -1, -38] with norm 44.96\n",
      "y-axis: vector [47, -29, -38] with norm 67.04\n"
     ]
    },
    {
     "data": {
      "image/png": "[encoded data removed]",
      "text/plain": [
       "<Figure size 432x288 with 1 Axes>"
      ]
     },
     "metadata": {
      "needs_background": "light"
     },
     "output_type": "display_data"
    }
   ],
   "source": [
    "plot_nearest_norms(lc_cube, lc_LLL, B, neighborhood=5)"
   ]
  },
  {
   "attachments": {},
   "cell_type": "markdown",
   "metadata": {},
   "source": [
    "### Testing the descent algorithm\n"
   ]
  },
  {
   "cell_type": "code",
   "execution_count": 786,
   "metadata": {},
   "outputs": [
    {
     "name": "stdout",
     "output_type": "stream",
     "text": [
      "False\n"
     ]
    },
    {
     "data": {
      "image/png": "[encoded data removed]",
      "text/plain": [
       "<Figure size 432x288 with 1 Axes>"
      ]
     },
     "metadata": {
      "needs_background": "light"
     },
     "output_type": "display_data"
    }
   ],
   "source": [
    "reached, pathway = descent_single(case)\n",
    "plot_pathway(pathway,reached)"
   ]
  }
 ],
 "metadata": {
  "kernelspec": {
   "display_name": "SageMath 9.5",
   "language": "sage",
   "name": "sagemath"
  },
  "language_info": {
   "codemirror_mode": {
    "name": "ipython",
    "version": 3
   },
   "file_extension": ".py",
   "mimetype": "text/x-python",
   "name": "python",
   "nbconvert_exporter": "python",
   "pygments_lexer": "ipython3",
   "version": "3.10.6"
  },
  "orig_nbformat": 4
 },
 "nbformat": 4,
 "nbformat_minor": 2
}
