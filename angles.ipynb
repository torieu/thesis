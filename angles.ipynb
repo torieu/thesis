{
 "cells": [
  {
   "cell_type": "code",
   "execution_count": 53,
   "id": "e44fb1fd",
   "metadata": {
    "vscode": {
     "languageId": "python"
    }
   },
   "outputs": [],
   "source": [
    "from generate import * \n",
    "\n",
    "jsonfilename10F = \"functioning-false-dim-10-randomperimeter-1000.json\"\n",
    "jsonfilename6F = \"functioning-false-dim-6-randomperimeter-1000.json\"\n",
    "jsonfilename4F = \"functioning-false-dim-4-randomperimeter-1000.json\"\n",
    "jsonfilename3F = \"functioning-false-dim-3-randomperimeter-1000.json\"\n",
    "\n",
    "jsonfilename3T = \"functioning-true-dim-3-randomperimeter-1000.json\"\n",
    "jsonfilename4T = \"functioning-true-dim-4-randomperimeter-1000.json\"\n",
    "jsonfilename6T = \"functioning-true-dim-6-randomperimeter-1000.json\"\n",
    "jsonfilename10T = \"functioning-true-dim-10-randomperimeter-1000.json\"\n"
   ]
  },
  {
   "cell_type": "code",
   "execution_count": 54,
   "id": "5a16ea4e",
   "metadata": {
    "vscode": {
     "languageId": "python"
    }
   },
   "outputs": [],
   "source": [
    "def detect_angles(jsonfilename, alpha):\n",
    "    assert alpha <= 90\n",
    "    print(jsonfilename)\n",
    "    cases = from_json(jsonfilename)\n",
    "    results = [] \n",
    "    for case in cases:\n",
    "        B = case[\"B\"] # represented by a list\n",
    "        result = detect_angles_inner(B, alpha)\n",
    "        results.append(result)\n",
    "    return dict((x,results.count(x)) for x in set(results))\n",
    "    \n",
    "def detect_angles_inner(matrix, alpha):\n",
    "    result = [0, 0] # [less than α, more than α]\n",
    "    for i in range(len(matrix)): # For index in a lattice basis\n",
    "        for j in range(i + 1, len(matrix)): # For indexed after i in a lattice basis\n",
    "            u = vector(matrix[i])\n",
    "            v = vector(matrix[j])\n",
    "            angl = angle(u, v)\n",
    "            if angl <= alpha or angl >= (180-alpha):\n",
    "                result[0] += 1\n",
    "            else:\n",
    "                result[1] += 1    \n",
    "    return tuple(result)\n",
    "\n",
    "def angle(u, v):\n",
    "    return (arccos((u.dot_product(v))/(norm(u) * norm(v)))*180/pi).n()\n",
    "\n",
    "\n",
    "def visualize_angle_counts(angle_counts):\n",
    "    print(\"α = \", alpha)\n",
    "    # print()\n",
    "    print(f\"{'< α':<10}{'> α  ':<10}{'Count':<10}\")\n",
    "    print(\"-\" * 55) \n",
    "    for (less_than, greater_than), count in angle_counts.items():\n",
    "        print(f\"{less_than:<10}{greater_than:<10}{count:<10}\")"
   ]
  },
  {
   "cell_type": "code",
   "execution_count": 56,
   "id": "d7158b93",
   "metadata": {
    "vscode": {
     "languageId": "python"
    }
   },
   "outputs": [
    {
     "name": "stdout",
     "output_type": "stream",
     "text": [
      "functioning-true-dim-3-randomperimeter-1000.json\n",
      "α =  5\n",
      "< α       > α       Count     \n",
      "-------------------------------------------------------\n",
      "1         2         82        \n",
      "0         3         9868      \n",
      "\n",
      "functioning-true-dim-4-randomperimeter-1000.json\n",
      "α =  5\n",
      "< α       > α       Count     \n",
      "-------------------------------------------------------\n",
      "1         5         1         \n",
      "0         6         976       \n",
      "\n",
      "functioning-true-dim-6-randomperimeter-1000.json\n",
      "α =  5\n",
      "< α       > α       Count     \n",
      "-------------------------------------------------------\n",
      "0         15        94        \n",
      "\n",
      "functioning-true-dim-10-randomperimeter-1000.json\n",
      "α =  5\n",
      "< α       > α       Count     \n",
      "-------------------------------------------------------\n",
      "0         45        16        \n",
      "\n",
      "functioning-false-dim-10-randomperimeter-1000.json\n",
      "α =  5\n",
      "< α       > α       Count     \n",
      "-------------------------------------------------------\n",
      "0         45        23        \n",
      "\n",
      "functioning-false-dim-6-randomperimeter-1000.json\n",
      "α =  5\n",
      "< α       > α       Count     \n",
      "-------------------------------------------------------\n",
      "0         15        872       \n",
      "\n",
      "functioning-false-dim-4-randomperimeter-1000.json\n",
      "α =  5\n",
      "< α       > α       Count     \n",
      "-------------------------------------------------------\n",
      "0         6         250       \n",
      "\n",
      "functioning-false-dim-3-randomperimeter-1000.json\n",
      "α =  5\n",
      "< α       > α       Count     \n",
      "-------------------------------------------------------\n",
      "1         2         45        \n",
      "0         3         518       \n",
      "\n"
     ]
    }
   ],
   "source": [
    "for file in [jsonfilename3T, jsonfilename4T, jsonfilename6T, jsonfilename10T,\n",
    "    jsonfilename10F, jsonfilename6F,jsonfilename4F, jsonfilename3F]:\n",
    "    for alpha in [5]:\n",
    "        visualize_angle_counts(detect_angles(file, alpha))\n",
    "    print()"
   ]
  },
  {
   "cell_type": "code",
   "execution_count": 59,
   "id": "d38b0b55",
   "metadata": {
    "vscode": {
     "languageId": "python"
    }
   },
   "outputs": [
    {
     "name": "stdout",
     "output_type": "stream",
     "text": [
      "functioning-true-dim-4-randomperimeter-1000.json\n",
      "α =  10\n",
      "< α       > α       Count     \n",
      "-------------------------------------------------------\n",
      "1         5         13        \n",
      "0         6         964       \n",
      "\n",
      "functioning-true-dim-6-randomperimeter-1000.json\n",
      "α =  10\n",
      "< α       > α       Count     \n",
      "-------------------------------------------------------\n",
      "0         15        94        \n",
      "\n",
      "functioning-true-dim-10-randomperimeter-1000.json\n",
      "α =  10\n",
      "< α       > α       Count     \n",
      "-------------------------------------------------------\n",
      "0         45        16        \n",
      "\n",
      "functioning-false-dim-10-randomperimeter-1000.json\n",
      "α =  10\n",
      "< α       > α       Count     \n",
      "-------------------------------------------------------\n",
      "0         45        23        \n",
      "\n",
      "functioning-false-dim-6-randomperimeter-1000.json\n",
      "α =  10\n",
      "< α       > α       Count     \n",
      "-------------------------------------------------------\n",
      "1         14        1         \n",
      "0         15        871       \n",
      "\n",
      "functioning-false-dim-4-randomperimeter-1000.json\n",
      "α =  10\n",
      "< α       > α       Count     \n",
      "-------------------------------------------------------\n",
      "1         5         11        \n",
      "0         6         239       \n",
      "\n",
      "functioning-false-dim-3-randomperimeter-1000.json\n",
      "α =  10\n",
      "< α       > α       Count     \n",
      "-------------------------------------------------------\n",
      "1         2         161       \n",
      "2         1         5         \n",
      "3         0         6         \n",
      "0         3         391       \n",
      "\n"
     ]
    }
   ],
   "source": [
    "for file in [jsonfilename4T, jsonfilename6T, jsonfilename10T,\n",
    "    jsonfilename10F, jsonfilename6F,jsonfilename4F, jsonfilename3F]:\n",
    "    for alpha in [10]:\n",
    "        visualize_angle_counts(detect_angles(file, alpha))\n",
    "    print()"
   ]
  }
 ],
 "metadata": {
  "kernelspec": {
   "display_name": "SageMath 9.5",
   "language": "sage",
   "name": "sagemath"
  },
  "language_info": {
   "codemirror_mode": {
    "name": "ipython",
    "version": 3
   },
   "file_extension": ".py",
   "mimetype": "text/x-python",
   "name": "sage",
   "nbconvert_exporter": "python",
   "pygments_lexer": "ipython3",
   "version": "3.10.6"
  }
 },
 "nbformat": 4,
 "nbformat_minor": 5
}
