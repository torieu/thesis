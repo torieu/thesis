{
 "cells": [
  {
   "cell_type": "code",
   "execution_count": 19,
   "metadata": {},
   "outputs": [
    {
     "data": {
      "text/plain": [
       "[ 1  0  0 34]\n",
       "[ 0  1  0 77]\n",
       "[ 0  0  1 39]"
      ]
     },
     "execution_count": 19,
     "metadata": {},
     "output_type": "execute_result"
    }
   ],
   "source": [
    "def Iji_matrix(n, j, i):\n",
    "    return random_matrix(ZZ,n,j, algorithm='echelonizable', rank = min(n, j), upper_bound=i)\n",
    "\n",
    "def hard_instance_lattice(n, r, q):\n",
    "    '''\n",
    "    implemented according to page 2. of https://people.csail.mit.edu/vinodv/CS294/ajtai99.pdf\n",
    "        part: \n",
    "        Assume that  \n",
    "        ...\n",
    "        The distribution of L \n",
    "    '''\n",
    "    assert q.is_prime() == True\n",
    "    A = Iji_matrix(n=n, j=r,  i=q)\n",
    "    b = matrix(GF(q), [0]*n).transpose()\n",
    "    A_q = A.change_ring(GF(q))\n",
    "    b_q = b.change_ring(GF(q))\n",
    "    K_space = kernel(A_q)\n",
    "    K_q = matrix(K_space.basis())\n",
    "    K = K_q.change_ring(ZZ) \n",
    "    assert K*A_q == matrix(n-r,r)\n",
    "    \n",
    "    return K\n",
    "\n",
    "hard_instance_lattice(n=4, r=1, q=113)"
   ]
  }
 ],
 "metadata": {
  "kernelspec": {
   "display_name": "SageMath 9.5",
   "language": "sage",
   "name": "sagemath"
  },
  "language_info": {
   "codemirror_mode": {
    "name": "ipython",
    "version": 3
   },
   "file_extension": ".py",
   "mimetype": "text/x-python",
   "name": "python",
   "nbconvert_exporter": "python",
   "pygments_lexer": "ipython3",
   "version": "3.10.6"
  }
 },
 "nbformat": 4,
 "nbformat_minor": 2
}
