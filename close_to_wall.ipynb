{
 "cells": [
  {
   "cell_type": "code",
   "execution_count": 1,
   "id": "def71539",
   "metadata": {},
   "outputs": [
    {
     "name": "stderr",
     "output_type": "stream",
     "text": [
      "/workspaces/thesis/close_to_wall.py:4: DeprecationWarning: invalid escape sequence '\\{'\n",
      "  '''\n"
     ]
    }
   ],
   "source": [
    "import generate\n",
    "from close_to_wall import detect_rounding"
   ]
  },
  {
   "cell_type": "code",
   "execution_count": 7,
   "id": "4f76ae7a",
   "metadata": {},
   "outputs": [],
   "source": [
    "jsonfilename10F = \"functioning-false-dim-10-randomperimeter-1000.json\"\n",
    "jsonfilename6F = \"functioning-false-dim-6-randomperimeter-1000.json\"\n",
    "jsonfilename4F = \"functioning-false-dim-4-randomperimeter-1000.json\"\n",
    "jsonfilename3F = \"functioning-false-dim-3-randomperimeter-1000.json\"\n",
    "\n",
    "jsonfilename3T = \"functioning-true-dim-3-randomperimeter-1000.json\"\n",
    "jsonfilename4T = \"functioning-true-dim-4-randomperimeter-1000.json\"\n",
    "jsonfilename6T = \"functioning-true-dim-6-randomperimeter-1000.json\"\n",
    "jsonfilename10T = \"functioning-true-dim-10-randomperimeter-1000.json\"\n",
    "\n",
    "limits = [0.05, 0.005, 0.0010, 0.0005, 0.0001]"
   ]
  },
  {
   "cell_type": "markdown",
   "id": "3a4dab83",
   "metadata": {},
   "source": [
    "# Rounding detection\n",
    "\n",
    "This notebook's purpose is to test a following hypothesis: given a \"cube\" defined by real-valued coordinates from the cube algorithm, assume a rounding of these coordinates, which are in some sense *nearly* an integer. We test whether this rounding gives us the desired coordinate of the linear combination given by the LLL. \n",
    "\n",
    "Note: this may not work always, as sometimes the jump is greater than 1."
   ]
  },
  {
   "cell_type": "code",
   "execution_count": 11,
   "id": "1c5d1bd1",
   "metadata": {
    "scrolled": true
   },
   "outputs": [
    {
     "name": "stdout",
     "output_type": "stream",
     "text": [
      "\n",
      " functioning-false-dim-10-randomperimeter-1000.json\n",
      "success: 10  fail: 13 for limit = 0.050\n",
      "success: 0  fail: 2 for limit = 0.0050\n",
      "success: 0  fail: 1 for limit = 0.0010\n",
      "success: 0  fail: 0 for limit = 0.00050\n",
      "success: 0  fail: 0 for limit = 0.00010\n",
      "\n",
      " functioning-false-dim-6-randomperimeter-1000.json\n",
      "success: 4  fail: 7 for limit = 0.050\n",
      "success: 1  fail: 1 for limit = 0.0050\n",
      "success: 0  fail: 1 for limit = 0.0010\n",
      "success: 0  fail: 0 for limit = 0.00050\n",
      "success: 0  fail: 0 for limit = 0.00010\n",
      "\n",
      " functioning-false-dim-4-randomperimeter-1000.json\n",
      "success: 0  fail: 7 for limit = 0.050\n",
      "success: 0  fail: 0 for limit = 0.0050\n",
      "success: 0  fail: 0 for limit = 0.0010\n",
      "success: 0  fail: 0 for limit = 0.00050\n",
      "success: 0  fail: 0 for limit = 0.00010\n",
      "\n",
      " functioning-false-dim-3-randomperimeter-1000.json\n",
      "success: 0  fail: 14 for limit = 0.050\n",
      "success: 0  fail: 2 for limit = 0.0050\n",
      "success: 0  fail: 0 for limit = 0.0010\n",
      "success: 0  fail: 0 for limit = 0.00050\n",
      "success: 0  fail: 0 for limit = 0.00010\n",
      "\n",
      " functioning-true-dim-3-randomperimeter-1000.json\n",
      "success: 25  fail: 0 for limit = 0.050\n",
      "success: 0  fail: 0 for limit = 0.0050\n",
      "success: 0  fail: 0 for limit = 0.0010\n",
      "success: 0  fail: 0 for limit = 0.00050\n",
      "success: 0  fail: 0 for limit = 0.00010\n",
      "\n",
      " functioning-true-dim-4-randomperimeter-1000.json\n",
      "success: 24  fail: 2 for limit = 0.050\n",
      "success: 2  fail: 0 for limit = 0.0050\n",
      "success: 1  fail: 0 for limit = 0.0010\n",
      "success: 0  fail: 0 for limit = 0.00050\n",
      "success: 0  fail: 0 for limit = 0.00010\n",
      "\n",
      " functioning-true-dim-6-randomperimeter-1000.json\n",
      "success: 34  fail: 5 for limit = 0.050\n",
      "success: 3  fail: 0 for limit = 0.0050\n",
      "success: 1  fail: 0 for limit = 0.0010\n",
      "success: 0  fail: 0 for limit = 0.00050\n",
      "success: 0  fail: 0 for limit = 0.00010\n",
      "\n",
      " functioning-true-dim-10-randomperimeter-1000.json\n",
      "success: 44  fail: 8 for limit = 0.050\n",
      "success: 6  fail: 0 for limit = 0.0050\n",
      "success: 1  fail: 0 for limit = 0.0010\n",
      "success: 0  fail: 0 for limit = 0.00050\n",
      "success: 0  fail: 0 for limit = 0.00010\n"
     ]
    }
   ],
   "source": [
    "for file in [jsonfilename10F, jsonfilename6F,jsonfilename4F, jsonfilename3F,\n",
    "            jsonfilename3T, jsonfilename4T, jsonfilename6T,jsonfilename10T]:\n",
    "    print(\"\\n\",file)\n",
    "    for [limit, [a,b,c,d]] in detect_rounding(file, limits).items():\n",
    "        print(\"success: {}  fail: {} for limit = {}\".format(a,b, limit.n(digits=1)))"
   ]
  }
 ],
 "metadata": {
  "kernelspec": {
   "display_name": "SageMath 9.5",
   "language": "sage",
   "name": "sagemath"
  },
  "language_info": {
   "codemirror_mode": {
    "name": "ipython",
    "version": 3
   },
   "file_extension": ".py",
   "mimetype": "text/x-python",
   "name": "python",
   "nbconvert_exporter": "python",
   "pygments_lexer": "ipython3",
   "version": "3.10.6"
  }
 },
 "nbformat": 4,
 "nbformat_minor": 5
}
