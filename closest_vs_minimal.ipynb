{
 "cells": [
  {
   "cell_type": "code",
   "execution_count": 1,
   "id": "acad773c",
   "metadata": {
    "tags": [],
    "vscode": {
     "languageId": "python"
    }
   },
   "outputs": [],
   "source": [
    "from closest_vs_minimal import *"
   ]
  },
  {
   "cell_type": "code",
   "execution_count": 2,
   "id": "b50266e7",
   "metadata": {
    "vscode": {
     "languageId": "python"
    }
   },
   "outputs": [],
   "source": [
    "jsonfilename10F = \"functioning-false-dim-10-randomperimeter-1000.json\"\n",
    "jsonfilename6F = \"functioning-false-dim-6-randomperimeter-1000.json\"\n",
    "jsonfilename4F = \"functioning-false-dim-4-randomperimeter-1000.json\"\n",
    "jsonfilename3F = \"functioning-false-dim-3-randomperimeter-1000.json\"\n",
    "\n",
    "jsonfilename3T = \"functioning-true-dim-3-randomperimeter-1000.json\"\n",
    "jsonfilename4T = \"functioning-true-dim-4-randomperimeter-1000.json\"\n",
    "jsonfilename6T = \"functioning-true-dim-6-randomperimeter-1000.json\"\n",
    "jsonfilename10T = \"functioning-true-dim-10-randomperimeter-1000.json\"\n"
   ]
  },
  {
   "cell_type": "code",
   "execution_count": 3,
   "id": "a48309fc",
   "metadata": {
    "vscode": {
     "languageId": "python"
    }
   },
   "outputs": [
    {
     "name": "stdout",
     "output_type": "stream",
     "text": [
      "\n",
      " functioning-true-dim-3-randomperimeter-1000.json\n",
      "closest=minimal: True 9950 \tFalse:  0\n",
      "\n",
      " functioning-true-dim-4-randomperimeter-1000.json\n",
      "closest=minimal: True 977 \tFalse:  0\n",
      "\n",
      " functioning-true-dim-6-randomperimeter-1000.json\n",
      "closest=minimal: True 94 \tFalse:  0\n",
      "\n",
      " functioning-true-dim-10-randomperimeter-1000.json\n",
      "closest=minimal: True 16 \tFalse:  0\n",
      "\n",
      " functioning-false-dim-10-randomperimeter-1000.json\n",
      "closest=minimal: True 0 \tFalse:  23\n",
      "\n",
      " functioning-false-dim-6-randomperimeter-1000.json\n",
      "closest=minimal: True 125 \tFalse:  747\n",
      "\n",
      " functioning-false-dim-4-randomperimeter-1000.json\n",
      "closest=minimal: True 60 \tFalse:  190\n",
      "\n",
      " functioning-false-dim-3-randomperimeter-1000.json\n",
      "closest=minimal: True 176 \tFalse:  387\n"
     ]
    }
   ],
   "source": [
    "for file in [ jsonfilename3T, jsonfilename4T, jsonfilename6T, jsonfilename10T,\n",
    "    jsonfilename10F, jsonfilename6F,jsonfilename4F, jsonfilename3F]:\n",
    "    print(\"\\n\",file)\n",
    "    [T,F] = closest_versus_minimal(file)\n",
    "    print(\"closest=minimal: True\", T, \"\\tFalse: \", F)"
   ]
  }
 ],
 "metadata": {
  "kernelspec": {
   "display_name": "SageMath 9.5",
   "language": "sage",
   "name": "sagemath"
  },
  "language_info": {
   "codemirror_mode": {
    "name": "ipython",
    "version": 3
   },
   "file_extension": ".py",
   "mimetype": "text/x-python",
   "name": "sage",
   "nbconvert_exporter": "python",
   "pygments_lexer": "ipython3",
   "version": "3.10.6"
  }
 },
 "nbformat": 4,
 "nbformat_minor": 5
}
