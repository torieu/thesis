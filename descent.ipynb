{
 "cells": [
  {
   "cell_type": "code",
   "execution_count": 81,
   "id": "c78d5dc4",
   "metadata": {},
   "outputs": [],
   "source": [
    "%run generate_matrices.ipynb     # importing functions\n",
    "%run closest_versus_minimal.ipynb     # importing functions"
   ]
  },
  {
   "cell_type": "code",
   "execution_count": 106,
   "id": "fc785d44",
   "metadata": {},
   "outputs": [],
   "source": [
    "def descent(jsonfilename):\n",
    "    cases = from_json(jsonfilename)\n",
    "    reached = 0\n",
    "    pathways = []\n",
    "    for case in cases:\n",
    "        r, pathway = descent_single(case)\n",
    "        if r: reached += 1\n",
    "        pathways.append(pathway)\n",
    "    return reached, len(cases) - reached, pathways\n",
    "\n",
    "def descent_single(case):\n",
    "    pathway = []\n",
    "    B, lc_cube, lc_LLL = case[\"B\"], case[\"lincomb_cube\"], case[\"lincomb_LLL\"]        \n",
    "    pathway.append(lc_LLL)\n",
    "    minimal = evaluate_norms_at_cube(cube_points(lc_cube), B)[0][1]\n",
    "    center = minimal\n",
    "    central_norm = (vector(minimal)*matrix(B)).norm().n()\n",
    "    while True :\n",
    "        pathway.append(center)\n",
    "        big_cube = big_cube_points(minimal)\n",
    "        bigCubeMinimum = evaluate_norms_at_cube(big_cube, B)[0][1]\n",
    "        if center == bigCubeMinimum:\n",
    "            pathway.append(lc_cube)\n",
    "            reached = False\n",
    "            break # this part is faulty I believe. \n",
    "        elif bigCubeMinimum == lc_LLL:\n",
    "            reached = True\n",
    "            break\n",
    "        center = bigCubeMinimum\n",
    "    return reached, pathway\n",
    "\n",
    "def big_cube_points(int_combination):\n",
    "    points = []\n",
    "    for i in range((len(int_combination))):\n",
    "            dupe = int_combination[:]\n",
    "            dupe[i] += 1\n",
    "            points.append(copy(dupe))\n",
    "            dupe[i] -= 2\n",
    "            points.append(copy(dupe))\n",
    "    points = [list(map(lambda x : int(x), point)) for point in points]\n",
    "#     print(\"big cube points\", points)\n",
    "    return points\n",
    "\n",
    "def vector_difference(u, v):\n",
    "    difference = 0\n",
    "    for a, b in zip(u, v):\n",
    "        difference += abs(a - b)\n",
    "    return difference"
   ]
  },
  {
   "cell_type": "code",
   "execution_count": 105,
   "id": "97dd46d4",
   "metadata": {},
   "outputs": [
    {
     "name": "stdout",
     "output_type": "stream",
     "text": [
      "Reached the same LC as LLL in 15 cases, havent reached in 582 cases, success rate 2.51.\n"
     ]
    }
   ],
   "source": [
    "a, b, _ = descent(\"matrices6x6-600instances.json\")\n",
    "\n",
    "\n",
    "print(\"Reached the same LC as LLL in {} cases, havent reached in {} cases, success rate {}.\".format(a, b, 100*a/(a+b).n(digits=3)))"
   ]
  },
  {
   "cell_type": "code",
   "execution_count": 84,
   "id": "2884a490",
   "metadata": {},
   "outputs": [
    {
     "name": "stdout",
     "output_type": "stream",
     "text": [
      "Reached the same LC as LLL in 143 cases, havent reached in 532 cases, success rate 21.2.\n"
     ]
    }
   ],
   "source": [
    "c, d, _ = descent(\"matrices3x3-600instances.json\")\n",
    "\n",
    "print(\"Reached the same LC as LLL in {} cases, havent reached in {} cases, success rate {}.\".format(c, d, 100*c/(c+d).n(digits=3)))"
   ]
  },
  {
   "cell_type": "markdown",
   "id": "8fa66c56",
   "metadata": {},
   "source": [
    "What if I start the ascent in the closest point? It doesnt make much sense, as I am not able to compute the closest point without knowledge of the LLL linear combination, but im just curious rn."
   ]
  },
  {
   "cell_type": "code",
   "execution_count": 85,
   "id": "93457805",
   "metadata": {},
   "outputs": [],
   "source": [
    "def descent_from_closest(jsonfilename):\n",
    "    cases = from_json(jsonfilename)\n",
    "    reached = 0\n",
    "    for case in cases:\n",
    "        B, lc_cube, lc_LLL = case[\"B\"], case[\"lincomb_cube\"], case[\"lincomb_LLL\"]\n",
    "        minimal =  closest_point_in_cube(lc_cube, lc_LLL)\n",
    "        center = minimal\n",
    "        central_norm = (vector(minimal)*matrix(B)).norm().n()\n",
    "        while True :\n",
    "            big_cube = big_cube_points(minimal)\n",
    "            bigCubeMinimum = evaluate_norms_at_cube(big_cube, B)[0][1]\n",
    "            if center == bigCubeMinimum:\n",
    "                break\n",
    "            if bigCubeMinimum == lc_LLL:\n",
    "                reached += 1\n",
    "            center = bigCubeMinimum\n",
    "    return reached, len(cases) - reached\n"
   ]
  },
  {
   "cell_type": "code",
   "execution_count": 86,
   "id": "fac0835a",
   "metadata": {},
   "outputs": [
    {
     "name": "stdout",
     "output_type": "stream",
     "text": [
      "Reached the same LC as LLL in 48 cases, havent reached in 549 cases, success rate 8.04.\n",
      "Reached the same LC as LLL in 555 cases, havent reached in 120 cases, success rate 82.2.\n"
     ]
    }
   ],
   "source": [
    "e, f = descent_from_closest(\"matrices6x6-600instances.json\")\n",
    "\n",
    "print(\"Reached the same LC as LLL in {} cases, havent reached in {} cases, success rate {}.\".format(e, f, 100*e/(e+f).n(digits=3)))\n",
    "\n",
    "\n",
    "g, h = descent_from_closest(\"matrices3x3-600instances.json\")\n",
    "\n",
    "\n",
    "print(\"Reached the same LC as LLL in {} cases, havent reached in {} cases, success rate {}.\".format(g, h, 100*g/(g+h).n(digits=3)))\n"
   ]
  },
  {
   "cell_type": "code",
   "execution_count": 95,
   "id": "a77eaa2e",
   "metadata": {},
   "outputs": [
    {
     "data": {
      "image/png": "[encoded data removed]",
      "text/plain": [
       "<Figure size 432x288 with 1 Axes>"
      ]
     },
     "metadata": {
      "needs_background": "light"
     },
     "output_type": "display_data"
    },
    {
     "data": {
      "image/png": "[encoded data removed]",
      "text/plain": [
       "<Figure size 432x288 with 1 Axes>"
      ]
     },
     "metadata": {
      "needs_background": "light"
     },
     "output_type": "display_data"
    },
    {
     "data": {
      "image/png": "[encoded data removed]",
      "text/plain": [
       "<Figure size 432x288 with 1 Axes>"
      ]
     },
     "metadata": {
      "needs_background": "light"
     },
     "output_type": "display_data"
    },
    {
     "data": {
      "image/png": "[encoded data removed]",
      "text/plain": [
       "<Figure size 432x288 with 1 Axes>"
      ]
     },
     "metadata": {
      "needs_background": "light"
     },
     "output_type": "display_data"
    },
    {
     "data": {
      "image/png": "[encoded data removed]",
      "text/plain": [
       "<Figure size 432x288 with 1 Axes>"
      ]
     },
     "metadata": {
      "needs_background": "light"
     },
     "output_type": "display_data"
    },
    {
     "data": {
      "image/png": "[encoded data removed]",
      "text/plain": [
       "<Figure size 432x288 with 1 Axes>"
      ]
     },
     "metadata": {
      "needs_background": "light"
     },
     "output_type": "display_data"
    },
    {
     "data": {
      "image/png": "[encoded data removed]",
      "text/plain": [
       "<Figure size 432x288 with 1 Axes>"
      ]
     },
     "metadata": {
      "needs_background": "light"
     },
     "output_type": "display_data"
    },
    {
     "data": {
      "image/png": "[encoded data removed]",
      "text/plain": [
       "<Figure size 432x288 with 1 Axes>"
      ]
     },
     "metadata": {
      "needs_background": "light"
     },
     "output_type": "display_data"
    },
    {
     "data": {
      "image/png": "[encoded data removed]",
      "text/plain": [
       "<Figure size 432x288 with 1 Axes>"
      ]
     },
     "metadata": {
      "needs_background": "light"
     },
     "output_type": "display_data"
    },
    {
     "data": {
      "image/png": "[encoded data removed]",
      "text/plain": [
       "<Figure size 432x288 with 1 Axes>"
      ]
     },
     "metadata": {
      "needs_background": "light"
     },
     "output_type": "display_data"
    }
   ],
   "source": [
    "# This part of code is meant to generate the precise points the algorithm took during the descent. \n",
    "\n",
    "_, _, pathways = descent(\"matrices3x3-600instances.json\")\n",
    "\n",
    "\n",
    "import matplotlib.pyplot as plt\n",
    "\n",
    "def different_components(pathway):\n",
    "    diff_indices = set(range(len(pathway[0])))\n",
    "    \n",
    "    for i in range(len(pathway[0])):\n",
    "        unique_values = {point[i] for point in pathway}\n",
    "        if len(unique_values) == 1:\n",
    "            diff_indices.remove(i)\n",
    "\n",
    "    return list(diff_indices)\n",
    "\n",
    "def plot_pathway(pathway):\n",
    "    diff_indices = different_components(pathway)\n",
    "\n",
    "    x = [point[diff_indices[0]] for point in pathway]\n",
    "    y = [point[diff_indices[1]] for point in pathway]\n",
    "\n",
    "    # Create the plot\n",
    "    plt.scatter(x[1:-1], y[1:-1], color='blue',s=25)\n",
    "    plt.scatter(x[0], y[0], color='green',s=50)  # Highlight the first point in green\n",
    "    plt.scatter(x[-1], y[-1], color='red')  # Highlight the last point in red\n",
    "\n",
    "    # Add description next to the red point\n",
    "    description = f\"({x[-1]:.2f}, {y[-1]:.2f})\"\n",
    "    plt.text(x[-1] + 0.1, y[-1] - 0.1, description)\n",
    "\n",
    "    # Add gridlines corresponding to integers\n",
    "    plt.grid(True, which='both')\n",
    "\n",
    "    # Set axis ticks to integers only\n",
    "    plt.xticks(range(int(min(x)) - 1, int(max(x)) + 2))\n",
    "    plt.yticks(range(int(min(y)) - 1, int(max(y)) + 2))\n",
    "\n",
    "    # Show the plot\n",
    "    plt.show()\n",
    "\n",
    "\n",
    "\n",
    "# for pathway in pathways[:10]:\n",
    "#     plot_pathway(pathway)\n"
   ]
  },
  {
   "cell_type": "code",
   "execution_count": null,
   "id": "ca761c3e",
   "metadata": {},
   "outputs": [],
   "source": []
  },
  {
   "cell_type": "code",
   "execution_count": null,
   "id": "df5efc94",
   "metadata": {},
   "outputs": [],
   "source": []
  },
  {
   "cell_type": "code",
   "execution_count": null,
   "id": "3d7de7c8",
   "metadata": {},
   "outputs": [],
   "source": []
  },
  {
   "cell_type": "code",
   "execution_count": null,
   "id": "4b8ecbce",
   "metadata": {},
   "outputs": [],
   "source": []
  },
  {
   "cell_type": "code",
   "execution_count": null,
   "id": "4e432c40",
   "metadata": {},
   "outputs": [],
   "source": []
  },
  {
   "cell_type": "code",
   "execution_count": null,
   "id": "02fcbdf6",
   "metadata": {},
   "outputs": [],
   "source": []
  }
 ],
 "metadata": {
  "kernelspec": {
   "display_name": "SageMath 9.5",
   "language": "sage",
   "name": "sagemath"
  },
  "language_info": {
   "codemirror_mode": {
    "name": "ipython",
    "version": 3
   },
   "file_extension": ".py",
   "mimetype": "text/x-python",
   "name": "python",
   "nbconvert_exporter": "python",
   "pygments_lexer": "ipython3",
   "version": "3.10.6"
  }
 },
 "nbformat": 4,
 "nbformat_minor": 5
}
