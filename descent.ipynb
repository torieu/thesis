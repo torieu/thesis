{
 "cells": [
  {
   "cell_type": "code",
   "execution_count": 1,
   "id": "689f4a16",
   "metadata": {},
   "outputs": [],
   "source": [
    "from descent import descent"
   ]
  },
  {
   "cell_type": "code",
   "execution_count": 2,
   "id": "aaa8ca2f",
   "metadata": {},
   "outputs": [],
   "source": [
    "jsonfilename10F = \"functioning-false-dim-10-randomperimeter-1000.json\"\n",
    "jsonfilename6F = \"functioning-false-dim-6-randomperimeter-1000.json\"\n",
    "jsonfilename4F = \"functioning-false-dim-4-randomperimeter-1000.json\"\n",
    "jsonfilename3F = \"functioning-false-dim-3-randomperimeter-1000.json\"\n",
    "\n",
    "jsonfilename3T = \"functioning-true-dim-3-randomperimeter-1000.json\"\n",
    "jsonfilename4T = \"functioning-true-dim-4-randomperimeter-1000.json\"\n",
    "jsonfilename6T = \"functioning-true-dim-6-randomperimeter-1000.json\"\n",
    "jsonfilename10T = \"functioning-true-dim-10-randomperimeter-1000.json\"\n"
   ]
  },
  {
   "cell_type": "code",
   "execution_count": 3,
   "id": "2884a490",
   "metadata": {},
   "outputs": [
    {
     "name": "stdout",
     "output_type": "stream",
     "text": [
      "\n",
      " functioning-true-dim-3-randomperimeter-1000.json\n",
      "Reached the same LC as exact in 9889 cases, havent reached in 61 cases, success rate 99.38693467336684.\n",
      "\n",
      " functioning-true-dim-4-randomperimeter-1000.json\n",
      "Reached the same LC as exact in 927 cases, havent reached in 50 cases, success rate 94.88229273285567.\n",
      "\n",
      " functioning-true-dim-6-randomperimeter-1000.json\n",
      "Reached the same LC as exact in 74 cases, havent reached in 20 cases, success rate 78.72340425531915.\n",
      "\n",
      " functioning-true-dim-10-randomperimeter-1000.json\n",
      "Reached the same LC as exact in 11 cases, havent reached in 5 cases, success rate 68.75.\n",
      "\n",
      " functioning-false-dim-10-randomperimeter-1000.json\n",
      "Reached the same LC as exact in 2 cases, havent reached in 21 cases, success rate 8.695652173913043.\n",
      "\n",
      " functioning-false-dim-6-randomperimeter-1000.json\n",
      "Reached the same LC as exact in 106 cases, havent reached in 766 cases, success rate 12.155963302752294.\n",
      "\n",
      " functioning-false-dim-4-randomperimeter-1000.json\n",
      "Reached the same LC as exact in 52 cases, havent reached in 198 cases, success rate 20.8.\n",
      "\n",
      " functioning-false-dim-3-randomperimeter-1000.json\n",
      "Reached the same LC as exact in 207 cases, havent reached in 356 cases, success rate 36.767317939609235.\n"
     ]
    }
   ],
   "source": [
    "for file in [ jsonfilename3T, jsonfilename4T, jsonfilename6T, jsonfilename10T,\n",
    "    jsonfilename10F, jsonfilename6F,jsonfilename4F, jsonfilename3F]:\n",
    "# for file in [jsonfilename3F]:\n",
    "    print(\"\\n\", file)\n",
    "    reached, pathways = descent(file)\n",
    "    c = reached.count(True)\n",
    "    d = reached.count(False)\n",
    "\n",
    "    print(\"Reached the same LC as exact in {} cases, havent reached in {} cases, success rate {}.\".format(c, d, float(100*c/(c+d))))\n"
   ]
  }
 ],
 "metadata": {
  "kernelspec": {
   "display_name": "SageMath 9.5",
   "language": "sage",
   "name": "sagemath"
  },
  "language_info": {
   "codemirror_mode": {
    "name": "ipython",
    "version": 3
   },
   "file_extension": ".py",
   "mimetype": "text/x-python",
   "name": "python",
   "nbconvert_exporter": "python",
   "pygments_lexer": "ipython3",
   "version": "3.10.6"
  }
 },
 "nbformat": 4,
 "nbformat_minor": 5
}
