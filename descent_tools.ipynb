{
 "cells": [
  {
   "cell_type": "code",
   "execution_count": 54,
   "id": "c78d5dc4",
   "metadata": {
    "vscode": {
     "languageId": "python"
    }
   },
   "outputs": [],
   "source": [
    "%run closest_versus_minimal_tools.ipynb"
   ]
  },
  {
   "cell_type": "code",
   "execution_count": 55,
   "id": "fc785d44",
   "metadata": {
    "vscode": {
     "languageId": "python"
    }
   },
   "outputs": [],
   "source": [
    "import itertools\n",
    "\n",
    "\n",
    "def descent(jsonfilename):\n",
    "    cases = from_json(jsonfilename)\n",
    "    reached = []\n",
    "    pathways = []\n",
    "    for case in cases:\n",
    "        r, pathway = descent_single(case)\n",
    "        reached.append(r)\n",
    "        pathways.append(pathway)\n",
    "    return reached, pathways\n",
    "\n",
    "\n",
    "\n",
    "def descent_single(case):\n",
    "    pathway = []\n",
    "    B, lc_cube, lc_LLL = case[\"B\"], case[\"lincomb_cube\"], case[\"lincomb_LLL\"]        \n",
    "    pathway.append(lc_cube)\n",
    "    minimal = evaluate_norms_at_cube(cube_points(lc_cube), B)[0][1]\n",
    "    center = minimal\n",
    "    central_norm = (vector(minimal)*matrix(B)).norm().n()\n",
    "    while True :\n",
    "        pathway.append(center)\n",
    "        big_cube = big_cube_points(minimal)\n",
    "        bigCubeMinimum = evaluate_norms_at_cube(big_cube, B)[0][1]\n",
    "\n",
    "        # If I got stuck in a local minimum, end with fail status\n",
    "        if center == bigCubeMinimum:\n",
    "            reached = False\n",
    "            break # FIXME this part is faulty I believe\n",
    "\n",
    "        # If I reached the lcLLL, end with success status\n",
    "        elif bigCubeMinimum == lc_LLL:\n",
    "            pathway.append(bigCubeMinimum)\n",
    "            reached = True\n",
    "            break\n",
    "\n",
    "        # Else, continue with the descent\n",
    "        center = bigCubeMinimum\n",
    "    pathway.append(lc_LLL)\n",
    "    return reached, pathway\n",
    "\n",
    "\n",
    "\n",
    "\n",
    "def big_cube_points(int_combination):\n",
    "    points = []\n",
    "    for i in range((len(int_combination))):\n",
    "            dupe = int_combination[:]\n",
    "            dupe[i] += 1\n",
    "            points.append(copy(dupe))\n",
    "            dupe[i] -= 2\n",
    "            points.append(copy(dupe))\n",
    "    points = [list(map(lambda x : int(x), point)) for point in points]\n",
    "    return points\n",
    "\n",
    "\n",
    "\n",
    "\n",
    "def vector_difference(u, v):\n",
    "    difference = 0\n",
    "    for a, b in zip(u, v):\n",
    "        difference += abs(a - b)\n",
    "    return difference\n",
    "\n",
    "\n",
    "# This is just experimental function to see if more flexibility with the bigger cube gives better results. (I didnt)\n",
    "\n",
    "def BIG_big_cube_points(point):\n",
    "    neighbors = []\n",
    "    n = len(point)\n",
    "\n",
    "    # Generate all possible combinations of -1, 0, and 1 for each dimension\n",
    "    directions = list(itertools.product([-1, 0, 1], repeat=n))\n",
    "\n",
    "    # Remove the combination with all zeros, as this corresponds to the input point itself\n",
    "    directions.remove(tuple([0] * n))\n",
    "\n",
    "    # Generate neighboring points by adding each direction to the input point\n",
    "    for direction in directions:\n",
    "        neighbor = [point[i] + direction[i] for i in range(n)]\n",
    "        neighbors.append(neighbor)\n",
    "\n",
    "    return neighbors\n",
    "\n"
   ]
  },
  {
   "cell_type": "markdown",
   "id": "8fa66c56",
   "metadata": {},
   "source": [
    "What if I start the ascent in the closest point? It doesnt make much sense, as I am not able to compute the closest point without knowledge of the LLL linear combination, but im just curious rn."
   ]
  },
  {
   "cell_type": "code",
   "execution_count": 59,
   "id": "93457805",
   "metadata": {
    "vscode": {
     "languageId": "python"
    }
   },
   "outputs": [],
   "source": [
    "def descent_from_closest(jsonfilename):\n",
    "    cases = from_json(jsonfilename)\n",
    "    reached = 0\n",
    "    for case in cases:\n",
    "        B, lc_cube, lc_LLL = case[\"B\"], case[\"lincomb_cube\"], case[\"lincomb_LLL\"]\n",
    "        minimal =  closest_point_in_cube(lc_cube, lc_LLL)\n",
    "        center = minimal\n",
    "        central_norm = (vector(minimal)*matrix(B)).norm().n()\n",
    "        while True :\n",
    "            big_cube = big_cube_points(minimal)\n",
    "            bigCubeMinimum = evaluate_norms_at_cube(big_cube, B)[0][1]\n",
    "            if center == bigCubeMinimum:\n",
    "                break\n",
    "            if bigCubeMinimum == lc_LLL:\n",
    "                reached += 1\n",
    "            center = bigCubeMinimum\n",
    "    return reached, len(cases) - reached\n"
   ]
  },
  {
   "cell_type": "code",
   "execution_count": 61,
   "id": "a77eaa2e",
   "metadata": {
    "vscode": {
     "languageId": "python"
    }
   },
   "outputs": [],
   "source": [
    "# This part of code is meant to generate the precise points the algorithm took during the descent. \n",
    "\n",
    "reached, pathways = descent(\"matrices3x3-600instances.json\")\n",
    "\n",
    "\n",
    "import matplotlib.pyplot as plt\n",
    "\n",
    "def different_components(pathway):\n",
    "    diff_indices = set(range(len(pathway[0])))\n",
    "    \n",
    "    for i in range(len(pathway[0])):\n",
    "        unique_values = {point[i] for point in pathway}\n",
    "        if len(unique_values) == 1:\n",
    "            diff_indices.remove(i)\n",
    "            break\n",
    "\n",
    "    return list(diff_indices)\n",
    "\n",
    "def plot_pathway(pathway, result):\n",
    "    '''\n",
    "    Plots the pathway of the descent algorithm in following manner:\n",
    "\n",
    "    red dot - lcCube\n",
    "    blue small dots - pathway of the descent\n",
    "    blue big dot - end of the descent, if not seen the descent ended successfully\n",
    "    orange big dot - lcLLL\n",
    "    '''\n",
    "    diff_indices = different_components(pathway)\n",
    "\n",
    "    x = [point[diff_indices[0]] for point in pathway]\n",
    "    y = [point[diff_indices[1]] for point in pathway]\n",
    "    \n",
    "    # Create the plot\n",
    "    plt.scatter(x[-1], y[-1], color='orange',s=70)  # Highlight the last point lcLLL in green\n",
    "    plt.scatter(x[1:-1], y[1:-1], color='blue',s=10)\n",
    "    plt.scatter(x[0], y[0], color='red')  # Highlight the first point lcCUBE in red\n",
    "\n",
    "    # Add description next to the red point\n",
    "    description = f\"({x[0]:.2f}, {y[0]:.2f})\"\n",
    "    plt.text(x[0] + 0.1, y[0] - 0.1, description)\n",
    "\n",
    "    # Add gridlines corresponding to integers\n",
    "    plt.grid(True, which='both')\n",
    "\n",
    "    # Set axis ticks to integers only\n",
    "    plt.xticks(range(int(min(x)) - 1, int(max(x)) + 2))\n",
    "    plt.yticks(range(int(min(y)) - 1, int(max(y)) + 2))\n",
    "\n",
    "    # Show the plot\n",
    "    print(result)\n",
    "    plt.show()"
   ]
  }
 ],
 "metadata": {
  "kernelspec": {
   "display_name": "SageMath 9.5",
   "language": "sage",
   "name": "sagemath"
  },
  "language_info": {
   "codemirror_mode": {
    "name": "ipython",
    "version": 3
   },
   "file_extension": ".py",
   "mimetype": "text/x-python",
   "name": "sage",
   "nbconvert_exporter": "python",
   "pygments_lexer": "ipython3",
   "version": "3.10.6"
  }
 },
 "nbformat": 4,
 "nbformat_minor": 5
}
