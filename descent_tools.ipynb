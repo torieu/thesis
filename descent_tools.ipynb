{
 "cells": [
  {
   "cell_type": "code",
   "execution_count": 23,
   "id": "c78d5dc4",
   "metadata": {},
   "outputs": [],
   "source": [
    "\n",
    "%run closest_versus_minimal_tools.ipynb\n"
   ]
  },
  {
   "cell_type": "code",
   "execution_count": 2,
   "id": "fc785d44",
   "metadata": {},
   "outputs": [],
   "source": [
    "import matplotlib.pyplot as plt\n"
   ]
  },
  {
   "cell_type": "code",
   "execution_count": 25,
   "id": "a77eaa2e",
   "metadata": {},
   "outputs": [],
   "source": [
    "# # This part of code is meant to generate the precise points the algorithm took during the descent. \n",
    "\n",
    "\n",
    "# import matplotlib.pyplot as plt\n",
    "\n",
    "\n",
    "\n",
    "# def plot_pathway(pathway, result):\n",
    "#     '''\n",
    "#     Plots the pathway of the descent algorithm in following manner:\n",
    "\n",
    "#     red dot - lcCube\n",
    "#     blue small dots - pathway of the descent\n",
    "#     blue big dot - end of the descent, if not seen the descent ended successfully\n",
    "#     orange big dot - lcLLL\n",
    "#     '''\n",
    "#     diff_indices = different_components(pathway)\n",
    "\n",
    "#     x_pathway = [point[diff_indices[0]] for point in pathway]\n",
    "#     y_pathway = [point[diff_indices[1]] for point in pathway]\n",
    "    \n",
    "#     # Create the plot\n",
    "#     plt.scatter(x_pathway[-1],y_pathway[-1], color='orange',s=70)  # Highlight the last point lcLLL in green\n",
    "#     plt.scatter(x_pathway[1:-1],y_pathway[1:-1], color='blue',s=10)\n",
    "#     plt.scatter(x_pathway[0],y_pathway[0], color='red')  # Highlight the first point lcCUBE in red\n",
    "\n",
    "#     # Add description next to the red point\n",
    "#     description = f\"({x_pathway[0]:.2f}, {y[0]:.2f})\"\n",
    "#     plt.text(x_pathway[0] + 0.1,y_pathway[0] - 0.1, description)\n",
    "\n",
    "#     # Add descriptions to the blue points\n",
    "#     for i in range(1, len(x) - 1):\n",
    "#         description = f\"({x_pathway[i]:.2f}, {y[i]:.2f})\"\n",
    "#         plt.text(x_pathway[i] + 0.1,y_pathway[i] - 0.1, description)\n",
    "\n",
    "#     # Add gridlines corresponding to integers\n",
    "#     plt.grid(True, which='both')\n",
    "\n",
    "#     # Set axis ticks to integers only\n",
    "#     plt.xticks(range(int(min(x)) - 1, int(max(x)) + 2))\n",
    "#     plt.yticks(range(int(min(y)) - 1, int(max(y)) + 2))\n",
    "\n",
    "#     # Show the plot\n",
    "#     print(\"plot_pathway: reached LLL?\", result)\n",
    "    \n",
    "#     plt.show()"
   ]
  },
  {
   "cell_type": "code",
   "execution_count": 36,
   "id": "511cbb3b",
   "metadata": {},
   "outputs": [],
   "source": []
  },
  {
   "cell_type": "code",
   "execution_count": 27,
   "id": "aafae0e3",
   "metadata": {},
   "outputs": [],
   "source": [
    "\n",
    "\n",
    "\n",
    "def generate_nearby_integer_points(lcCube, exception_index, dist):\n",
    "    '''\n",
    "    Generate nearby integer points of lcCube within a given distance, excluding a specific index.\n",
    "\n",
    "    INPUTS:\n",
    "        lcCube (list): The lcCube point represented as a list of coordinates.\n",
    "        exception_index (int): The index of the coordinate to exclude from the calculation.\n",
    "        dist (int): The maximum distance to generate nearby integer points.\n",
    "    '''\n",
    "    if dist<2:\n",
    "        return ValueError(\"Neighborhood insufficiently large.\")\n",
    "\n",
    "    n = len(lcCube)\n",
    "    nearby_points = []\n",
    "    \n",
    "    # Calculate the range of possible integer coordinates for each dimension, except at index ind\n",
    "    ranges = [range(int(round(coord) - dist + 1), int(round(coord) + dist)) if i != exception_index else [lcCube[exception_index]] for i, coord in enumerate(lcCube)]\n",
    "\n",
    "    # Generate all possible combinations of integer coordinates within the ranges\n",
    "    coordinate_combinations = list(itertools.product(*ranges))\n",
    "\n",
    "    for point in coordinate_combinations:\n",
    "        total_diff = sum(abs(lcCube[i] - point[i]) for i in range(n))\n",
    "        if total_diff < dist:\n",
    "            nearby_points.append(list(point))\n",
    "    \n",
    "    return nearby_points\n",
    "\n",
    "\n",
    "def remove_coordinate(index, points, lcCube, lcLLL):\n",
    "    '''\n",
    "    Remove a coordinate from a list of points, lcCube, and lcLLL at the specified index.\n",
    "    '''\n",
    "    filtered_points = [remove_coordinate_single(index, point) for point in points]\n",
    "    lcCubeRemoved = remove_coordinate_single(index, lcCube)\n",
    "    lcLLLRemoved = remove_coordinate_single(index, lcLLL)\n",
    "    return filtered_points, lcCubeRemoved, lcLLLRemoved\n",
    "\n",
    "\n",
    "def remove_coordinate_single(index, point):\n",
    "    '''\n",
    "    Remove a coordinate from a single point at the specified index.\n",
    "    INPUTS:\n",
    "        index (int): The index of the coordinate to be removed.\n",
    "        point (list): The point represented as a list of coordinates.\n",
    "    '''\n",
    "    point_removed = point[:]\n",
    "    point_removed.pop(index)\n",
    "    return point_removed"
   ]
  },
  {
   "cell_type": "code",
   "execution_count": 31,
   "id": "90b3234b",
   "metadata": {},
   "outputs": [
    {
     "name": "stdout",
     "output_type": "stream",
     "text": [
      "[[1, 6], [2, 5], [2, 6], [1, 5]]\n",
      "[[3, -11, 12], [3, -10, 12], [3, -11, 13], [3, -10, 13]]\n"
     ]
    }
   ],
   "source": [
    "from math import floor, ceil\n",
    "\n",
    "def small_cube(floats):\n",
    "    n = len(floats)\n",
    "    seen_combinations = set()  \n",
    "    for i in range(2**n):\n",
    "        combination = []\n",
    "        for j in range(n):\n",
    "            if i & (1 << j):\n",
    "                combination.append(ceil(floats[j]))\n",
    "            else:\n",
    "                combination.append(floor(floats[j]))\n",
    "        seen_combinations.add(tuple(combination))  # Convert list to tuple for hashability\n",
    "    return [list(comb) for comb in seen_combinations]\n",
    "\n",
    "# Example\n",
    "# floats = [1.4, 5.6]\n",
    "# unique_roundings = generate_roundings_no_duplicates(floats)\n",
    "# print(unique_roundings)\n",
    "\n",
    "\n",
    "\n",
    "# # # # Example usage\n",
    "# # result = generate_roundings_no_duplicates([3.0, -10.320968627929688, 12.099395751953125])\n",
    "# print(result)\n",
    "\n",
    "\n"
   ]
  },
  {
   "cell_type": "code",
   "execution_count": 37,
   "id": "67810c1c",
   "metadata": {},
   "outputs": [
    {
     "name": "stdout",
     "output_type": "stream",
     "text": [
      "[[2, 5], [0, 5], [1, 6], [1, 4]]\n"
     ]
    }
   ],
   "source": [
    "def generate_plus_minus_ones(numbers):\n",
    "    \"\"\"\n",
    "    Generates all combinations of the given numbers with +-1 applied to each entry.\n",
    "\n",
    "    Args:\n",
    "    - numbers: List[int] - list of integers.\n",
    "\n",
    "    Returns:\n",
    "    - List[List[int]] - list of lists, each representing one combination.\n",
    "    \"\"\"\n",
    "    result = []\n",
    "    for i, num in enumerate(numbers):\n",
    "        # create copies of the original list with +1 and -1 applied to the current number\n",
    "        plus_one = numbers[:i] + [num + 1] + numbers[i+1:]\n",
    "        minus_one = numbers[:i] + [num - 1] + numbers[i+1:]\n",
    "        result.extend([plus_one, minus_one])\n",
    "    return result\n",
    "\n",
    "# example usage\n",
    "print(generate_plus_minus_ones([1, 5]))\n"
   ]
  }
 ],
 "metadata": {
  "kernelspec": {
   "display_name": "SageMath 9.5",
   "language": "sage",
   "name": "sagemath"
  },
  "language_info": {
   "codemirror_mode": {
    "name": "ipython",
    "version": 3
   },
   "file_extension": ".py",
   "mimetype": "text/x-python",
   "name": "python",
   "nbconvert_exporter": "python",
   "pygments_lexer": "ipython3",
   "version": "3.10.6"
  }
 },
 "nbformat": 4,
 "nbformat_minor": 5
}
