{
 "cells": [
  {
   "cell_type": "code",
   "execution_count": null,
   "id": "2228db58",
   "metadata": {
    "slideshow": {
     "slide_type": "slide"
    },
    "vscode": {
     "languageId": "python"
    }
   },
   "outputs": [],
   "source": [
    "from random import randint, seed\n",
    "\n",
    "dimension = 3\n",
    "perimeter = 50\n",
    "sensitivity = 1\n",
    "jsonfilename = \"dummyfile.json\"\n",
    "\n",
    "%run generate_matrices_tools.ipynb"
   ]
  },
  {
   "attachments": {},
   "cell_type": "markdown",
   "id": "7ea6f785",
   "metadata": {
    "tags": []
   },
   "source": [
    "# Generating new examples\n",
    "\n",
    "This notebook's purpose is to generate new examples of *dysfunctional matrices* - matrices for which the cube algorithm gives different result than the LLL algorithm. For now, this code generates only square matrices. It returns a json file containing the *dysfunctional* matrices and their core parameters.\n",
    "\n",
    "The generating function takes in parameters above.\n",
    "\n",
    "`dimension`: the shape of the matrix\n",
    "\n",
    "`perimeter`: defines an interval `[- perimeter, perimeter]` for the integers inside the matrix\n",
    "\n",
    "`sensitivity`: lol i forgot\n",
    "\n",
    "`jsonfilename`: name of the ouput file\n"
   ]
  },
  {
   "cell_type": "code",
   "execution_count": null,
   "id": "c74904bc",
   "metadata": {
    "vscode": {
     "languageId": "python"
    }
   },
   "outputs": [],
   "source": [
    "# How many matrices are dysfunctional?\n",
    "\n",
    "iterations = 2000\n",
    "dim = 100\n",
    "perimeter = 200\n",
    "print(\"dimension: \", dim)\n",
    "dysfunctional = generate_new_examples(iterations, printing=False, functioning=False)\n",
    "print(\"There's {} dysfunctional matrices of dimension {} out of total {} instances, percent: {}\". format(dysfunctional, dim, iterations, float(100*dysfunctional/iterations)))\n"
   ]
  }
 ],
 "metadata": {
  "kernelspec": {
   "display_name": "SageMath 9.5",
   "language": "sage",
   "name": "sagemath"
  },
  "language_info": {
   "codemirror_mode": {
    "name": "ipython",
    "version": 3
   },
   "file_extension": ".py",
   "mimetype": "text/x-python",
   "name": "sage",
   "nbconvert_exporter": "python",
   "pygments_lexer": "ipython3",
   "version": "3.10.6"
  }
 },
 "nbformat": 4,
 "nbformat_minor": 5
}
