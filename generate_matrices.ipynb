{
 "cells": [
  {
   "cell_type": "code",
   "execution_count": 14,
   "id": "2228db58",
   "metadata": {
    "slideshow": {
     "slide_type": "slide"
    }
   },
   "outputs": [
    {
     "name": "stdout",
     "output_type": "stream",
     "text": [
      "[  7  -7  11  42]\n",
      "[-39  -9  20 -42]\n",
      "[-19 -22  20  42]\n",
      "[-26 -19 -21   3] :  B\n",
      "[ 1983 -1754  2005  -154]\n",
      "[-1754  3766  -425   639]\n",
      "[ 2005  -425  3009   618]\n",
      "[ -154   639   618  1487] :  G\n",
      "(-9, -3, 6, -2) :  lincomb_LLL\n",
      "(2.0000, 0.70442, -1.3268, 0.45584) :  lincomb_cube\n",
      "11.180 :  LLL.norm\n",
      "0.22908 :  cube.norm\n",
      "(-8, -4, 3, -6) :  sv_LLL\n",
      "(-0.11497, 0.18878, -0.020355, 0.056618) :  sv_cube\n",
      "\n"
     ]
    }
   ],
   "source": [
    "from random import randint, seed\n",
    "\n",
    "dimension = 4\n",
    "perimeter = 50\n",
    "sensitivity = 1\n",
    "jsonfilename = \"matrices4x4.json\"\n",
    "range_for_K = 4\n",
    "%run generate_matrices_tools.ipynb"
   ]
  },
  {
   "cell_type": "code",
   "execution_count": 15,
   "id": "f81895cf",
   "metadata": {},
   "outputs": [
    {
     "data": {
      "text/plain": [
       "10"
      ]
     },
     "execution_count": 15,
     "metadata": {},
     "output_type": "execute_result"
    }
   ],
   "source": [
    "generate_new_examples(10, dimension, perimeter, range_for_K, False, False)"
   ]
  },
  {
   "attachments": {},
   "cell_type": "markdown",
   "id": "7ea6f785",
   "metadata": {
    "tags": []
   },
   "source": [
    "# Generating new examples\n",
    "\n",
    "This notebook's purpose is to generate new examples of *dysfunctional matrices* - matrices for which the cube algorithm gives different result than the LLL algorithm. For now, this code generates only square matrices. It returns a json file containing the *dysfunctional* matrices and their core parameters.\n",
    "\n",
    "The generating function takes in parameters above.\n",
    "\n",
    "`dimension`: the shape of the matrix\n",
    "\n",
    "`perimeter`: defines an interval `[- perimeter, perimeter]` for the integers inside the matrix\n",
    "\n",
    "`sensitivity`: lol i forgot\n",
    "\n",
    "`jsonfilename`: name of the ouput file\n"
   ]
  },
  {
   "cell_type": "code",
   "execution_count": 16,
   "id": "c74904bc",
   "metadata": {},
   "outputs": [
    {
     "name": "stdout",
     "output_type": "stream",
     "text": [
      "dimension:  100\n"
     ]
    },
    {
     "ename": "TypeError",
     "evalue": "generate_new_examples() missing 1 required positional argument: 'rng'",
     "output_type": "error",
     "traceback": [
      "\u001b[0;31m---------------------------------------------------------------------------\u001b[0m",
      "\u001b[0;31mTypeError\u001b[0m                                 Traceback (most recent call last)",
      "\u001b[0;32m/tmp/ipykernel_57515/198939506.py\u001b[0m in \u001b[0;36m<module>\u001b[0;34m\u001b[0m\n\u001b[1;32m      5\u001b[0m \u001b[0mperimeter\u001b[0m \u001b[0;34m=\u001b[0m \u001b[0mInteger\u001b[0m\u001b[0;34m(\u001b[0m\u001b[0;36m200\u001b[0m\u001b[0;34m)\u001b[0m\u001b[0;34m\u001b[0m\u001b[0;34m\u001b[0m\u001b[0m\n\u001b[1;32m      6\u001b[0m \u001b[0mprint\u001b[0m\u001b[0;34m(\u001b[0m\u001b[0;34m\"dimension: \"\u001b[0m\u001b[0;34m,\u001b[0m \u001b[0mdim\u001b[0m\u001b[0;34m)\u001b[0m\u001b[0;34m\u001b[0m\u001b[0;34m\u001b[0m\u001b[0m\n\u001b[0;32m----> 7\u001b[0;31m \u001b[0mdysfunctional\u001b[0m \u001b[0;34m=\u001b[0m \u001b[0mgenerate_new_examples\u001b[0m\u001b[0;34m(\u001b[0m\u001b[0miterations\u001b[0m\u001b[0;34m,\u001b[0m \u001b[0mdim\u001b[0m\u001b[0;34m,\u001b[0m \u001b[0mperimeter\u001b[0m\u001b[0;34m,\u001b[0m \u001b[0mprinting\u001b[0m\u001b[0;34m=\u001b[0m\u001b[0;32mFalse\u001b[0m\u001b[0;34m,\u001b[0m \u001b[0mfunctioning\u001b[0m\u001b[0;34m=\u001b[0m\u001b[0;32mFalse\u001b[0m\u001b[0;34m)\u001b[0m\u001b[0;34m\u001b[0m\u001b[0;34m\u001b[0m\u001b[0m\n\u001b[0m\u001b[1;32m      8\u001b[0m \u001b[0mprint\u001b[0m\u001b[0;34m(\u001b[0m\u001b[0;34m\"There's {} dysfunctional matrices of dimension {} out of total {} instances, percent: {}\"\u001b[0m\u001b[0;34m.\u001b[0m \u001b[0mformat\u001b[0m\u001b[0;34m(\u001b[0m\u001b[0mdysfunctional\u001b[0m\u001b[0;34m,\u001b[0m \u001b[0mdim\u001b[0m\u001b[0;34m,\u001b[0m \u001b[0miterations\u001b[0m\u001b[0;34m,\u001b[0m \u001b[0mfloat\u001b[0m\u001b[0;34m(\u001b[0m\u001b[0mInteger\u001b[0m\u001b[0;34m(\u001b[0m\u001b[0;36m100\u001b[0m\u001b[0;34m)\u001b[0m\u001b[0;34m*\u001b[0m\u001b[0mdysfunctional\u001b[0m\u001b[0;34m/\u001b[0m\u001b[0miterations\u001b[0m\u001b[0;34m)\u001b[0m\u001b[0;34m)\u001b[0m\u001b[0;34m)\u001b[0m\u001b[0;34m\u001b[0m\u001b[0;34m\u001b[0m\u001b[0m\n",
      "\u001b[0;31mTypeError\u001b[0m: generate_new_examples() missing 1 required positional argument: 'rng'"
     ]
    }
   ],
   "source": [
    "# How many matrices are dysfunctional?\n",
    "\n",
    "iterations = 2000\n",
    "dim = 100\n",
    "perimeter = 200\n",
    "print(\"dimension: \", dim)\n",
    "dysfunctional = generate_new_examples(iterations, dim, perimeter, printing=False, functioning=False)\n",
    "print(\"There's {} dysfunctional matrices of dimension {} out of total {} instances, percent: {}\". format(dysfunctional, dim, iterations, float(100*dysfunctional/iterations)))\n"
   ]
  }
 ],
 "metadata": {
  "kernelspec": {
   "display_name": "SageMath 9.5",
   "language": "sage",
   "name": "sagemath"
  },
  "language_info": {
   "codemirror_mode": {
    "name": "ipython",
    "version": 3
   },
   "file_extension": ".py",
   "mimetype": "text/x-python",
   "name": "python",
   "nbconvert_exporter": "python",
   "pygments_lexer": "ipython3",
   "version": "3.10.6"
  }
 },
 "nbformat": 4,
 "nbformat_minor": 5
}
