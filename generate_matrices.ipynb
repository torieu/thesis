{
 "cells": [
  {
   "cell_type": "code",
   "execution_count": 1,
   "id": "2228db58",
   "metadata": {
    "slideshow": {
     "slide_type": "slide"
    }
   },
   "outputs": [],
   "source": [
    "d = 7\n",
    "runs = 1000\n",
    "\n",
    "from generate_matrices_tools import *\n"
   ]
  },
  {
   "cell_type": "code",
   "execution_count": 9,
   "id": "f81895cf",
   "metadata": {},
   "outputs": [
    {
     "name": "stdout",
     "output_type": "stream",
     "text": [
      "B: [ 52 -70 -48 -62  73  16 -27]\n",
      "[ 71  20 -14  40 -72  60 -39]\n",
      "[ 26 -46  81  18 -66  96  18]\n",
      "[-37  17 -81  76 -97 -51  13]\n",
      "[ 69 -65 -21  70  52  40  -4]\n",
      "[ 81  66  20  14  92  91 -43]\n",
      "[ 30 100  -4  78  92  87 -11]\n",
      "G: [ 20066  -2759  -4200 -12186   9350   7097  -1679]\n",
      "[ -2759  17542  10322   5304   5505   7864   6331]\n",
      "[ -4200  10322  23573  -5197   4679   2832   -658]\n",
      "[-12186   5304  -5197  26174  -3773 -16555  -6662]\n",
      "[  9350   5505   4679  -3773  18647  10455   9422]\n",
      "[  7097   7864   2832 -16555  10455  30107  26896]\n",
      "[ -1679   6331   -658  -6662   9422  26896  33154]\n",
      "lincomb_LLL: (1, -20, 10, 22, -2, 32, -17)\n",
      "lincomb_cube: (1.0000, -13.343, 6.7580, 14.871, -1.5533, 21.161, -11.004)\n",
      "sv_LLL: (22, -14, 10, -28, -5, 7, 38)\n",
      "sv_cube: (6.8721, 2.2207, -18.465, -14.724, -1.1709, 11.921, 25.678)\n",
      "lincomb_diff: (0.00000, -6.6572, 3.2420, 7.1295, -0.44668, 10.839, -5.9957)\n",
      "LLL.norm: 55.5157470703125\n",
      "cube.norm: 37.58648681640625\n",
      "\n"
     ]
    }
   ],
   "source": [
    "dysfunctional = generate_new_examples(runs, dimension = d, perimeter = 100, sensitivity = 10, jsonfilename = \"dummyfile.json\",  printing=True, functioning=False)"
   ]
  },
  {
   "cell_type": "code",
   "execution_count": 10,
   "id": "c74904bc",
   "metadata": {},
   "outputs": [
    {
     "name": "stdout",
     "output_type": "stream",
     "text": [
      "There's 1 dysfunctional matrices of dimension 7 out of total 1000 instances, percent: 0.1\n"
     ]
    }
   ],
   "source": [
    "print(\"There's {} dysfunctional matrices of dimension {} out of total {} instances, percent: {}\". format(dysfunctional, d, runs, float(100*dysfunctional/runs)))\n"
   ]
  }
 ],
 "metadata": {
  "kernelspec": {
   "display_name": "SageMath 9.5",
   "language": "sage",
   "name": "sagemath"
  },
  "language_info": {
   "codemirror_mode": {
    "name": "ipython",
    "version": 3
   },
   "file_extension": ".py",
   "mimetype": "text/x-python",
   "name": "python",
   "nbconvert_exporter": "python",
   "pygments_lexer": "ipython3",
   "version": "3.10.6"
  }
 },
 "nbformat": 4,
 "nbformat_minor": 5
}
