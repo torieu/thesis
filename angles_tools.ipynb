{
 "cells": [
  {
   "cell_type": "code",
   "execution_count": 1,
   "id": "e44fb1fd",
   "metadata": {},
   "outputs": [],
   "source": [
    "%run generate_matrices_tools.ipynb \n",
    "\n",
    "dimension = 3\n",
    "perimeter = 50\n",
    "sensitivity = 1\n",
    "jsonfilename = \"matrices3x3-600instances.json\"\n",
    "\n",
    "sensitivity = 10"
   ]
  },
  {
   "cell_type": "markdown",
   "id": "d773dd7e",
   "metadata": {},
   "source": [
    "# Idea: small angles between vectors\n",
    "Based on [this video](https://www.youtube.com/watch?v=zsEj28SFyCs) (8. - 11. minuta) se zdá, že zaokrouhlování nebude fungovat při vektorech, které spolu svírají jen nějaký malý úhel."
   ]
  },
  {
   "cell_type": "code",
   "execution_count": 2,
   "id": "5a16ea4e",
   "metadata": {},
   "outputs": [],
   "source": [
    "def detect_angles(jsonfilename):\n",
    "    cases = from_json(jsonfilename)\n",
    "    results = [] \n",
    "    for case in cases:\n",
    "        matrix = case[\"B\"] # represented by a list\n",
    "        result = detect_angles_inner(matrix)\n",
    "        results.append(result)\n",
    "    return sensitivity, results.count([0,15]),len(results) - results.count([0,15]), len(results) \n",
    "    \n",
    "def detect_angles_inner(matrix):\n",
    "    result = [0, 0] # [less than sens, more than sens]\n",
    "    for i in range(len(matrix)): # For index in a lattice basis\n",
    "        for j in range(i + 1, len(matrix)): # For indexed after i in a lattice basis\n",
    "            u = vector(matrix[i])\n",
    "            v = vector(matrix[j])\n",
    "            an = angle(u, v)\n",
    "            # print(u.norm().n(6), v.norm().n(6), \"angle:\", angle(u, v).n())\n",
    "            if an <= sensitivity:\n",
    "                result[0] += 1\n",
    "            else:\n",
    "                result[1] += 1    \n",
    "    return result\n",
    "\n",
    "def angle(u, v):\n",
    "    angle1 = (arccos((u.dot_product(v))/(norm(u) * norm(v)))*180/pi).n()\n",
    "    return min(angle1, 180 - angle1)\n",
    "\n",
    "\n"
   ]
  },
  {
   "attachments": {},
   "cell_type": "markdown",
   "id": "1e7d7068",
   "metadata": {},
   "source": [
    "## Checking the non-abnormal matrices\n",
    "\n"
   ]
  },
  {
   "cell_type": "code",
   "execution_count": 3,
   "id": "1bc6256d",
   "metadata": {},
   "outputs": [],
   "source": [
    "iterations = 10000\n",
    "\n",
    "def angles_check(jsonfilename) -> None:\n",
    "    \"\"\"\n",
    "    Check whether the small angle sitautions happen even with matrices for which the cube algorithm returns correct result.\n",
    "    In this process, new dataset of matrices is created, this may be optimized prolly, but im lazy rn. \n",
    "    \n",
    "    \"\"\"\n",
    "    cases = from_json(jsonfilename)\n",
    "    for case in cases:\n",
    "        B = case[\"B\"]\n",
    "        angles = detect_angles_inner(B)\n",
    "        print_angles(B)\n",
    "\n",
    "def print_angles(B) -> None:\n",
    "    print(B)\n",
    "    for i in range(len(B)): # For index in a lattice basis\n",
    "        for j in range(i + 1, len(B)): # For indexed after i in a lattice basis\n",
    "                u = vector(B[i])\n",
    "                v = vector(B[j])\n",
    "                an = angle(u, v)\n",
    "                print(u,\"\\t\", u.norm().n(digits=3),\"\\t\", v,\"\\t\", v.norm().n(digits=3),\"\\t\", \"angle:\", angle(u, v).n())\n",
    "    print()"
   ]
  }
 ],
 "metadata": {
  "kernelspec": {
   "display_name": "SageMath 9.5",
   "language": "sage",
   "name": "sagemath"
  },
  "language_info": {
   "codemirror_mode": {
    "name": "ipython",
    "version": 3
   },
   "file_extension": ".py",
   "mimetype": "text/x-python",
   "name": "python",
   "nbconvert_exporter": "python",
   "pygments_lexer": "ipython3",
   "version": "3.10.6"
  }
 },
 "nbformat": 4,
 "nbformat_minor": 5
}
