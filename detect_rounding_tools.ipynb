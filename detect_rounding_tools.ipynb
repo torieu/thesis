{
 "cells": [
  {
   "cell_type": "code",
   "execution_count": 1,
   "id": "def71539",
   "metadata": {},
   "outputs": [],
   "source": [
    "%run generate_matrices_tools.ipynb     # importing functions"
   ]
  },
  {
   "cell_type": "markdown",
   "id": "3a4dab83",
   "metadata": {},
   "source": [
    "# Rounding detection\n",
    "\n",
    "This notebook's purpose is to test a following hypothesis: given a \"cube\" defined by real-valued coordinates from the cube algorithm, assume a rounding of these coordinates, which are in some sense *nearly* an integer. We test whether this rounding gives us the desired coordinate of the linear combination given by the LLL. \n",
    "\n",
    "Note: this may not work always, as sometimes the jump is greater than 1."
   ]
  },
  {
   "cell_type": "code",
   "execution_count": 19,
   "id": "b7a8202d",
   "metadata": {},
   "outputs": [],
   "source": [
    "def detect_rounding(jsonfilename):\n",
    "    '''\n",
    "    OUTPUT: dict in the form \\{ limit: [succesful attempts, unsuc att.],...\\}\n",
    "    '''\n",
    "    cases = from_json(jsonfilename)\n",
    "    stats = {}\n",
    "    for limit in limits:\n",
    "        stats[limit] = [0, 0, 0, 0] \n",
    "    for case in cases:\n",
    "        for i in range(len(case[\"lincomb_cube\"])):\n",
    "            \n",
    "            #skip equal components\n",
    "            if case[\"lincomb_diff\"][i] == 0:\n",
    "                continue\n",
    "                \n",
    "            for limit in limits:\n",
    "                num_cube = case[\"lincomb_cube\"][i]\n",
    "                num_LLL = case[\"lincomb_LLL\"][i]\n",
    "                is_near_int, direction =  is_nearest_integer(num_cube, limit)\n",
    "                if is_near_int: # if its almost an int\n",
    "                    if round(num_cube) == num_LLL: \n",
    "                        stats[limit] = increment(stats, limit, 0)                        # rounding lead directly to lcLLL\n",
    "                    else:\n",
    "                        print(num_LLL, \"\\t\",num_cube,\"\\t\", lcLLL_is_in_same_direction(direction, num_cube, num_LLL),\"\\t\",case[\"lincomb_cube\"])\n",
    "                        print(\"\\t\",\"\\t\",\"\\t\",\"\\t\",\"\\t\",\"\",case[\"lincomb_LLL\"])\n",
    "                        stats[limit] = increment(stats, limit, 1)                        # rounding didnt lead directly to lcLLL\n",
    "                        if lcLLL_is_in_same_direction(direction, num_cube, num_LLL):\n",
    "                            stats[limit] = increment(stats, limit, 2)                    # but it was in the same direction\n",
    "                        else: stats[limit] = increment(stats, limit, 3)\n",
    "    return stats\n",
    "\n",
    "def is_nearest_integer(num, tolerance):\n",
    "    nearest_int = round(num)\n",
    "    is_within_tolerance = abs(num - nearest_int) <= tolerance\n",
    "    if not is_within_tolerance:\n",
    "        return False, None\n",
    "    direction = \"up\" if num - nearest_int < 0 else \"down\"\n",
    "    return True, direction\n",
    "\n",
    "\n",
    "def increment(dic, limit, ind):\n",
    "    lst = [dic.get(limit,0)[0], dic.get(limit,0)[1],  dic.get(limit,0)[2],  dic.get(limit,0)[3]]\n",
    "    lst[ind] += 1\n",
    "    return lst\n",
    "\n",
    "def lcLLL_is_in_same_direction(direction, num_cube, num_LLL, ):\n",
    "    return abs(num_cube - num_LLL) - abs(round(num_cube) - num_LLL) > 0\n"
   ]
  }
 ],
 "metadata": {
  "kernelspec": {
   "display_name": "SageMath 9.0",
   "language": "sage",
   "name": "sagemath"
  },
  "language_info": {
   "codemirror_mode": {
    "name": "ipython",
    "version": 3
   },
   "file_extension": ".py",
   "mimetype": "text/x-python",
   "name": "python",
   "nbconvert_exporter": "python",
   "pygments_lexer": "ipython3",
   "version": "3.8.10"
  }
 },
 "nbformat": 4,
 "nbformat_minor": 5
}
